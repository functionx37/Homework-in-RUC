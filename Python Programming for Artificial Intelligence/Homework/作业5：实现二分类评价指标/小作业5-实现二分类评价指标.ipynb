{
 "cells": [
  {
   "cell_type": "markdown",
   "id": "78055c0f-f83c-4499-83e6-4535705be382",
   "metadata": {},
   "source": [
    "# 练习：实现二分类问题评价指标\n",
    "\n",
    "* y_true和y_pred均为numpy向量，分别代表标注值和预测值\n",
    "    * 1：正例\n",
    "    * 0：负例\n",
    "* 实现函数\n",
    "\n",
    "```python \n",
    "confusion_matrix\n",
    "accuracy\n",
    "precision\n",
    "recall\n",
    "f1\n",
    "```\n",
    "\n",
    "* 注意\n",
    "    * 对y_true和y_pred的大小和数值做合法性检查\n",
    "    * 对边界情况进行判断\n"
   ]
  },
  {
   "cell_type": "code",
   "execution_count": null,
   "id": "a317972e-9300-4f75-aa6d-ffb04f41e2cf",
   "metadata": {},
   "outputs": [],
   "source": [
    "import numpy as np\n",
    "\n",
    "class EvaluationMetrics(object):\n",
    "    \n",
    "    def confusion_matrix(self, y_true, y_pred):\n",
    "        #补全该方法\n",
    "        TP, FP, TN, FN = 0,0,0,0\n",
    "        for i,j in zip(y_true, y_pred):\n",
    "            if i == 1 and j == 1:\n",
    "                TP += 1\n",
    "            elif i == 0 and j == 0:\n",
    "                TN += 1\n",
    "            elif i == 1 and j == 0:\n",
    "                FN += 1\n",
    "            else:\n",
    "                FP += 1\n",
    "        return TP, FP, TN, FN\n",
    "    \n",
    "    def accuracy(self, y_true, y_pred):\n",
    "        #补全该方法\n",
    "        TP, FP, TN, FN = self.confusion_matrix(y_true, y_pred)\n",
    "        return (TP+TN)/(TP+TN+FP+FN)\n",
    "    \n",
    "    def precision(self, y_true, y_pred):\n",
    "        #补全该方法\n",
    "        TP, FP, TN, FN = self.confusion_matrix(y_true, y_pred)\n",
    "        return (TP)/(TP+FP)\n",
    "    \n",
    "    def recall(self, y_true, y_pred):\n",
    "        #补全该方法\n",
    "        TP, FP, TN, FN = self.confusion_matrix(y_true, y_pred)\n",
    "        return (TP)/(TP+FN)\n",
    "    \n",
    "    def f1(self, y_true, y_pred):\n",
    "        #补全该方法\n",
    "        return 2 * (self.precision(y_true, y_pred)*self.recall(y_true, y_pred)) / (self.precision(y_true, y_pred)+self.recall(y_true, y_pred))\n"
   ]
  },
  {
   "cell_type": "code",
   "execution_count": 9,
   "id": "002bbadc-f513-431a-8acb-a13c6f21ec0c",
   "metadata": {},
   "outputs": [
    {
     "name": "stdout",
     "output_type": "stream",
     "text": [
      "accuracy: 0.7\n",
      "precision: 0.6\n",
      "recall: 0.75\n",
      "f1: 0.6666666666666665\n"
     ]
    }
   ],
   "source": [
    "y_true = np.array([0, 1, 1, 0, 1, 1, 0, 0, 0, 0])\n",
    "y_pred = np.array([1, 1, 0, 1, 1, 1, 0, 0, 0, 0])\n",
    "metrics = EvaluationMetrics()\n",
    "\n",
    "print(\"accuracy: {}\".format(metrics.accuracy(y_true, y_pred)))\n",
    "print(\"precision: {}\".format(metrics.precision(y_true, y_pred)))\n",
    "print(\"recall: {}\".format(metrics.recall(y_true, y_pred)))\n",
    "print(\"f1: {}\".format(metrics.f1(y_true, y_pred)))\n"
   ]
  },
  {
   "cell_type": "code",
   "execution_count": 12,
   "id": "7d016a60-261f-42cb-a1c1-51b9892b4b8a",
   "metadata": {},
   "outputs": [
    {
     "name": "stdout",
     "output_type": "stream",
     "text": [
      "\t预测为正\t预测为负\n",
      "标注为正\t3\t1\n",
      "标注为负\t2\t4\n"
     ]
    }
   ],
   "source": [
    "tp, fp, tn, fn = metrics.confusion_matrix(y_true, y_pred)\n",
    "print(\"\\t预测为正\\t预测为负\")\n",
    "print(\"标注为正\\t{}\\t{}\".format(tp, fn)) \n",
    "print(\"标注为负\\t{}\\t{}\".format(fp, tn)) "
   ]
  },
  {
   "cell_type": "code",
   "execution_count": null,
   "id": "82cced1d-0108-42e9-887d-52bbe2c599eb",
   "metadata": {},
   "outputs": [],
   "source": []
  }
 ],
 "metadata": {
  "kernelspec": {
   "display_name": "Python 3 (ipykernel)",
   "language": "python",
   "name": "python3"
  },
  "language_info": {
   "codemirror_mode": {
    "name": "ipython",
    "version": 3
   },
   "file_extension": ".py",
   "mimetype": "text/x-python",
   "name": "python",
   "nbconvert_exporter": "python",
   "pygments_lexer": "ipython3",
   "version": "3.11.3"
  }
 },
 "nbformat": 4,
 "nbformat_minor": 5
}
