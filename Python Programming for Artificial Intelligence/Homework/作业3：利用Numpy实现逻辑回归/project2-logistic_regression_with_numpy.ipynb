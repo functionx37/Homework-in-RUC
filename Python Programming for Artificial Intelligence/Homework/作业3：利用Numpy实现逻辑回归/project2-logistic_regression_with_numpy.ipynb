{
 "cells": [
  {
   "cell_type": "markdown",
   "metadata": {},
   "source": [
    "# 作业: 逻辑回归\n",
    "\n",
    "## 作业要求：\n",
    "\n",
    "用numpy实现Logistic Regression类（补充cell 1中定义的LogisticRegression类），用梯度下降法训练\n",
    "\n",
    "1. 包括类的方法 loss = fit(X,Y) 函数，用于训练；输入：X为N * d维的训练数据，N为训练样本数，d为数据的维数；Y为N*1维的训练数据真实类别号；输出：loss为列表，包括每轮的损失函数值。\n",
    "\n",
    "2. 包括类的方法 y_pred, y_pred_label = predict(X) 函数，用于测试；输入： X为N * d维的测试数据， N为测试样本数；输出：y_pred维数为N * 1，为模型的预测（回归）值；y_pred_label维数为N * 1，为根据回归值得到的预测类别号\n",
    "\n",
    "3. 补充plotDecisioinBoundary函数，使其能够使用等高线图(contour）绘制出Logistic Regression模型的分类面。"
   ]
  },
  {
   "cell_type": "code",
   "execution_count": null,
   "metadata": {},
   "outputs": [],
   "source": [
    "import numpy as np\n",
    "\n",
    "class LogisticRegression(object):\n",
    "    def __init__(self, dim, learning_rate=0.01, max_iter=100, seed=None):\n",
    "        np.random.seed(seed)\n",
    "        self.lr = learning_rate\n",
    "        self.max_iter = max_iter  # 定义学习率和训练轮数\n",
    "        # 可在此处补充类的属性\n",
    "\n",
    "\n",
    "    #01\n",
    "        self.W = np.random.normal(0, 0.1, [dim+1,1])\n",
    "    def loss(self, P,Y):\n",
    "        return -np.mean(Y * np.log(P) + (1-Y) * np.log(1-P))\n",
    "    def gradient(self, X,P,Y):\n",
    "        return np.dot(X.T , (P - Y)) / X.shape[0]\n",
    "\n",
    "    def fit(self,X,Y):\n",
    "        # 请在此处补充类的方法：训练函数，返回每轮loss的列表\n",
    "\n",
    "\n",
    "        #02\n",
    "        loss = []\n",
    "        X = np.hstack((X,np.ones((X.shape[0],1))))\n",
    "        for i in range(self.max_iter):\n",
    "            Y_p = self.predict(X)[0]\n",
    "            loss.append(self.loss(Y_p, Y))\n",
    "            self.W = self.W - self.lr * self.gradient(X , Y_p, Y)\n",
    "        \n",
    "\n",
    "        return loss\n",
    "        \n",
    "    def predict(self,X): \n",
    "        # 请在此处补充类的方法：测试函数，返回对应X的预测值和预测类别列表    \n",
    "\n",
    "\n",
    "        #03\n",
    "        if X.shape[1] != self.W.shape[0]: \n",
    "            X = np.hstack((X, np.ones((X.shape[0], 1))))\n",
    "        Y_pred = 1 / (1 + np.exp(-np.dot(X,self.W)))\n",
    "        Y_pred_label = (Y_pred > 0.5).astype(int)\n",
    "\n",
    "\n",
    "        return Y_pred, Y_pred_label\n"
   ]
  },
  {
   "cell_type": "code",
   "execution_count": null,
   "metadata": {},
   "outputs": [],
   "source": [
    "import matplotlib.pyplot as plt\n",
    "\n",
    "\n",
    "def plotData(X,Y):\n",
    "    \"\"\"\n",
    "    使用红色+号表示正例，蓝色圆点表示负例，绘制数据集中正负例的分布情况\n",
    "    \"\"\"\n",
    "    plt.figure()\n",
    "    pos_idx = (Y==1);\n",
    "    # size m,1\n",
    "    pos_idx = pos_idx[:,0];\n",
    "    # size m, 这时才可用来索引某[一]个维度\n",
    "    neg_idx = (Y==0);\n",
    "    neg_idx = neg_idx[:,0];\n",
    "\n",
    "    plt.plot(X[pos_idx,0],X[pos_idx,1],'r+')\n",
    "    plt.plot(X[neg_idx,0],X[neg_idx,1],'bo')\n",
    "    \n",
    "def plotDecisioinBoundary(X, Y, regr):    \n",
    "    \"\"\"\n",
    "    在正负例分布图上进一步绘制出模型regr的分类界面\n",
    "    \"\"\"\n",
    "    # 先绘制正负例分布情况\n",
    "    plotData(X,Y)\n",
    "\n",
    "    # 绘制等高线图，在水平和垂直方向均有50个点\n",
    "    plot_num=50;\n",
    "    plot_num_2D=plot_num**2;\n",
    "\n",
    "    # 准备网格\n",
    "    x_plot = np.linspace(start=X[:,0].min(),stop=X[:,0].max(),num=plot_num)\n",
    "    y_plot = np.linspace(start=X[:,1].min(),stop=X[:,1].max(),num=plot_num)\n",
    "    X_plot,Y_plot = np.meshgrid(x_plot,y_plot)\n",
    "\n",
    "    # 请在此补充代码，计算regr模型在各个格点的预测概率，并构成一个形状和格点相同的P_matrix数组，绘制等高线图\n",
    "\n",
    "\n",
    "    #04\n",
    "    X_plot_points = np.c_[X_plot.ravel(),Y_plot.ravel()]\n",
    "    P_matrix = regr.predict(X_plot_points)[0]\n",
    "    P_matrix = P_matrix.reshape(X_plot.shape)\n",
    "   \n",
    "   \n",
    "    # 补充代码结束\n",
    "    plt.contour(X_plot,Y_plot,P_matrix,np.array([0.5]))\n",
    "    \n",
    "def test(y_pred, y_true):\n",
    "    true = 0.\n",
    "    for j in range(y_pred.shape[0]):\n",
    "        if y_true[j] == y_pred[j]:\n",
    "            true += 1\n",
    "    acc = true/y_pred.shape[0]\n",
    "    return acc"
   ]
  },
  {
   "cell_type": "code",
   "execution_count": 3,
   "metadata": {},
   "outputs": [
    {
     "name": "stdout",
     "output_type": "stream",
     "text": [
      "[[-1.12967052]\n",
      " [ 0.52586855]\n",
      " [-1.35378883]]\n"
     ]
    },
    {
     "name": "stderr",
     "output_type": "stream",
     "text": [
      "<ipython-input-1-009b3dd7d69a>:37: RuntimeWarning: divide by zero encountered in log\n",
      "  p2 = np.log(1-self._Logistic(X)).T.dot(1-Y)\n"
     ]
    },
    {
     "data": {
      "image/png": "[encoded data removed]",
      "text/plain": [
       "<Figure size 432x288 with 1 Axes>"
      ]
     },
     "metadata": {
      "needs_background": "light"
     },
     "output_type": "display_data"
    },
    {
     "name": "stdout",
     "output_type": "stream",
     "text": [
      "测试集上正确率:0.95\n"
     ]
    },
    {
     "data": {
      "text/plain": [
       "<Figure size 432x288 with 0 Axes>"
      ]
     },
     "metadata": {},
     "output_type": "display_data"
    },
    {
     "data": {
      "image/png": "[encoded data removed]",
      "text/plain": [
       "<Figure size 432x288 with 1 Axes>"
      ]
     },
     "metadata": {
      "needs_background": "light"
     },
     "output_type": "display_data"
    }
   ],
   "source": [
    "# 导入测试数据\n",
    "seed = 210404\n",
    "data_1 = np.load('data_for_logistic_regression_1.npz')\n",
    "x_train = data_1['x_train']\n",
    "y_train = data_1['y_train']\n",
    "x_test = data_1['x_test']\n",
    "y_test = data_1['y_test']\n",
    "dim = x_train.shape[1]\n",
    "\n",
    "# 训练逻辑回归模型\n",
    "regr = LogisticRegression(dim, learning_rate=0.01, max_iter=1000, seed=seed)\n",
    "loss = regr.fit(x_train, y_train)\n",
    "print(regr.W)\n",
    "# 打印损失\n",
    "plt.figure()\n",
    "plt.scatter(np.arange(len(loss)), loss, marker='o', c='green')\n",
    "plt.show()\n",
    "\n",
    "# 显示测试集中的分类界面\n",
    "plt.figure()\n",
    "plotDecisioinBoundary(x_test,y_test, regr)\n",
    "\n",
    "y_pred,y_pred_label = regr.predict(x_test)\n",
    "acc = test(y_pred_label, y_test)\n",
    "print('测试集上正确率:{}'.format(acc))"
   ]
  },
  {
   "cell_type": "code",
   "execution_count": null,
   "metadata": {},
   "outputs": [],
   "source": []
  }
 ],
 "metadata": {
  "kernelspec": {
   "display_name": "Python 3 (ipykernel)",
   "language": "python",
   "name": "python3"
  },
  "language_info": {
   "codemirror_mode": {
    "name": "ipython",
    "version": 3
   },
   "file_extension": ".py",
   "mimetype": "text/x-python",
   "name": "python",
   "nbconvert_exporter": "python",
   "pygments_lexer": "ipython3",
   "version": "3.9.7"
  }
 },
 "nbformat": 4,
 "nbformat_minor": 4
}
