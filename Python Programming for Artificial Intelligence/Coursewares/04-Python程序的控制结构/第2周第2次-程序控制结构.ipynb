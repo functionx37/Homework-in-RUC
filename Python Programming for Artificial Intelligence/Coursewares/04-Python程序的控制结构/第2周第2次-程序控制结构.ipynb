{
 "cells": [
  {
   "cell_type": "markdown",
   "metadata": {},
   "source": [
    "# 第二周第2次\n",
    "## 《工智能与Python程序设计》——程序的控制结构"
   ]
  },
  {
   "cell_type": "code",
   "execution_count": 2,
   "metadata": {},
   "outputs": [
    {
     "name": "stdout",
     "output_type": "stream",
     "text": [
      "圆半径：2\n",
      "面积：12.566370614359172，周长：12.566370614359172\n"
     ]
    }
   ],
   "source": [
    "import math\n",
    "r = float(input(\"圆半径：\"))\n",
    "S = math.pi * r * r\n",
    "L = math.pi * 2 * r\n",
    "\n",
    "print(\"面积：{0}，周长：{1}\".format(S, L))"
   ]
  },
  {
   "cell_type": "code",
   "execution_count": 7,
   "metadata": {},
   "outputs": [
    {
     "name": "stdout",
     "output_type": "stream",
     "text": [
      "实数值：-0.7\n",
      "绝对值：0.7\n"
     ]
    }
   ],
   "source": [
    "\n",
    "R = float(input(\"实数值：\"))\n",
    "if R < 0:\n",
    "    R = -R\n",
    "\n",
    "print(\"绝对值：{0}\".format(R))"
   ]
  },
  {
   "cell_type": "code",
   "execution_count": 11,
   "metadata": {},
   "outputs": [
    {
     "name": "stdout",
     "output_type": "stream",
     "text": [
      "输入整数：100\n",
      "1 + ... + 100 = 5050\n"
     ]
    }
   ],
   "source": [
    "R = int(input(\"输入整数：\"))\n",
    "i, S = 1, 0\n",
    "while i <= R:\n",
    "    S = S + i\n",
    "    i = i + 1\n",
    "\n",
    "print(\"1 + ... + {0} = {1}\".format(R, S))"
   ]
  },
  {
   "cell_type": "code",
   "execution_count": 21,
   "metadata": {
    "scrolled": true
   },
   "outputs": [
    {
     "name": "stdout",
     "output_type": "stream",
     "text": [
      "请输入PM2.5数值:75\n",
      "空气良好，适度户外活动！\n"
     ]
    }
   ],
   "source": [
    "PM=int(input(\"请输入PM2.5数值:\"))\n",
    "if 0 <= PM and PM < 35:\n",
    "    print(\"空气优质，快去户外运动!\")\n",
    "if 35 <= PM and PM <= 75:\n",
    "    print(\"空气良好，适度户外活动！\")\n",
    "if 75 < PM:\n",
    "    print(\"空气污染，请小心！\")"
   ]
  },
  {
   "cell_type": "code",
   "execution_count": null,
   "metadata": {},
   "outputs": [],
   "source": [
    "PM=int(input(\"请输入PM2.5数值:\"))\n",
    "if PM >= 75:\n",
    "    print(\"空气存在污染，请小心！\")\n",
    "else:\n",
    "    print(\"空气没有污染，可以开展户外运动!\")"
   ]
  },
  {
   "cell_type": "code",
   "execution_count": 1,
   "metadata": {},
   "outputs": [
    {
     "name": "stdout",
     "output_type": "stream",
     "text": [
      "请输入PM2.5数值:60\n",
      "0\n"
     ]
    }
   ],
   "source": [
    "PM=int(input(\"请输入PM2.5数值:\"))\n",
    "y=PM if PM >= 75 else 0\n",
    "\n",
    "print(y)"
   ]
  },
  {
   "cell_type": "code",
   "execution_count": 1,
   "metadata": {},
   "outputs": [
    {
     "name": "stdout",
     "output_type": "stream",
     "text": [
      "请输入PM2.5数值:75\n",
      "空气存在污染，请小心！\n"
     ]
    }
   ],
   "source": [
    "PM=int(input(\"请输入PM2.5数值:\"))\n",
    "\n",
    "print(\"空气存在污染，请小心！\") if PM >= 75 else print(\"空气没有污染，可以开展户外运动!\")"
   ]
  },
  {
   "cell_type": "code",
   "execution_count": 1,
   "metadata": {},
   "outputs": [
    {
     "name": "stdout",
     "output_type": "stream",
     "text": [
      "请输入PM2.5数值:75\n",
      "空气良好，适度户外活动！\n"
     ]
    }
   ],
   "source": [
    "PM=int(input(\"请输入PM2.5数值:\"))\n",
    "if PM < 35:\n",
    "    print(\"空气优质，快去户外运动!\")\n",
    "elif PM <= 75:\n",
    "    print(\"空气良好，适度户外活动！\")\n",
    "else:\n",
    "    print(\"空气污染，请小心！\")"
   ]
  },
  {
   "cell_type": "code",
   "execution_count": 2,
   "metadata": {},
   "outputs": [
    {
     "name": "stdout",
     "output_type": "stream",
     "text": [
      "请输入身高(米)和体重(公斤)[逗号隔开]:1.76,73\n",
      "BMI数值为：23.57\n",
      "BMI指标为:国际'正常',国内'正常'\n"
     ]
    }
   ],
   "source": [
    "height, weight=eval(input(\"请输入身高(米)和体重(公斤)[逗号隔开]:\"))\n",
    "bmi= weight / pow(height, 2)\n",
    "print(\"BMI数值为：{:.2f}\".format(bmi))\n",
    "\n",
    "wto, dom=\"\", \"\"\n",
    "\n",
    "if bmi < 18.5: #WTO标准\n",
    "    wto=\"偏瘦\"\n",
    "elif bmi < 25: #18.5<=bmi<25\n",
    "    wto=\"正常\"\n",
    "elif bmi < 30:#25<=bmi<30\n",
    "    wto=\"偏胖\"\n",
    "else:\n",
    "    wto=\"肥胖\"\n",
    "    \n",
    "if bmi < 18.5:#我国卫生部标准\n",
    "    dom=\"偏瘦\"\n",
    "elif bmi < 24:#18.5<=bmi<24\n",
    "    dom=\"正常\"\n",
    "elif bmi < 28:#24<=bmi<28\n",
    "    dom=\"偏胖\"\n",
    "else:\n",
    "    dom=\"肥胖\"\n",
    "\n",
    "print(\"BMI指标为:国际'{0}',国内'{1}'\".format(wto,dom))"
   ]
  },
  {
   "cell_type": "code",
   "execution_count": 3,
   "metadata": {},
   "outputs": [
    {
     "name": "stdout",
     "output_type": "stream",
     "text": [
      "30 is even\n"
     ]
    }
   ],
   "source": [
    "number = 30\n",
    "if number % 2 == 0:\n",
    "    print(number, 'is even')\n",
    "elif number % 3==0:\n",
    "    print(number, 'is multiple of 3')\n"
   ]
  },
  {
   "cell_type": "code",
   "execution_count": 3,
   "metadata": {},
   "outputs": [
    {
     "name": "stdout",
     "output_type": "stream",
     "text": [
      "Input a:2, 1, 1\n"
     ]
    },
    {
     "ename": "ValueError",
     "evalue": "could not convert string to float: '2, 1, 1'",
     "output_type": "error",
     "traceback": [
      "\u001b[1;31m---------------------------------------------------------------------------\u001b[0m",
      "\u001b[1;31mValueError\u001b[0m                                Traceback (most recent call last)",
      "\u001b[1;32m<ipython-input-3-d1cad652bb2a>\u001b[0m in \u001b[0;36m<module>\u001b[1;34m\u001b[0m\n\u001b[0;32m      1\u001b[0m \u001b[1;32mimport\u001b[0m \u001b[0mmath\u001b[0m\u001b[1;33m\u001b[0m\u001b[1;33m\u001b[0m\u001b[0m\n\u001b[1;32m----> 2\u001b[1;33m \u001b[0ma\u001b[0m \u001b[1;33m=\u001b[0m \u001b[0mfloat\u001b[0m\u001b[1;33m(\u001b[0m\u001b[0minput\u001b[0m\u001b[1;33m(\u001b[0m\u001b[1;34m\"Input a:\"\u001b[0m\u001b[1;33m)\u001b[0m\u001b[1;33m)\u001b[0m\u001b[1;33m\u001b[0m\u001b[1;33m\u001b[0m\u001b[0m\n\u001b[0m\u001b[0;32m      3\u001b[0m \u001b[0mb\u001b[0m \u001b[1;33m=\u001b[0m \u001b[0mfloat\u001b[0m\u001b[1;33m(\u001b[0m\u001b[0minput\u001b[0m\u001b[1;33m(\u001b[0m\u001b[1;34m\"Input b:\"\u001b[0m\u001b[1;33m)\u001b[0m\u001b[1;33m)\u001b[0m\u001b[1;33m\u001b[0m\u001b[1;33m\u001b[0m\u001b[0m\n\u001b[0;32m      4\u001b[0m \u001b[0mc\u001b[0m \u001b[1;33m=\u001b[0m \u001b[0mfloat\u001b[0m\u001b[1;33m(\u001b[0m\u001b[0minput\u001b[0m\u001b[1;33m(\u001b[0m\u001b[1;34m\"Input c:\"\u001b[0m\u001b[1;33m)\u001b[0m\u001b[1;33m)\u001b[0m\u001b[1;33m\u001b[0m\u001b[1;33m\u001b[0m\u001b[0m\n\u001b[0;32m      5\u001b[0m \u001b[1;33m\u001b[0m\u001b[0m\n",
      "\u001b[1;31mValueError\u001b[0m: could not convert string to float: '2, 1, 1'"
     ]
    }
   ],
   "source": [
    "import math\n",
    "a = float(input(\"Input a:\"))\n",
    "b = float(input(\"Input b:\"))\n",
    "c = float(input(\"Input c:\"))\n",
    "\n",
    "if a == 0:\n",
    "    print(\"The equation is linear.\")\n",
    "else:\n",
    "    delta = b**2 - 4 * a * c\n",
    "    if delta < 0:\n",
    "        print(\"No real root\")\n",
    "    elif delta == 0:\n",
    "        print(\"One root:\", -b/(2*a))\n",
    "    else:\n",
    "        root = math.sqrt(delta)\n",
    "        s1 = (-b + root)/(2*a)\n",
    "        s2 = (-b - root)/(2*a)\n",
    "        print(\"Two roots:\", s1, s2)"
   ]
  },
  {
   "cell_type": "code",
   "execution_count": 4,
   "metadata": {},
   "outputs": [
    {
     "name": "stdout",
     "output_type": "stream",
     "text": [
      "请输入一个整数a\n"
     ]
    },
    {
     "ename": "NameError",
     "evalue": "name 'a' is not defined",
     "output_type": "error",
     "traceback": [
      "\u001b[0;31m---------------------------------------------------------------------------\u001b[0m",
      "\u001b[0;31mNameError\u001b[0m                                 Traceback (most recent call last)",
      "\u001b[0;32m/var/folders/4m/kw1nckdn0qzcz68fpxyc8yj80000gn/T/ipykernel_36744/875824353.py\u001b[0m in \u001b[0;36m<module>\u001b[0;34m\u001b[0m\n\u001b[0;32m----> 1\u001b[0;31m \u001b[0mnum\u001b[0m \u001b[0;34m=\u001b[0m \u001b[0meval\u001b[0m\u001b[0;34m(\u001b[0m\u001b[0minput\u001b[0m\u001b[0;34m(\u001b[0m\u001b[0;34m\"请输入一个整数\"\u001b[0m\u001b[0;34m)\u001b[0m\u001b[0;34m)\u001b[0m\u001b[0;34m\u001b[0m\u001b[0;34m\u001b[0m\u001b[0m\n\u001b[0m\u001b[1;32m      2\u001b[0m \u001b[0mprint\u001b[0m\u001b[0;34m(\u001b[0m\u001b[0mnum\u001b[0m \u001b[0;34m**\u001b[0m \u001b[0;36m2\u001b[0m\u001b[0;34m)\u001b[0m\u001b[0;34m\u001b[0m\u001b[0;34m\u001b[0m\u001b[0m\n",
      "\u001b[0;32m<string>\u001b[0m in \u001b[0;36m<module>\u001b[0;34m\u001b[0m\n",
      "\u001b[0;31mNameError\u001b[0m: name 'a' is not defined"
     ]
    }
   ],
   "source": [
    "num = eval(input(\"请输入一个整数\"))\n",
    "print(num ** 2)\n"
   ]
  },
  {
   "cell_type": "code",
   "execution_count": 5,
   "metadata": {},
   "outputs": [
    {
     "name": "stdout",
     "output_type": "stream",
     "text": [
      "请输入一个整数10\n",
      "100\n"
     ]
    }
   ],
   "source": [
    "try:\n",
    "    num = eval(input(\"请输入一个整数\"))\n",
    "    print(num ** 2)\n",
    "except:\n",
    "    print(\"输入不是整数\")"
   ]
  },
  {
   "cell_type": "code",
   "execution_count": 17,
   "metadata": {},
   "outputs": [
    {
     "name": "stdout",
     "output_type": "stream",
     "text": [
      "请输入一个整数1.0+\"\"\n"
     ]
    },
    {
     "ename": "TypeError",
     "evalue": "unsupported operand type(s) for +: 'float' and 'str'",
     "output_type": "error",
     "traceback": [
      "\u001b[0;31m---------------------------------------------------------------------------\u001b[0m",
      "\u001b[0;31mTypeError\u001b[0m                                 Traceback (most recent call last)",
      "\u001b[0;32m/var/folders/4m/kw1nckdn0qzcz68fpxyc8yj80000gn/T/ipykernel_36744/930191301.py\u001b[0m in \u001b[0;36m<module>\u001b[0;34m\u001b[0m\n\u001b[1;32m      1\u001b[0m \u001b[0;32mtry\u001b[0m\u001b[0;34m:\u001b[0m\u001b[0;34m\u001b[0m\u001b[0;34m\u001b[0m\u001b[0m\n\u001b[0;32m----> 2\u001b[0;31m     \u001b[0mnum\u001b[0m \u001b[0;34m=\u001b[0m \u001b[0meval\u001b[0m\u001b[0;34m(\u001b[0m\u001b[0minput\u001b[0m\u001b[0;34m(\u001b[0m\u001b[0;34m\"请输入一个整数\"\u001b[0m\u001b[0;34m)\u001b[0m\u001b[0;34m)\u001b[0m\u001b[0;34m\u001b[0m\u001b[0;34m\u001b[0m\u001b[0m\n\u001b[0m\u001b[1;32m      3\u001b[0m     \u001b[0mprint\u001b[0m\u001b[0;34m(\u001b[0m\u001b[0mnum\u001b[0m \u001b[0;34m**\u001b[0m \u001b[0;36m2\u001b[0m\u001b[0;34m)\u001b[0m\u001b[0;34m\u001b[0m\u001b[0;34m\u001b[0m\u001b[0m\n\u001b[1;32m      4\u001b[0m \u001b[0;32mexcept\u001b[0m \u001b[0mNameError\u001b[0m\u001b[0;34m:\u001b[0m\u001b[0;34m\u001b[0m\u001b[0;34m\u001b[0m\u001b[0m\n\u001b[1;32m      5\u001b[0m     \u001b[0mprint\u001b[0m\u001b[0;34m(\u001b[0m\u001b[0;34m\"输入不是整数\"\u001b[0m\u001b[0;34m)\u001b[0m\u001b[0;34m\u001b[0m\u001b[0;34m\u001b[0m\u001b[0m\n",
      "\u001b[0;32m<string>\u001b[0m in \u001b[0;36m<module>\u001b[0;34m\u001b[0m\n",
      "\u001b[0;31mTypeError\u001b[0m: unsupported operand type(s) for +: 'float' and 'str'"
     ]
    }
   ],
   "source": [
    "try:\n",
    "    num = eval(input(\"请输入一个整数\"))\n",
    "    print(num ** 2)\n",
    "except NameError:\n",
    "    print(\"输入不是整数\")"
   ]
  },
  {
   "cell_type": "code",
   "execution_count": 31,
   "metadata": {},
   "outputs": [
    {
     "name": "stdout",
     "output_type": "stream",
     "text": [
      "请输入分数101\n"
     ]
    },
    {
     "ename": "ValueError",
     "evalue": "你输入的分数不合法（分数应在0~100之间）",
     "output_type": "error",
     "traceback": [
      "\u001b[0;31m---------------------------------------------------------------------------\u001b[0m",
      "\u001b[0;31mValueError\u001b[0m                                Traceback (most recent call last)",
      "\u001b[0;32m/var/folders/4m/kw1nckdn0qzcz68fpxyc8yj80000gn/T/ipykernel_36744/2120367972.py\u001b[0m in \u001b[0;36m<module>\u001b[0;34m\u001b[0m\n\u001b[1;32m      1\u001b[0m \u001b[0mscore\u001b[0m \u001b[0;34m=\u001b[0m \u001b[0meval\u001b[0m\u001b[0;34m(\u001b[0m\u001b[0minput\u001b[0m\u001b[0;34m(\u001b[0m\u001b[0;34m\"请输入分数\"\u001b[0m\u001b[0;34m)\u001b[0m\u001b[0;34m)\u001b[0m\u001b[0;34m\u001b[0m\u001b[0;34m\u001b[0m\u001b[0m\n\u001b[1;32m      2\u001b[0m \u001b[0;32mif\u001b[0m \u001b[0;32mnot\u001b[0m \u001b[0;36m0\u001b[0m \u001b[0;34m<=\u001b[0m \u001b[0mscore\u001b[0m \u001b[0;34m<=\u001b[0m \u001b[0;36m100\u001b[0m\u001b[0;34m:\u001b[0m\u001b[0;34m\u001b[0m\u001b[0;34m\u001b[0m\u001b[0m\n\u001b[0;32m----> 3\u001b[0;31m     \u001b[0;32mraise\u001b[0m \u001b[0mValueError\u001b[0m\u001b[0;34m(\u001b[0m\u001b[0;34m\"你输入的分数不合法（分数应在0~100之间）\"\u001b[0m\u001b[0;34m)\u001b[0m\u001b[0;34m\u001b[0m\u001b[0;34m\u001b[0m\u001b[0m\n\u001b[0m\u001b[1;32m      4\u001b[0m \u001b[0mprint\u001b[0m\u001b[0;34m(\u001b[0m\u001b[0;34m\"你的分数是{}\"\u001b[0m\u001b[0;34m.\u001b[0m\u001b[0mformat\u001b[0m\u001b[0;34m(\u001b[0m\u001b[0mscore\u001b[0m\u001b[0;34m)\u001b[0m\u001b[0;34m)\u001b[0m\u001b[0;34m\u001b[0m\u001b[0;34m\u001b[0m\u001b[0m\n",
      "\u001b[0;31mValueError\u001b[0m: 你输入的分数不合法（分数应在0~100之间）"
     ]
    }
   ],
   "source": [
    "score = eval(input(\"请输入分数\"))\n",
    "if not 0 <= score <= 100:\n",
    "    raise ValueError(\"你输入的分数不合法（分数应在0~100之间）\")\n",
    "print(\"你的分数是{}\".format(score))"
   ]
  },
  {
   "cell_type": "code",
   "execution_count": 37,
   "metadata": {},
   "outputs": [
    {
     "name": "stdout",
     "output_type": "stream",
     "text": [
      "程序开始运行！\n",
      "请输入分数a\n",
      "<class 'NameError'> name 'a' is not defined\n",
      "分数输入失败！\n",
      "程序终止运行\n"
     ]
    }
   ],
   "source": [
    "print(\"程序开始运行！\")\n",
    "try:\n",
    "    score = eval(input(\"请输入分数\"))\n",
    "    if not 0 <= score <= 100:\n",
    "        raise ValueError(\"你输入的分数不合法（分数应在0~100之间）\")\n",
    "    print(\"你的分数是{}\".format(score))\n",
    "except Exception as e:\n",
    "    print(type(e), e)\n",
    "    print(\"分数输入失败！\")\n",
    "print(\"程序终止运行\")"
   ]
  },
  {
   "cell_type": "code",
   "execution_count": 7,
   "metadata": {},
   "outputs": [
    {
     "name": "stdout",
     "output_type": "stream",
     "text": [
      "请输入一个整数100\n",
      "10000\n",
      "done!\n"
     ]
    }
   ],
   "source": [
    "try:\n",
    "    num = eval(input(\"请输入一个整数\"))\n",
    "except NameError:\n",
    "    print(\"输入不是整数\")\n",
    "else:\n",
    "     print(num ** 2)\n",
    "finally:\n",
    "    print(\"done!\")"
   ]
  },
  {
   "cell_type": "code",
   "execution_count": 8,
   "metadata": {},
   "outputs": [
    {
     "name": "stdout",
     "output_type": "stream",
     "text": [
      "请输入正整数:100\n",
      "s = 5050\n"
     ]
    }
   ],
   "source": [
    "R=int(input(\"请输入正整数:\"))\n",
    "s = 0\n",
    "for i in range(R + 1):\n",
    "    s = s + i\n",
    "\n",
    "print(\"s = {0}\".format(s))"
   ]
  },
  {
   "cell_type": "code",
   "execution_count": 9,
   "metadata": {},
   "outputs": [
    {
     "name": "stdout",
     "output_type": "stream",
     "text": [
      "a\n",
      "b\n",
      "c\n",
      "d\n",
      "e\n",
      "f\n",
      "g\n"
     ]
    }
   ],
   "source": [
    "for c in \"abcdefg\":\n",
    "    print(c)\n"
   ]
  },
  {
   "cell_type": "code",
   "execution_count": 11,
   "metadata": {},
   "outputs": [
    {
     "name": "stdout",
     "output_type": "stream",
     "text": [
      "请输入正整数:100\n",
      "s = 105, i = 15\n"
     ]
    }
   ],
   "source": [
    "R=int(input(\"请输入正整数:\"))\n",
    "s = 0\n",
    "i = 0\n",
    "while s < R:\n",
    "    s = s + i\n",
    "    i = i + 1\n",
    "\n",
    "print(\"s = {0}, i = {1}\".format(s, i))"
   ]
  },
  {
   "cell_type": "code",
   "execution_count": 12,
   "metadata": {},
   "outputs": [
    {
     "name": "stdout",
     "output_type": "stream",
     "text": [
      "RUC"
     ]
    }
   ],
   "source": [
    "for s in \"RUC\":\n",
    "    print(s, end = \"\")\n",
    "    if s==\"I\":\n",
    "        break"
   ]
  },
  {
   "cell_type": "code",
   "execution_count": 10,
   "metadata": {
    "scrolled": true
   },
   "outputs": [
    {
     "name": "stdout",
     "output_type": "stream",
     "text": [
      "RRRRRRRRRRUUUUUUUUUUCCCCCCCCCC"
     ]
    }
   ],
   "source": [
    "for s in \"RUC\": \n",
    "    for i in range(10):\n",
    "        print(s, end = \"\")\n",
    "        if s==\"I\":\n",
    "            break"
   ]
  },
  {
   "cell_type": "code",
   "execution_count": 11,
   "metadata": {},
   "outputs": [
    {
     "name": "stdout",
     "output_type": "stream",
     "text": [
      "Py\n",
      "End\n"
     ]
    }
   ],
   "source": [
    "for s in \"Python\":\n",
    "    if s==\"t\":\n",
    "        break\n",
    "    print(s, end = \"\")\n",
    "print(\"\\nEnd\")"
   ]
  },
  {
   "cell_type": "code",
   "execution_count": 12,
   "metadata": {},
   "outputs": [
    {
     "name": "stdout",
     "output_type": "stream",
     "text": [
      "Pyhon\n",
      "End\n"
     ]
    }
   ],
   "source": [
    "for s in \"Python\":\n",
    "    if s==\"t\":\n",
    "        continue\n",
    "    print(s, end = \"\")\n",
    "print(\"\\nEnd\")"
   ]
  },
  {
   "cell_type": "code",
   "execution_count": 13,
   "metadata": {},
   "outputs": [
    {
     "name": "stdout",
     "output_type": "stream",
     "text": [
      "0.08062833390536905\n",
      "0.16637307087151798\n",
      "0.8564755707959751\n",
      "0.3866793604218186\n"
     ]
    }
   ],
   "source": [
    "import random\n",
    "random.seed()\n",
    "print(random.random())\n",
    "print(random.random())\n",
    "print(random.random())\n",
    "print(random.random())\n"
   ]
  },
  {
   "cell_type": "code",
   "execution_count": 14,
   "metadata": {},
   "outputs": [
    {
     "name": "stdout",
     "output_type": "stream",
     "text": [
      "Pi=3.14324.\n"
     ]
    }
   ],
   "source": [
    "\n",
    "import random\n",
    "import math\n",
    "\n",
    "DARTS=1000000\n",
    "hits=0.0\n",
    "\n",
    "random.seed()\n",
    "for i in range(1, DARTS+1):\n",
    "    x,y = random.random(),random.random()\n",
    "    dist = math.sqrt(x**2+y**2)\n",
    "    if dist<=1.0:\n",
    "        hits = hits + 1\n",
    "\n",
    "pi= 4 * (hits / DARTS)\n",
    "print(\"Pi={0}.\".format(pi))\n"
   ]
  },
  {
   "cell_type": "code",
   "execution_count": null,
   "metadata": {},
   "outputs": [],
   "source": []
  }
 ],
 "metadata": {
  "kernelspec": {
   "display_name": "Python 3 (ipykernel)",
   "language": "python",
   "name": "python3"
  },
  "language_info": {
   "codemirror_mode": {
    "name": "ipython",
    "version": 3
   },
   "file_extension": ".py",
   "mimetype": "text/x-python",
   "name": "python",
   "nbconvert_exporter": "python",
   "pygments_lexer": "ipython3",
   "version": "3.9.7"
  }
 },
 "nbformat": 4,
 "nbformat_minor": 4
}
