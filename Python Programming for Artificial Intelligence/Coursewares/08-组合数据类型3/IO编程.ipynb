{
 "cells": [
  {
   "cell_type": "code",
   "execution_count": 1,
   "metadata": {},
   "outputs": [
    {
     "name": "stdout",
     "output_type": "stream",
     "text": [
      "请输入:Python程序设计\n",
      "Python程序设计\n"
     ]
    }
   ],
   "source": [
    "str=input('请输入:')\n",
    "print(str)"
   ]
  },
  {
   "cell_type": "code",
   "execution_count": null,
   "metadata": {},
   "outputs": [],
   "source": [
    "print('Hello AI!')"
   ]
  },
  {
   "cell_type": "code",
   "execution_count": null,
   "metadata": {},
   "outputs": [],
   "source": [
    "import os"
   ]
  },
  {
   "cell_type": "code",
   "execution_count": 6,
   "metadata": {},
   "outputs": [
    {
     "name": "stdout",
     "output_type": "stream",
     "text": [
      "<module 'posixpath' from '/Users/dtao/anaconda3/lib/python3.8/posixpath.py'>\n"
     ]
    }
   ],
   "source": [
    "print(os.path)"
   ]
  },
  {
   "cell_type": "code",
   "execution_count": 9,
   "metadata": {},
   "outputs": [],
   "source": [
    "text_file = open('人工智能与Python程序设计.txt', 'rt')"
   ]
  },
  {
   "cell_type": "code",
   "execution_count": 10,
   "metadata": {},
   "outputs": [
    {
     "name": "stdout",
     "output_type": "stream",
     "text": [
      "人工智能与Python程序设计 第一课\n",
      "\n"
     ]
    }
   ],
   "source": [
    "print(text_file.readline())"
   ]
  },
  {
   "cell_type": "code",
   "execution_count": 5,
   "metadata": {},
   "outputs": [],
   "source": [
    "binary_file = open('人工智能与Python程序设计.txt', 'rb')"
   ]
  },
  {
   "cell_type": "code",
   "execution_count": 6,
   "metadata": {},
   "outputs": [
    {
     "name": "stdout",
     "output_type": "stream",
     "text": [
      "b'\\xe4\\xba\\xba\\xe5\\xb7\\xa5\\xe6\\x99\\xba\\xe8\\x83\\xbd\\xe4\\xb8\\x8ePython\\xe7\\xa8\\x8b\\xe5\\xba\\x8f\\xe8\\xae\\xbe\\xe8\\xae\\xa1'\n"
     ]
    }
   ],
   "source": [
    "print(binary_file.readline())"
   ]
  },
  {
   "cell_type": "code",
   "execution_count": 24,
   "metadata": {},
   "outputs": [
    {
     "name": "stdout",
     "output_type": "stream",
     "text": [
      "人工智能与Python程序设计 第一课\n",
      "\n",
      "人工智能与Python程序设计 第二课\n",
      "\n",
      "人工智能与Python程序设计 第三课\n"
     ]
    }
   ],
   "source": [
    "file = open('人工智能与Python程序设计.txt', 'rt')\n",
    "for i in range(3):\n",
    "    text = file.readline() #读取当前行\n",
    "    print(text)\n",
    "file.close()"
   ]
  },
  {
   "cell_type": "code",
   "execution_count": 25,
   "metadata": {},
   "outputs": [
    {
     "name": "stdout",
     "output_type": "stream",
     "text": [
      "人工智能与Python程序设计 第一课\n",
      "人工智能与Python程序设计 第二课\n",
      "人工智能与Python程序设计 第三课"
     ]
    }
   ],
   "source": [
    "file = open('人工智能与Python程序设计.txt', 'rt')\n",
    "for i in range(3):\n",
    "    text = file.readline() #读取当前行\n",
    "    print(text,end='')\n",
    "file.close()"
   ]
  },
  {
   "cell_type": "code",
   "execution_count": 40,
   "metadata": {},
   "outputs": [
    {
     "name": "stdout",
     "output_type": "stream",
     "text": [
      "['人工智能与Python程序设计 第一课\\n', '人工智能与Python程序设计 第二课\\n', '人工智能与Python程序设计 第三课\\n']\n"
     ]
    }
   ],
   "source": [
    "file = open('人工智能与Python程序设计.txt', 'rt')\n",
    "text = file.readlines(-1) #读取文件内所有行\n",
    "print(text)\n",
    "file.close()"
   ]
  },
  {
   "cell_type": "code",
   "execution_count": 39,
   "metadata": {},
   "outputs": [
    {
     "name": "stdout",
     "output_type": "stream",
     "text": [
      "人工智能与Python程序设计 第一课\n",
      "人工智能与Python程序设计 第二课\n",
      "人工智能与Python程序设计 第三课\n"
     ]
    }
   ],
   "source": [
    "file = open('人工智能与Python程序设计.txt', 'rt')\n",
    "text = file.read(-1) #读取当前文件全部字符内容\n",
    "print(text, end='')\n",
    "file.close()"
   ]
  },
  {
   "cell_type": "code",
   "execution_count": 23,
   "metadata": {},
   "outputs": [
    {
     "name": "stdout",
     "output_type": "stream",
     "text": [
      "人工智能与\n",
      "Pytho\n",
      "n程序设计\n"
     ]
    }
   ],
   "source": [
    "file = open('人工智能与Python程序设计.txt', 'rt')\n",
    "for i in range(3):\n",
    "    text = file.readline(5) #读取在当前行从当前位置开始5个字符\n",
    "    print(text)\n",
    "file.close()"
   ]
  },
  {
   "cell_type": "code",
   "execution_count": 22,
   "metadata": {},
   "outputs": [
    {
     "name": "stdout",
     "output_type": "stream",
     "text": [
      "人工智能与\n",
      "Python程序设计 第一课\n",
      "\n",
      "人工智能与\n",
      "Python程序设计 第二课\n",
      "\n",
      "人工智能与\n",
      "Python程序设计 第三课\n"
     ]
    }
   ],
   "source": [
    "file = open('人工智能与Python程序设计.txt', 'rt')\n",
    "for i in range(3):\n",
    "    text = file.readline(5) #读取在当前行从当前位置开始5个字符\n",
    "    print(text)\n",
    "    text = file.readline()  #读取在当前行从当前位置开始到结束的所有字符\n",
    "    print(text)\n",
    "file.close()"
   ]
  },
  {
   "cell_type": "code",
   "execution_count": 44,
   "metadata": {},
   "outputs": [
    {
     "name": "stdout",
     "output_type": "stream",
     "text": [
      "人工智能与Python程序设计 第一课\n"
     ]
    }
   ],
   "source": [
    "file_write = open('人工智能与Python程序设计-写入.txt', 'w') # 文件对象的创建与打开\n",
    "file_write.write('人工智能与Python程序设计 第一课')   # 字符串写入\n",
    "file_write.close()   # 文件关闭\n",
    "file_read = open('人工智能与Python程序设计-写入.txt', 'r')  \n",
    "print(file_read.read())\n",
    "file_read.close()"
   ]
  },
  {
   "cell_type": "code",
   "execution_count": 26,
   "metadata": {},
   "outputs": [
    {
     "name": "stdout",
     "output_type": "stream",
     "text": [
      "人工智能 Python程序设计\n"
     ]
    }
   ],
   "source": [
    "file_write = open('人工智能与Python程序设计-写入.txt', 'w') # 文件对象的创建与打开\n",
    "file_write.writelines(['人工智能',' ','Python程序设计'])   # 文件写入\n",
    "file_write.close()   # 文件关闭\n",
    "file_read = open('人工智能与Python程序设计-写入.txt', 'r')  \n",
    "print(file_read.read())\n",
    "file_read.close()"
   ]
  },
  {
   "cell_type": "code",
   "execution_count": 55,
   "metadata": {},
   "outputs": [
    {
     "name": "stdout",
     "output_type": "stream",
     "text": [
      "人工智能 Python程序设计\n",
      "人工智能与Python程序设计\n"
     ]
    }
   ],
   "source": [
    "file_write = open('人工智能与Python程序设计-写入.txt', 'w')  # 文件对象的创建与打开，覆盖写\n",
    "file_write.writelines(['人工智能',' ','Python程序设计', '\\n', '人工智能与Python程序设计'])\n",
    "file_write.close()\n",
    "file_read = open('人工智能与Python程序设计-写入.txt', 'r')\n",
    "print(file_read.read())\n",
    "file_read.close()"
   ]
  },
  {
   "cell_type": "code",
   "execution_count": 56,
   "metadata": {},
   "outputs": [
    {
     "name": "stdout",
     "output_type": "stream",
     "text": [
      "人工智能 Python程序设计\n",
      "人工智能与Python程序设计\n",
      "人工智能与Python程序设计 第一课\n"
     ]
    }
   ],
   "source": [
    "file_write = open('人工智能与Python程序设计-写入.txt', 'a') # 文件对象的创建与打开，追加写\n",
    "file_write.writelines(['\\n', '人工智能与Python程序设计', ' ', '第一课'])\n",
    "file_write.close()\n",
    "file_read = open('人工智能与Python程序设计-写入.txt', 'r')\n",
    "print(file_read.read())\n",
    "file_read.close()"
   ]
  },
  {
   "cell_type": "code",
   "execution_count": 60,
   "metadata": {},
   "outputs": [
    {
     "name": "stdout",
     "output_type": "stream",
     "text": [
      "人工智能与Python程序设计 第一课\n"
     ]
    }
   ],
   "source": [
    "with open('人工智能与Python程序设计-写入.txt', 'w') as f: \n",
    "    f.write('人工智能与Python程序设计 第一课')\n",
    "\n",
    "with open('人工智能与Python程序设计-写入.txt', 'r') as f:\n",
    "    print(f.read())"
   ]
  },
  {
   "cell_type": "code",
   "execution_count": 61,
   "metadata": {},
   "outputs": [
    {
     "name": "stdout",
     "output_type": "stream",
     "text": [
      "人工智能与Python程序设计 第一课\n"
     ]
    }
   ],
   "source": [
    "file_write = open('人工智能与Python程序设计-写入.txt', 'w')  # 文件对象的创建与打开，覆盖写\n",
    "file_write.write('人工智能与Python程序设计 第一课')\n",
    "file_write.close()\n",
    "file_read = open('人工智能与Python程序设计-写入.txt', 'r')\n",
    "print(file_read.read())\n",
    "file_read.close()"
   ]
  },
  {
   "cell_type": "code",
   "execution_count": 65,
   "metadata": {},
   "outputs": [
    {
     "name": "stdout",
     "output_type": "stream",
     "text": [
      "[['Error rate', 'Gflops', 'Env Cost(CO2)', 'Economic Cost($)'], ['11.50%', '10^14', '10^6', '10^6'], ['5%', '10^19', '10^10', '10^11'], ['1%', '10^28', '10^20', '10^20']]\n"
     ]
    }
   ],
   "source": [
    "ls = []\n",
    "with open('imagenet.csv', 'r') as f: # csv文件对象的创建与打开\n",
    "    for line in f: # csv文件逐行读取\n",
    "        line=line.replace(\"\\n\", \"\") # 去除每行末尾的回车符’\\n'\n",
    "        ls.append(line.split(\",\")) # 用逗号’,‘分隔元素\n",
    "print(ls)"
   ]
  },
  {
   "cell_type": "code",
   "execution_count": 67,
   "metadata": {},
   "outputs": [
    {
     "name": "stdout",
     "output_type": "stream",
     "text": [
      "['Error rate', 'Gflops', 'Env Cost(CO2)', 'Economic Cost($)']\n",
      "['11.50%', '10^14', '10^6', '10^6']\n",
      "['5%', '10^19', '10^10', '10^11']\n",
      "['1%', '10^28', '10^20', '10^20']\n"
     ]
    }
   ],
   "source": [
    "import csv\n",
    "with open('imagenet.csv')as f: # csv文件对象的创建与打开\n",
    "    f_csv = csv.reader(f) # csv文件读取\n",
    "    for row in f_csv: # 逐行获取\n",
    "        print(row)"
   ]
  },
  {
   "cell_type": "code",
   "execution_count": 70,
   "metadata": {},
   "outputs": [
    {
     "name": "stdout",
     "output_type": "stream",
     "text": [
      "Error rate\tGflops\tEnv Cost(CO2)\tEconomic Cost($)\t\n",
      "11.50%\t10^14\t10^6\t10^6\t\n",
      "5%\t10^19\t10^10\t10^11\t\n",
      "1%\t10^28\t10^20\t10^20\t\n"
     ]
    }
   ],
   "source": [
    "import csv\n",
    "with open('imagenet.csv', 'r') as f:\n",
    "    f_csv = csv.reader(f)\n",
    "    for row in f_csv:  # 对当前文件逐行获取\n",
    "        items = \"\"\n",
    "        for item in row:  # 对当前行逐元素获取\n",
    "            items += \"{}\\t\".format(item)   # ’\\t‘制表符\n",
    "        print(items)\n",
    "    "
   ]
  },
  {
   "cell_type": "code",
   "execution_count": 71,
   "metadata": {},
   "outputs": [],
   "source": [
    "import csv\n",
    "\n",
    "headers = ['Error rate', 'Gflops', 'Env Cost(CO2)', 'Economic Cost($)']\n",
    "rows = [['11.50%', '10^14', '10^6', '10^6'],\n",
    "        ['5%', '10^19', '10^10', '10^11'],\n",
    "        ['1%', '10^28', '10^20', '10^20']]\n",
    "os.listdir()\n",
    "with open('imagenet-write.csv','w')as f:  # csv文件对象的创建与打开\n",
    "    f_csv = csv.writer(f)    # 创建csv文件的写对象\n",
    "    f_csv.writerow(headers)  # 写入二维数据的第一行\n",
    "    f_csv.writerows(rows)    # 写入二维数据的剩余行"
   ]
  },
  {
   "cell_type": "code",
   "execution_count": 72,
   "metadata": {},
   "outputs": [],
   "source": [
    "import csv\n",
    "\n",
    "headers = ['Error rate', 'Gflops', 'Env Cost(CO2)', 'Economic Cost($)']\n",
    "rows = [  # head中key对应的value数值\n",
    "        {'Error rate':'11.50%', 'Gflops':'10^14', 'Env Cost(CO2)':'10^6', 'Economic Cost($)':'10^6'},\n",
    "        {'Error rate':'5%', 'Gflops':'10^19', 'Env Cost(CO2)':'10^10', 'Economic Cost($)':'10^11'},\n",
    "        {'Error rate':'1%', 'Gflops':'10^28', 'Env Cost(CO2)':'10^20', 'Economic Cost($)':'10^20'}\n",
    "    ]\n",
    "\n",
    "with open('imagenet.csv','w',newline='')as f:\n",
    "    f_csv = csv.DictWriter(f,headers)  # 创建csv文件的字典写对象\n",
    "    f_csv.writeheader()   # 写入二维数据的第一行\n",
    "    f_csv.writerows(rows) # 利用字典key-value对应关系，写入二维数据的剩余行"
   ]
  },
  {
   "cell_type": "code",
   "execution_count": 76,
   "metadata": {},
   "outputs": [
    {
     "data": {
      "text/plain": [
       "'/Users/dtao/Documents/course/Python/代码数据/第四周第2次'"
      ]
     },
     "execution_count": 76,
     "metadata": {},
     "output_type": "execute_result"
    }
   ],
   "source": [
    "import os\n",
    "os.path.abspath('.')"
   ]
  },
  {
   "cell_type": "code",
   "execution_count": 90,
   "metadata": {},
   "outputs": [
    {
     "data": {
      "text/plain": [
       "'/Users/dtao/Documents/course/Python/代码数据/第四周第2次/PythonAI'"
      ]
     },
     "execution_count": 90,
     "metadata": {},
     "output_type": "execute_result"
    }
   ],
   "source": [
    "os.path.join('/Users/dtao/Documents/course/Python/代码数据/第四周第2次','PythonAI')"
   ]
  },
  {
   "cell_type": "code",
   "execution_count": 78,
   "metadata": {},
   "outputs": [
    {
     "data": {
      "text/plain": [
       "['IO编程.ipynb',\n",
       " '人工智能与Python程序设计.txt',\n",
       " '.DS_Store',\n",
       " '编码测试.py',\n",
       " '未命名1.ipynb',\n",
       " '人工智能与Python程序设计-写入.txt',\n",
       " '.ipynb_checkpoints',\n",
       " 'imagenet-write.csv',\n",
       " 'imagenet.csv']"
      ]
     },
     "execution_count": 78,
     "metadata": {},
     "output_type": "execute_result"
    }
   ],
   "source": [
    "os.listdir() # 遍历当前目录下的文件，并返回条目名称组成的列表"
   ]
  },
  {
   "cell_type": "code",
   "execution_count": 99,
   "metadata": {},
   "outputs": [
    {
     "data": {
      "text/plain": [
       "['os_module']"
      ]
     },
     "execution_count": 99,
     "metadata": {},
     "output_type": "execute_result"
    }
   ],
   "source": [
    "os.mkdir(os.path.join('/Users/dtao/Documents/course/Python/代码数据/第四周第2次/PythonAI','os_module'))\n",
    "os.listdir('/Users/dtao/Documents/course/Python/代码数据/第四周第2次/PythonAI')"
   ]
  },
  {
   "cell_type": "code",
   "execution_count": 100,
   "metadata": {},
   "outputs": [
    {
     "data": {
      "text/plain": [
       "[]"
      ]
     },
     "execution_count": 100,
     "metadata": {},
     "output_type": "execute_result"
    }
   ],
   "source": [
    "os.rmdir(os.path.join('/Users/dtao/Documents/course/Python/代码数据/第四周第2次/PythonAI','os_module'))\n",
    "os.listdir('/Users/dtao/Documents/course/Python/代码数据/第四周第2次/PythonAI')"
   ]
  },
  {
   "cell_type": "code",
   "execution_count": 101,
   "metadata": {},
   "outputs": [
    {
     "data": {
      "text/plain": [
       "('/Users/dtao/Documents/course/Python/代码数据/第四周第2次', 'PythonAI')"
      ]
     },
     "execution_count": 101,
     "metadata": {},
     "output_type": "execute_result"
    }
   ],
   "source": [
    "os.path.split('/Users/dtao/Documents/course/Python/代码数据/第四周第2次/PythonAI')"
   ]
  },
  {
   "cell_type": "code",
   "execution_count": 103,
   "metadata": {},
   "outputs": [
    {
     "data": {
      "text/plain": [
       "('/Users/dtao/Documents/course/Python/代码数据/第四周第2次/PythonAI', '')"
      ]
     },
     "execution_count": 103,
     "metadata": {},
     "output_type": "execute_result"
    }
   ],
   "source": [
    "os.path.splitext('/Users/dtao/Documents/course/Python/代码数据/第四周第2次/PythonAI')"
   ]
  },
  {
   "cell_type": "code",
   "execution_count": 102,
   "metadata": {},
   "outputs": [
    {
     "data": {
      "text/plain": [
       "('/Users/dtao/Documents/course/Python/代码数据/第四周第2次/IO编程', '.ipynb')"
      ]
     },
     "execution_count": 102,
     "metadata": {},
     "output_type": "execute_result"
    }
   ],
   "source": [
    "os.path.splitext('/Users/dtao/Documents/course/Python/代码数据/第四周第2次/IO编程.ipynb')"
   ]
  },
  {
   "cell_type": "code",
   "execution_count": 106,
   "metadata": {},
   "outputs": [
    {
     "data": {
      "text/plain": [
       "['人工智能与Python程序设计.txt', '人工智能与Python程序设计-写入.txt']"
      ]
     },
     "execution_count": 106,
     "metadata": {},
     "output_type": "execute_result"
    }
   ],
   "source": [
    "[x for x in os.listdir('.') if os.path.splitext(x)[1]=='.txt']"
   ]
  },
  {
   "cell_type": "code",
   "execution_count": null,
   "metadata": {},
   "outputs": [],
   "source": []
  }
 ],
 "metadata": {
  "kernelspec": {
   "display_name": "Python [conda env:root] *",
   "language": "python",
   "name": "conda-root-py"
  },
  "language_info": {
   "codemirror_mode": {
    "name": "ipython",
    "version": 3
   },
   "file_extension": ".py",
   "mimetype": "text/x-python",
   "name": "python",
   "nbconvert_exporter": "python",
   "pygments_lexer": "ipython3",
   "version": "3.8.3"
  }
 },
 "nbformat": 4,
 "nbformat_minor": 4
}
