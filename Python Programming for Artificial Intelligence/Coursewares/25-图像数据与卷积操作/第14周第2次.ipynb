{
 "cells": [
  {
   "cell_type": "markdown",
   "metadata": {},
   "source": [
    "# 读取图像，转成tensor"
   ]
  },
  {
   "cell_type": "code",
   "execution_count": 1,
   "metadata": {},
   "outputs": [
    {
     "name": "stdout",
     "output_type": "stream",
     "text": [
      "<class 'PIL.PngImagePlugin.PngImageFile'>\n",
      "(512, 512, 3)\n",
      "torch.Size([3, 512, 512])\n",
      "(512, 512, 3)\n"
     ]
    }
   ],
   "source": [
    "import torch\n",
    "import torch.nn as nn\n",
    "import numpy as np\n",
    "from PIL import Image\n",
    "from torchvision import transforms\n",
    "import torch.nn.functional as F\n",
    "import matplotlib.pyplot as plt\n",
    "\n",
    "image_name = 'lenaOriginal.png'\n",
    "img = Image.open(image_name)\n",
    "print(type(img))\n",
    "\n",
    "img = np.array(img)\n",
    "print(img.shape) #转numpy\n",
    "\n",
    "img = torch.from_numpy(img.transpose((2, 0, 1)))\n",
    "print(img.shape)\n",
    "img = img.numpy().transpose((1, 2, 0))\n",
    "print(img.shape)"
   ]
  },
  {
   "cell_type": "code",
   "execution_count": 2,
   "metadata": {},
   "outputs": [
    {
     "name": "stdout",
     "output_type": "stream",
     "text": [
      "torch.Size([1, 3, 512, 512])\n",
      "<class 'PIL.Image.Image'>\n"
     ]
    }
   ],
   "source": [
    "# 使用torchvision中自带的transforms\n",
    "image = Image.open(image_name).convert('RGB')\n",
    "image = transforms.ToTensor()(image).unsqueeze(0)\n",
    "print(image.shape)\n",
    "\n",
    "image = image.squeeze(0)\n",
    "image = transforms.ToPILImage()(image)\n",
    "print(type(image))\n",
    "\n",
    "totensor = transforms.ToTensor()\n",
    "toPIL = transforms.ToPILImage()"
   ]
  },
  {
   "cell_type": "code",
   "execution_count": 3,
   "metadata": {},
   "outputs": [
    {
     "name": "stdout",
     "output_type": "stream",
     "text": [
      "tensor(-0.4199) tensor(1.0752)\n"
     ]
    }
   ],
   "source": [
    "# 图像预处理 normalization\n",
    "norm_mean = [0.485, 0.456, 0.406]\n",
    "norm_std = [0.229, 0.224, 0.225]\n",
    "\n",
    "normalize = transforms.Normalize(\n",
    "    mean=norm_mean,\n",
    "    std=norm_std,\n",
    "    inplace=False\n",
    ")\n",
    "\n",
    "image_nor = normalize(totensor(image))\n",
    "print(image_nor.mean(), image_nor.std())\n",
    "image_nor = toPIL(image_nor)\n",
    "#image.save(\"lena_normalized.jpg\")\n",
    "image_nor.show()"
   ]
  },
  {
   "cell_type": "markdown",
   "metadata": {},
   "source": [
    "# 图像卷积"
   ]
  },
  {
   "cell_type": "code",
   "execution_count": 5,
   "metadata": {},
   "outputs": [
    {
     "name": "stdout",
     "output_type": "stream",
     "text": [
      "tensor([[[[ -5.,  -4.,   0.,   8.],\n",
      "          [-10.,  -2.,   2.,   3.],\n",
      "          [  0.,  -2.,  -4.,  -7.],\n",
      "          [ -3.,  -2.,  -3., -16.]]]], grad_fn=<ConvolutionBackward0>)\n",
      "tensor([[[[ -5.,  -5.,  -6.,  -1.,   6.,  10.],\n",
      "          [-12.,  -5.,  -4.,   0.,   8.,  11.],\n",
      "          [-13., -10.,  -2.,   2.,   3.,  11.],\n",
      "          [-10.,   0.,  -2.,  -4.,  -7.,  10.],\n",
      "          [ -7.,  -3.,  -2.,  -3., -16.,  12.],\n",
      "          [ -6.,   0.,  -2.,   1.,  -9.,   5.]]]],\n",
      "       grad_fn=<ConvolutionBackward0>)\n",
      "tensor([[[[-5.,  0.],\n",
      "          [ 0., -4.]]]], grad_fn=<ConvolutionBackward0>)\n"
     ]
    }
   ],
   "source": [
    "# 卷积\n",
    "x = torch.tensor([[[[3., 0., 1., 2., 7., 4.], \n",
    "\t              [1., 5., 8., 9., 3., 1.], \n",
    "\t              [2., 7., 2., 5., 1., 3.], \n",
    "\t              [0., 1., 3., 1., 7., 8.], \n",
    "\t              [4., 2., 1., 6., 2., 8.],\n",
    "\t              [2., 4., 5., 2., 3., 9.]]]], requires_grad=False)\n",
    "w = torch.tensor([[[[1., 0., -1.], \n",
    "\t\t\t\t  [1., 0., -1.],\n",
    "\t\t\t\t  [1., 0., -1.]]]], requires_grad=True)\n",
    "\n",
    "out = F.conv2d(x, w, stride=1, padding=0)\n",
    "print(out)\n",
    "\n",
    "out1 = F.conv2d(x, w, stride=1, padding=1)\n",
    "print(out1)\n",
    "\n",
    "out2 = F.conv2d(x, w, stride=2, padding=0)\n",
    "print(out2)"
   ]
  },
  {
   "cell_type": "code",
   "execution_count": 6,
   "metadata": {},
   "outputs": [],
   "source": [
    "# 灰度图卷积：边缘检测\n",
    "grayimage = image.convert('L')\n",
    "grayimage = totensor(grayimage).unsqueeze(0)\n",
    "w = torch.tensor([[[[1., 0., -1.], \n",
    "\t\t\t\t  [2., 0., -2.],\n",
    "\t\t\t\t  [1., 0., -1.]]]])\n",
    "convv = F.conv2d(grayimage, w, stride=1, padding=0)\n",
    "convv = convv.squeeze(0)\n",
    "convv = toPIL(convv)\n",
    "convv.show()"
   ]
  },
  {
   "cell_type": "code",
   "execution_count": 7,
   "metadata": {},
   "outputs": [],
   "source": [
    "# padding\n",
    "convpad = F.conv2d(grayimage, w, stride=1, padding=10)\n",
    "convpad = convpad.squeeze(0)\n",
    "convpad = toPIL(convpad)\n",
    "convpad.show()"
   ]
  },
  {
   "cell_type": "code",
   "execution_count": 8,
   "metadata": {},
   "outputs": [],
   "source": [
    "# 步长\n",
    "convstride = F.conv2d(grayimage, w, stride=2, padding=0)\n",
    "convstride = convstride.squeeze(0)\n",
    "convstride = toPIL(convstride)\n",
    "convstride.show()"
   ]
  },
  {
   "cell_type": "code",
   "execution_count": 9,
   "metadata": {},
   "outputs": [],
   "source": [
    "# 水平线检测\n",
    "w2 = torch.tensor([[[[1., 2., 1.], \n",
    "\t\t\t\t  [0., 0., 0.],\n",
    "\t\t\t\t  [-1., -2., -1.]]]])\n",
    "convh = F.conv2d(grayimage, w2, stride=1, padding=0)\n",
    "convh = convh.squeeze(0)\n",
    "convh = toPIL(convh)\n",
    "convh.show()"
   ]
  },
  {
   "cell_type": "code",
   "execution_count": 10,
   "metadata": {},
   "outputs": [],
   "source": [
    "# 多通道卷积（RGB）\n",
    "image = totensor(image).unsqueeze(0)\n",
    "\n",
    "w = torch.tensor([[[[1., 0., -1.], \n",
    "\t\t\t\t  [2., 0., -2.],\n",
    "\t\t\t\t  [1., 0., -1.]]]])\n",
    "w = w.repeat(1,3,1,1)\n",
    "\n",
    "convv = F.conv2d(image, w, stride=1, padding=0)\n",
    "convv = convv.squeeze(0)\n",
    "convv = toPIL(convv)\n",
    "convv.show()"
   ]
  },
  {
   "cell_type": "code",
   "execution_count": 11,
   "metadata": {},
   "outputs": [],
   "source": [
    "convpad = F.conv2d(image, w, stride=1, padding=10)\n",
    "convpad = convpad.squeeze(0)\n",
    "convpad = toPIL(convpad)\n",
    "convpad.show()"
   ]
  },
  {
   "cell_type": "code",
   "execution_count": 12,
   "metadata": {},
   "outputs": [],
   "source": [
    "convstride = F.conv2d(image, w, stride=2, padding=0)\n",
    "convstride = convstride.squeeze(0)\n",
    "convstride = toPIL(convstride)\n",
    "convstride.show()"
   ]
  },
  {
   "cell_type": "code",
   "execution_count": 13,
   "metadata": {},
   "outputs": [],
   "source": [
    "# 多卷积核\n",
    "w2 = torch.tensor([[[[1., 2., 1.], \n",
    "\t\t\t\t  [0., 0., 0.],\n",
    "\t\t\t\t  [-1., -2., -1.]]]])\n",
    "w2 = w2.repeat(1,3,1,1)\n",
    "w3 = torch.cat((w,w2),0)\n",
    "w3 = torch.cat((w3,w2),0)\n",
    "convh = F.conv2d(image, w3, stride=1, padding=0)\n",
    "convh = convh.squeeze(0)\n",
    "convh = toPIL(convh)\n",
    "convh.show()"
   ]
  },
  {
   "cell_type": "code",
   "execution_count": null,
   "metadata": {},
   "outputs": [],
   "source": []
  }
 ],
 "metadata": {
  "kernelspec": {
   "display_name": "Python 3 (ipykernel)",
   "language": "python",
   "name": "python3"
  },
  "language_info": {
   "codemirror_mode": {
    "name": "ipython",
    "version": 3
   },
   "file_extension": ".py",
   "mimetype": "text/x-python",
   "name": "python",
   "nbconvert_exporter": "python",
   "pygments_lexer": "ipython3",
   "version": "3.9.7"
  }
 },
 "nbformat": 4,
 "nbformat_minor": 4
}
