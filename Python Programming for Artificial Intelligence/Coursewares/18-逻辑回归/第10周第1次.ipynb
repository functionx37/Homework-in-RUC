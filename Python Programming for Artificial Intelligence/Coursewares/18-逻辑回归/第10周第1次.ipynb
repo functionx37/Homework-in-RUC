{
 "cells": [
  {
   "cell_type": "code",
   "execution_count": 1,
   "id": "e3ddbbb3-03cb-4036-bc40-6d60a7208b5c",
   "metadata": {},
   "outputs": [],
   "source": [
    "# %load 第10周第1次MultiLinearRegression.py\n",
    "\n",
    "import numpy as np\n",
    "import matplotlib.pyplot as plt\n",
    "\n",
    "\n",
    "class LinearRegressionMulti(object):\n",
    "    def __init__(self, dim_in, learning_rate=0.01, max_iter=100, seed=None):\n",
    "        \"\"\"\n",
    "        一元线性回归类的构造函数：\n",
    "        参数 学习率：learning_rate\n",
    "        参数 最大迭代次数：max_iter\n",
    "        参数 seed：产生随机数的种子\n",
    "        从正态分布中采样w的初始值\n",
    "        \"\"\"\n",
    "        np.random.seed(seed)\n",
    "        self.lr = learning_rate\n",
    "        self.max_iter = max_iter\n",
    "        self.w = np.random.normal(1, 0.1, [dim_in+1, 1]) # w 的维度为输入维度+1\n",
    "        self.loss_arr = []\n",
    "\n",
    "    def fit(self, x, y):\n",
    "        \"\"\"\n",
    "        类的方法：训练函数\n",
    "        参数 自变量：x\n",
    "        参数 因变量：y\n",
    "        返回每一次迭代后的损失函数\n",
    "        \"\"\"\n",
    "        #首先在x矩阵后面增加一列1\n",
    "        x = np.hstack([x, np.ones((x.shape[0], 1))])\n",
    "        for i in range(self.max_iter):\n",
    "            self.__train_step(x, y)\n",
    "            y_pred = self.predict(x)\n",
    "            self.loss_arr.append(self.loss(y, y_pred))\n",
    "\n",
    "    def __f(self, x, w):\n",
    "        '''\n",
    "        类的方法：计算一元线性回归函数在x处的值\n",
    "        '''\n",
    "        return x.dot(w)\n",
    "\n",
    "\n",
    "    def predict(self, x):\n",
    "        '''\n",
    "        类的方法：预测函数\n",
    "        参数：自变量：x\n",
    "        返回：对x的回归值\n",
    "        '''\n",
    "        y_prd = self.__f(x, self.w)\n",
    "        return y_prd\n",
    "\n",
    "    def loss(self, y_true, y_pred):\n",
    "        '''\n",
    "        类的方法：计算损失\n",
    "        参数 真实因变量：y_true\n",
    "        参数 预测因变量：y_pred\n",
    "        返回：MSE损失\n",
    "        '''\n",
    "        return np.mean((y_true - y_pred) ** 2)\n",
    "\n",
    "    def __calc_gradient(self, x, y):\n",
    "        '''\n",
    "        类的方法：分别计算对w和b的梯度\n",
    "        '''\n",
    "        N = x.shape[0]\n",
    "        diff = (x.dot(self.w) - y)\n",
    "        grad = x.T.dot(diff)\n",
    "        d_w = (2 * grad) / N\n",
    "        return d_w\n",
    "\n",
    "    def __train_step(self, x, y):\n",
    "        '''\n",
    "        类的方法：单步迭代，即一次迭代中对梯度进行更新\n",
    "        '''\n",
    "        d_w = self.__calc_gradient(x, y)\n",
    "        self.w = self.w - self.lr * d_w\n",
    "        return self.w\n",
    "\n",
    "\n"
   ]
  },
  {
   "cell_type": "code",
   "execution_count": 2,
   "id": "d9ade4cd-0c81-4431-9ff6-6c4a1f45bb24",
   "metadata": {},
   "outputs": [],
   "source": [
    "# data generation\n",
    "np.random.seed(272)\n",
    "data_size = 100\n",
    "dim_in = 3\n",
    "dim_out = 1\n",
    "x = np.random.uniform(low=1.0, high=10.0, size=[data_size, dim_in])\n",
    "map_true = np.array([[1.5], [-5.], [3.]])\n",
    "y = x.dot(map_true) + 10 + np.random.normal(loc=0.0, scale=10.0, size=[data_size, dim_out])\n",
    "\n",
    "# train / test split\n",
    "shuffled_index = np.random.permutation(data_size)\n",
    "x = x[shuffled_index, :]\n",
    "y = y[shuffled_index, :]\n",
    "split_index = int(data_size * 0.7)\n",
    "x_train = x[:split_index, :]\n",
    "y_train = y[:split_index, :]\n",
    "x_test = x[split_index:, :]\n",
    "y_test = y[split_index:, :]\n",
    "\n"
   ]
  },
  {
   "cell_type": "code",
   "execution_count": 3,
   "id": "57d16114-cb7a-4f9f-9dbb-22d1c316352f",
   "metadata": {},
   "outputs": [
    {
     "name": "stdout",
     "output_type": "stream",
     "text": [
      "[[ 1.13516234]\n",
      " [-4.45348752]\n",
      " [ 3.72540821]\n",
      " [ 2.48960809]]\n"
     ]
    },
    {
     "data": {
      "image/png": "[encoded data removed]",
      "text/plain": [
       "<Figure size 432x288 with 1 Axes>"
      ]
     },
     "metadata": {
      "needs_background": "light"
     },
     "output_type": "display_data"
    }
   ],
   "source": [
    "# train the liner regression model\n",
    "regr = LinearRegressionMulti(dim_in, learning_rate=0.01, max_iter=100, seed=0)\n",
    "regr.fit(x_train, y_train)\n",
    "print(regr.w)\n",
    "\n",
    "x_test_aug = np.hstack([x_test, np.ones((x_test.shape[0], 1))])\n",
    "y_pred = regr.predict(x_test_aug)\n",
    "res = y_pred - y_test\n",
    "\n",
    "\n",
    "# plot the evolution of cost\n",
    "plt.scatter(np.arange(len(regr.loss_arr)), regr.loss_arr, marker='o', c='green')\n",
    "plt.show()"
   ]
  },
  {
   "cell_type": "code",
   "execution_count": null,
   "id": "75ab314b-49b4-4469-9d90-640079c96916",
   "metadata": {},
   "outputs": [],
   "source": []
  }
 ],
 "metadata": {
  "kernelspec": {
   "display_name": "Python 3 (ipykernel)",
   "language": "python",
   "name": "python3"
  },
  "language_info": {
   "codemirror_mode": {
    "name": "ipython",
    "version": 3
   },
   "file_extension": ".py",
   "mimetype": "text/x-python",
   "name": "python",
   "nbconvert_exporter": "python",
   "pygments_lexer": "ipython3",
   "version": "3.9.7"
  }
 },
 "nbformat": 4,
 "nbformat_minor": 5
}
