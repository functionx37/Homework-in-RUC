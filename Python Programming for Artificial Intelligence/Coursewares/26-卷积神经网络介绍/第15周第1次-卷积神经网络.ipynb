{
 "cells": [
  {
   "cell_type": "code",
   "execution_count": 1,
   "metadata": {},
   "outputs": [],
   "source": [
    "import torch\n",
    "import torch.nn as nn\n",
    "import numpy as np\n",
    "from PIL import Image\n",
    "from torchvision import transforms\n",
    "import torch.nn.functional as F"
   ]
  },
  {
   "cell_type": "code",
   "execution_count": 2,
   "metadata": {},
   "outputs": [
    {
     "name": "stdout",
     "output_type": "stream",
     "text": [
      "torch.Size([1, 3, 32, 32])\n",
      "torch.Size([1, 6, 28, 28])\n"
     ]
    }
   ],
   "source": [
    "image = Image.open('5.jpg').convert('RGB')\n",
    "input = transforms.ToTensor()(image).unsqueeze(0)\n",
    "print(input.shape)\n",
    "#Conv-1\n",
    "Conv1 = nn.Conv2d(in_channels=3, out_channels=6, kernel_size=5, stride=1, padding=0)\n",
    "Nf1 = nn.ReLU()\n",
    "output1 = Nf1(Conv1(input))\n",
    "print(output1.shape)"
   ]
  },
  {
   "cell_type": "code",
   "execution_count": 3,
   "metadata": {},
   "outputs": [
    {
     "name": "stdout",
     "output_type": "stream",
     "text": [
      "torch.Size([1, 6, 14, 14])\n"
     ]
    }
   ],
   "source": [
    "#Poo1-1\n",
    "Pool1 = nn.MaxPool2d((2,2), stride=2, padding=0)\n",
    "output1 = Pool1(output1)\n",
    "print(output1.shape)"
   ]
  },
  {
   "cell_type": "code",
   "execution_count": 5,
   "metadata": {},
   "outputs": [
    {
     "name": "stdout",
     "output_type": "stream",
     "text": [
      "tensor([[[3., 3., 3.],\n",
      "         [3., 3., 3.],\n",
      "         [3., 2., 3.]]], dtype=torch.float64)\n",
      "tensor([[[1.6667, 1.6667, 1.6667],\n",
      "         [1.0000, 1.2222, 1.7778],\n",
      "         [1.1111, 0.7778, 1.3333]]], dtype=torch.float64)\n"
     ]
    }
   ],
   "source": [
    "#pool - test\n",
    "x = torch.tensor(\n",
    "    [[3, 3, 2, 1, 0], \n",
    "     [0, 0, 1, 3, 1], \n",
    "     [3, 1, 2, 2, 3], \n",
    "     [2, 0, 0, 2, 2], \n",
    "     [2, 0, 0, 0, 1]], dtype=torch.float64)\n",
    "x = x.view(1, 5, 5)\n",
    "MP = nn.MaxPool2d(kernel_size= 3, stride=1)\n",
    "y = MP(x)\n",
    "print(y)\n",
    "\n",
    "MP2 = nn.AvgPool2d(kernel_size= 3, stride=1)\n",
    "y = MP2(x)\n",
    "print(y)"
   ]
  },
  {
   "cell_type": "code",
   "execution_count": 6,
   "metadata": {},
   "outputs": [
    {
     "name": "stdout",
     "output_type": "stream",
     "text": [
      "torch.Size([3, 1, 10])\n",
      "torch.Size([1, 3, 3, 3])\n"
     ]
    }
   ],
   "source": [
    "#pool test2\n",
    "a = torch.randn(3,5,10)\n",
    "MP3 = nn.MaxPool2d((5,1))\n",
    "c = MP3(a)\n",
    "print(c.shape)\n",
    "\n",
    "x = torch.rand(1, 3, 7, 7)\n",
    "MP4 = nn.AvgPool2d(kernel_size=2, stride=2)\n",
    "print(MP4.forward(x).shape)"
   ]
  },
  {
   "cell_type": "code",
   "execution_count": 7,
   "metadata": {},
   "outputs": [
    {
     "name": "stdout",
     "output_type": "stream",
     "text": [
      "torch.Size([1, 16, 10, 10])\n"
     ]
    }
   ],
   "source": [
    "#Conv-2\n",
    "Conv2 = nn.Conv2d(in_channels=6, out_channels=16, kernel_size=5, stride=1, padding=0)\n",
    "Nf2 = nn.ReLU()\n",
    "output2 = Nf2(Conv2(output1))\n",
    "print(output2.shape)"
   ]
  },
  {
   "cell_type": "code",
   "execution_count": 8,
   "metadata": {},
   "outputs": [
    {
     "name": "stdout",
     "output_type": "stream",
     "text": [
      "torch.Size([1, 16, 5, 5])\n"
     ]
    }
   ],
   "source": [
    "#Poo1-2\n",
    "Pool2 = nn.MaxPool2d((2,2), stride=2, padding=0)\n",
    "output2 = Pool1(output2)\n",
    "print(output2.shape)"
   ]
  },
  {
   "cell_type": "code",
   "execution_count": 9,
   "metadata": {},
   "outputs": [
    {
     "name": "stdout",
     "output_type": "stream",
     "text": [
      "torch.Size([1, 400])\n",
      "torch.Size([1, 10])\n",
      "tensor([[0.1090, 0.1111, 0.1067, 0.0894, 0.0909, 0.0953, 0.0969, 0.0911, 0.1015,\n",
      "         0.1082]], grad_fn=<SoftmaxBackward0>)\n"
     ]
    }
   ],
   "source": [
    "#Flatten\n",
    "output3 = output2.flatten(1)\n",
    "print(output3.shape)\n",
    "\n",
    "#FC\n",
    "FC = nn.Linear(400,10)\n",
    "output3 = FC(output3)\n",
    "print(output3.shape)\n",
    "\n",
    "#SoftMax\n",
    "output = torch.softmax(output3, dim=1)\n",
    "print(output)"
   ]
  },
  {
   "cell_type": "code",
   "execution_count": 10,
   "metadata": {},
   "outputs": [
    {
     "name": "stdout",
     "output_type": "stream",
     "text": [
      "torch.Size([1, 3, 32, 32])\n",
      "torch.Size([1, 6, 28, 28])\n",
      "torch.Size([1, 6, 14, 14])\n",
      "torch.Size([1, 16, 10, 10])\n",
      "torch.Size([1, 16, 5, 5])\n",
      "torch.Size([1, 400])\n",
      "torch.Size([1, 10])\n",
      "tensor([[0.1148, 0.0802, 0.0902, 0.0974, 0.0964, 0.1136, 0.1079, 0.1117, 0.0898,\n",
      "         0.0981]], grad_fn=<SoftmaxBackward0>)\n"
     ]
    }
   ],
   "source": [
    "# A class implementation\n",
    "class CNN(nn.Module):\n",
    "    def __init__(self):\n",
    "        super().__init__()\n",
    "        self.conv1 = nn.Conv2d(in_channels=3,out_channels=6,kernel_size=5,stride=1,padding=0)\n",
    "        self.pool1 = nn.MaxPool2d((2,2),stride=2,padding=0)\n",
    "        self.conv2 = nn.Conv2d(in_channels=6,out_channels=16,kernel_size=5,stride=1,padding=0)\n",
    "        self.pool2 = nn.MaxPool2d((2,2),stride=2,padding=0)\n",
    "        self.fc = nn.Linear(400,10)\n",
    "        self.nf = nn.ReLU()\n",
    "\n",
    "    def forward(self, x):\n",
    "        output1 = self.nf(self.conv1(x))\n",
    "        print(output1.shape)\n",
    "        output1 = self.pool1(output1)\n",
    "        print(output1.shape)\n",
    "        output2 = self.nf(self.conv2(output1))\n",
    "        print(output2.shape)\n",
    "        output2 = self.pool2(output2)\n",
    "        print(output2.shape)\n",
    "        # Flatten\n",
    "        output3 = output2.flatten(1)\n",
    "        print(output3.shape)\n",
    "        # FC\n",
    "        output3 = self.fc(output3)\n",
    "        print(output3.shape)\n",
    "        # SoftMax\n",
    "        output = torch.softmax(output3,dim=1)\n",
    "        return output\n",
    "\n",
    "image = Image.open('5.jpg').convert('RGB')\n",
    "input = transforms.ToTensor()(image).unsqueeze(0)\n",
    "print(input.shape)\n",
    "\n",
    "model = CNN()\n",
    "output = model(input)\n",
    "print(output)"
   ]
  },
  {
   "cell_type": "code",
   "execution_count": 11,
   "metadata": {},
   "outputs": [
    {
     "name": "stdout",
     "output_type": "stream",
     "text": [
      "torch.Size([2, 3, 32, 32])\n",
      "torch.Size([2, 6, 28, 28])\n",
      "torch.Size([2, 6, 14, 14])\n",
      "torch.Size([2, 16, 10, 10])\n",
      "torch.Size([2, 16, 5, 5])\n",
      "torch.Size([2, 400])\n",
      "torch.Size([2, 10])\n",
      "tensor([[0.1036, 0.0995, 0.0887, 0.0912, 0.0944, 0.0996, 0.0997, 0.1055, 0.1075,\n",
      "         0.1102],\n",
      "        [0.1036, 0.0995, 0.0887, 0.0912, 0.0944, 0.0996, 0.0997, 0.1055, 0.1075,\n",
      "         0.1102]], grad_fn=<SoftmaxBackward0>)\n"
     ]
    }
   ],
   "source": [
    "image1 = Image.open('5.jpg').convert('RGB')\n",
    "input1 = transforms.ToTensor()(image).unsqueeze(0)\n",
    "image2 = Image.open('3.jpg').convert('RGB')\n",
    "input2 = transforms.ToTensor()(image).unsqueeze(0)\n",
    "input = torch.cat([input1, input2], 0)\n",
    "print(input.shape)\n",
    "\n",
    "model = CNN()\n",
    "output = model(input)\n",
    "print(output)"
   ]
  },
  {
   "cell_type": "code",
   "execution_count": null,
   "metadata": {},
   "outputs": [],
   "source": []
  }
 ],
 "metadata": {
  "kernelspec": {
   "display_name": "Python 3 (ipykernel)",
   "language": "python",
   "name": "python3"
  },
  "language_info": {
   "codemirror_mode": {
    "name": "ipython",
    "version": 3
   },
   "file_extension": ".py",
   "mimetype": "text/x-python",
   "name": "python",
   "nbconvert_exporter": "python",
   "pygments_lexer": "ipython3",
   "version": "3.11.3"
  }
 },
 "nbformat": 4,
 "nbformat_minor": 4
}
