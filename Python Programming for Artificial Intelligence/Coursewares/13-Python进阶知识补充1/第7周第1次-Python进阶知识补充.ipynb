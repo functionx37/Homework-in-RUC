{
 "cells": [
  {
   "cell_type": "markdown",
   "metadata": {},
   "source": [
    "# Python和Numpy进阶知识补充"
   ]
  },
  {
   "cell_type": "markdown",
   "metadata": {},
   "source": [
    "## 变量、对象、引用 \n"
   ]
  },
  {
   "cell_type": "markdown",
   "metadata": {},
   "source": [
    "## 名字空间"
   ]
  },
  {
   "cell_type": "code",
   "execution_count": 1,
   "metadata": {},
   "outputs": [
    {
     "name": "stdout",
     "output_type": "stream",
     "text": [
      "The Zen of Python, by Tim Peters\n",
      "\n",
      "Beautiful is better than ugly.\n",
      "Explicit is better than implicit.\n",
      "Simple is better than complex.\n",
      "Complex is better than complicated.\n",
      "Flat is better than nested.\n",
      "Sparse is better than dense.\n",
      "Readability counts.\n",
      "Special cases aren't special enough to break the rules.\n",
      "Although practicality beats purity.\n",
      "Errors should never pass silently.\n",
      "Unless explicitly silenced.\n",
      "In the face of ambiguity, refuse the temptation to guess.\n",
      "There should be one-- and preferably only one --obvious way to do it.\n",
      "Although that way may not be obvious at first unless you're Dutch.\n",
      "Now is better than never.\n",
      "Although never is often better than *right* now.\n",
      "If the implementation is hard to explain, it's a bad idea.\n",
      "If the implementation is easy to explain, it may be a good idea.\n",
      "Namespaces are one honking great idea -- let's do more of those!\n"
     ]
    }
   ],
   "source": [
    "import this"
   ]
  },
  {
   "cell_type": "code",
   "execution_count": 13,
   "metadata": {},
   "outputs": [
    {
     "name": "stdout",
     "output_type": "stream",
     "text": [
      "1\n",
      "2\n"
     ]
    },
    {
     "data": {
      "text/plain": [
       "[]"
      ]
     },
     "execution_count": 13,
     "metadata": {},
     "output_type": "execute_result"
    }
   ],
   "source": [
    "# 引用计数\n",
    "import sys\n",
    "print(sys.getrefcount([1,2,3]))\n",
    "l = [1,2,3,4]\n",
    "print(sys.getrefcount(l))\n"
   ]
  },
  {
   "cell_type": "code",
   "execution_count": 39,
   "metadata": {},
   "outputs": [
    {
     "data": {
      "text/plain": [
       "<__main__.F at 0x1026cbad0>"
      ]
     },
     "execution_count": 39,
     "metadata": {},
     "output_type": "execute_result"
    }
   ],
   "source": [
    "# 显示出对象的内存地址\n",
    "class F(object):\n",
    "    pass\n",
    "f = F()\n",
    "f"
   ]
  },
  {
   "cell_type": "code",
   "execution_count": 1,
   "metadata": {},
   "outputs": [],
   "source": [
    "# 字符串是不可变对象\n",
    "name = \"Python\"\n",
    "name += \"AI\""
   ]
  },
  {
   "cell_type": "code",
   "execution_count": 2,
   "metadata": {
    "scrolled": true
   },
   "outputs": [
    {
     "name": "stdout",
     "output_type": "stream",
     "text": [
      "case 1:\n",
      "True\n",
      "True\n",
      "\n",
      "case 2:\n",
      "True\n",
      "False\n"
     ]
    }
   ],
   "source": [
    "# cpython会对常用的整数对象进行缓存\n",
    "print('case 1:')\n",
    "a = 2\n",
    "b = 2\n",
    "print(a == b)\n",
    "print(a is b)\n",
    "\n",
    "print('\\ncase 2:')\n",
    "c = 20000\n",
    "d = 20000\n",
    "print(c == d)\n",
    "print(c is d)"
   ]
  },
  {
   "cell_type": "code",
   "execution_count": 3,
   "metadata": {},
   "outputs": [
    {
     "name": "stdout",
     "output_type": "stream",
     "text": [
      "['hello', [0, 2, 3, 4]]\n",
      "{'list1': [0, 2, 3, 4]}\n"
     ]
    }
   ],
   "source": [
    "# list1、list2[1]和dict1[‘list1’]都是同一个list对象的引用，并且由于list对象是可变对象，\n",
    "# 通过上面三个变量中的任意一个变量修改该list对象都会影响到其余的变量\n",
    "\n",
    "list1=[1,2,3,4]\n",
    "list2=['hello',list1]\n",
    "dict1={'list1':list1}\n",
    "\n",
    "list1[0] = 0\n",
    "print(list2)\n",
    "print(dict1)"
   ]
  },
  {
   "cell_type": "code",
   "execution_count": 4,
   "metadata": {},
   "outputs": [
    {
     "name": "stdout",
     "output_type": "stream",
     "text": [
      "[0, 2, 3]\n",
      "[0, 2, 3]\n",
      "True\n",
      "True\n"
     ]
    }
   ],
   "source": [
    "# 赋值会使两个变量引用同一个变量\n",
    "l1 = [1,2,3]\n",
    "l2 = l1\n",
    "l1[0] = 0\n",
    "print(l1)\n",
    "print(l2)\n",
    "print(l1 == l2)\n",
    "print(l1 is l2)"
   ]
  },
  {
   "cell_type": "code",
   "execution_count": 5,
   "metadata": {},
   "outputs": [
    {
     "name": "stdout",
     "output_type": "stream",
     "text": [
      "[0, 2, 3]\n",
      "[1, 2, 3]\n"
     ]
    }
   ],
   "source": [
    "# 更多和可变对象相关的例子\n",
    "l1 = [1,2,3]\n",
    "l3 = [1,2,3]\n",
    "l1[0] = 0\n",
    "print(l1)\n",
    "print(l3)"
   ]
  },
  {
   "cell_type": "code",
   "execution_count": 6,
   "metadata": {},
   "outputs": [
    {
     "name": "stdout",
     "output_type": "stream",
     "text": [
      "True\n",
      "False\n"
     ]
    }
   ],
   "source": [
    "l1 = [1,2,3]\n",
    "l3 = [1,2,3]\n",
    "print(l1 == l3)\n",
    "print(l1 is l3)"
   ]
  },
  {
   "cell_type": "code",
   "execution_count": 7,
   "metadata": {},
   "outputs": [
    {
     "name": "stdout",
     "output_type": "stream",
     "text": [
      "[6]\n",
      "[1, 2, 3, 4, 5]\n"
     ]
    }
   ],
   "source": [
    "old = [1, 2, 3, 4, 5]\n",
    "new = old\n",
    "old = [6]\n",
    "print(old)\n",
    "print(new)"
   ]
  },
  {
   "cell_type": "code",
   "execution_count": 8,
   "metadata": {},
   "outputs": [
    {
     "name": "stdout",
     "output_type": "stream",
     "text": [
      "4335858784\n",
      "4335853392\n"
     ]
    }
   ],
   "source": [
    "print(id(old))\n",
    "print(id(new))"
   ]
  },
  {
   "cell_type": "code",
   "execution_count": 9,
   "metadata": {},
   "outputs": [
    {
     "name": "stdout",
     "output_type": "stream",
     "text": [
      "True\n",
      "4335739360 4335739360\n",
      "{'name': 'Charles L. Dodgson', 'born': 1832, 'balance': 950}\n"
     ]
    }
   ],
   "source": [
    "# 一个标识与别名的例子\n",
    "charles = {'name': 'Charles L. Dodgson', 'born': 1832, 'balance': 900}\n",
    "lewis = charles\n",
    "print(lewis is charles)\n",
    "print(id(lewis), id(charles))\n",
    "lewis['balance'] = 950\n",
    "print(charles)"
   ]
  },
  {
   "cell_type": "code",
   "execution_count": 10,
   "metadata": {},
   "outputs": [
    {
     "name": "stdout",
     "output_type": "stream",
     "text": [
      "True\n",
      "True\n"
     ]
    }
   ],
   "source": [
    "# 冒充者\n",
    "alex = {'name': 'Charles L. Dodgson', 'born': 1832, 'balance': 950}\n",
    "print(lewis == alex)\n",
    "print(alex is not lewis)"
   ]
  },
  {
   "cell_type": "code",
   "execution_count": 11,
   "metadata": {},
   "outputs": [
    {
     "name": "stdout",
     "output_type": "stream",
     "text": [
      "True\n"
     ]
    }
   ],
   "source": [
    "# 元组是不可变对象，但是元组中的元素可以是可变对象\n",
    "t1 = (1, 2, [30, 40])\n",
    "t2 = (1, 2, [30, 40])\n",
    "print(t1 == t2)"
   ]
  },
  {
   "cell_type": "code",
   "execution_count": 12,
   "metadata": {},
   "outputs": [
    {
     "data": {
      "text/plain": [
       "4335861184"
      ]
     },
     "execution_count": 12,
     "metadata": {},
     "output_type": "execute_result"
    }
   ],
   "source": [
    "id(t1[-1])"
   ]
  },
  {
   "cell_type": "code",
   "execution_count": 13,
   "metadata": {},
   "outputs": [
    {
     "name": "stdout",
     "output_type": "stream",
     "text": [
      "(1, 2, [30, 40, 1000])\n",
      "False\n",
      "4335861184\n"
     ]
    }
   ],
   "source": [
    "t1[-1].append(1000)\n",
    "print(t1)\n",
    "print(t1 == t2)\n",
    "print(id(t1[-1]))"
   ]
  },
  {
   "cell_type": "code",
   "execution_count": 45,
   "metadata": {},
   "outputs": [
    {
     "name": "stdout",
     "output_type": "stream",
     "text": [
      "1773855374528\n",
      "[3, [55, 44], (7, 8, 9)] 1773855424640\n",
      "[3, [55, 44], (7, 8, 9)] 1773855374144\n",
      "True\n",
      "False\n",
      "False\n"
     ]
    }
   ],
   "source": [
    "l1 = [3, [55, 44], (7, 8, 9)]\n",
    "print(id(l1))\n",
    "l2 = list(l1)\n",
    "l3 = l1[:]\n",
    "print(l2,id(l2))\n",
    "print(l3,id(l3))\n",
    "print(l1 == l2 == l3)\n",
    "print(l2 is l1)\n",
    "print(l3 is l1)"
   ]
  },
  {
   "cell_type": "code",
   "execution_count": 14,
   "metadata": {},
   "outputs": [
    {
     "name": "stdout",
     "output_type": "stream",
     "text": [
      "4335872432\n",
      "False\n",
      "4299751232\n",
      "4299751232\n"
     ]
    }
   ],
   "source": [
    "# 浅复制\n",
    "from copy import copy\n",
    "l4 = l1.copy()\n",
    "print(id(l4))\n",
    "print(l4 is l1)\n",
    "print(id(l1[1]))\n",
    "print(id(l4[1]))"
   ]
  },
  {
   "cell_type": "code",
   "execution_count": 15,
   "metadata": {},
   "outputs": [
    {
     "name": "stdout",
     "output_type": "stream",
     "text": [
      "l1: [3, [66, 44], (7, 8, 9), 100]\n",
      "l2: [3, [66, 44], (7, 8, 9)]\n",
      "l1: [3, [66, 44, 33, 22], (7, 8, 9), 100]\n",
      "l2: [3, [66, 44, 33, 22], (7, 8, 9, 10, 11)]\n"
     ]
    }
   ],
   "source": [
    "# 浅复制\n",
    "from copy import copy, deepcopy\n",
    "\n",
    "l1 = [3, [66, 55, 44], (7, 8, 9)]\n",
    "l2 = copy(l1)    #浅复制了l1\n",
    "l1.append(100)    #l1列表在尾部添加数值100\n",
    "l1[1].remove(55)   #移除列表中第1个索引的值\n",
    "print('l1:', l1)\n",
    "print('l2:', l2)\n",
    "l2[1] += [33, 22]   #l2列表中第1个索引做列表拼接\n",
    "l2[2] += (10, 11)   #l2列表中的第2个索引做元祖拼接\n",
    "print('l1:', l1)\n",
    "print('l2:', l2)"
   ]
  },
  {
   "cell_type": "code",
   "execution_count": 16,
   "metadata": {},
   "outputs": [
    {
     "name": "stdout",
     "output_type": "stream",
     "text": [
      "l1: [3, [66, 44], (7, 8, 9), 100]\n",
      "l2: [3, [66, 55, 44], (7, 8, 9)]\n",
      "l1: [3, [66, 44], (7, 8, 9), 100]\n",
      "l2: [3, [66, 55, 44, 33, 22], (7, 8, 9, 10, 11)]\n"
     ]
    }
   ],
   "source": [
    "# 深复制\n",
    "from copy import copy, deepcopy\n",
    "\n",
    "l1 = [3, [66, 55, 44], (7, 8, 9)]\n",
    "l2 = deepcopy(l1)    #深复制了l2\n",
    "l1.append(100)    #l1列表在尾部添加数值100\n",
    "l1[1].remove(55)   #移除列表中第1个索引的值\n",
    "print('l1:', l1)\n",
    "print('l2:', l2)\n",
    "l2[1] += [33, 22]   #l2列表中第1个索引做列表拼接\n",
    "l2[2] += (10, 11)   #l2列表中的第2个索引做元祖拼接\n",
    "print('l1:', l1)\n",
    "print('l2:', l2)"
   ]
  },
  {
   "cell_type": "code",
   "execution_count": 18,
   "metadata": {},
   "outputs": [],
   "source": [
    "# 对象的复制\n",
    "class Bus: \n",
    "    def __init__(self, passengers=None):\n",
    "        if passengers is None:\n",
    "            self.passengers = []\n",
    "        else:\n",
    "            self.passengers = list(passengers)\n",
    " \n",
    "    def pick(self, name):\n",
    "        self.passengers.append(name)\n",
    " \n",
    "    def drop(self, name):\n",
    "        self.passengers.remove(name)"
   ]
  },
  {
   "cell_type": "code",
   "execution_count": 19,
   "metadata": {},
   "outputs": [
    {
     "name": "stdout",
     "output_type": "stream",
     "text": [
      "4335646288 4335646544 4335645712\n",
      "bus2: ['Alice', 'Claire', 'David']\n",
      "4335850192 4335850192 4335838224\n",
      "bus3: ['Alice', 'Bill', 'Claire', 'David']\n"
     ]
    }
   ],
   "source": [
    "from copy import copy, deepcopy\n",
    " \n",
    "bus1 = Bus(['Alice', 'Bill', 'Claire', 'David'])\n",
    "bus2 = copy(bus1)      #bus2浅复制的bus1\n",
    "bus3 = deepcopy(bus1)     #bus3深复制了bus1\n",
    "print(id(bus1), id(bus2), id(bus3))  #查看三个对象的内存地址\n",
    " \n",
    "bus1.drop('Bill')      #bus1的车上Bill下车了\n",
    "print('bus2:', bus2.passengers)   #bus2中的Bill也没有了！\n",
    "print(id(bus1.passengers), id(bus2.passengers), id(bus3.passengers)) \n",
    "#审查 passengers 属性后发现，bus1和bus2共享同一个列表对象，因为bus2是bus1的浅复制副本\n",
    " \n",
    "print('bus3:', bus3.passengers)   \n",
    "#bus3是bus1 的深复制副本，因此它的 passengers 属性指代另一个列表"
   ]
  },
  {
   "cell_type": "code",
   "execution_count": 20,
   "metadata": {},
   "outputs": [
    {
     "name": "stdout",
     "output_type": "stream",
     "text": [
      "[10, 20, [[...], 30]]\n",
      "[[10, 20, [...]], 30]\n",
      "[[10, 20, [...]], 30]\n"
     ]
    }
   ],
   "source": [
    "# 一个递归引用的例子\n",
    "# deepcopy能正确的处理\n",
    "a = [10, 20]\n",
    "b = [a, 30]\n",
    "a.append(b)\n",
    "print(a)\n",
    "\n",
    "from copy import copy, deepcopy\n",
    "c = deepcopy(a)\n",
    "e = a.copy()\n",
    "print(c[2][0][2][0][2][0][2][0][2])\n",
    "print(e[2][0][2][0][2][0][2][0][2])"
   ]
  },
  {
   "cell_type": "code",
   "execution_count": 21,
   "metadata": {},
   "outputs": [
    {
     "name": "stdout",
     "output_type": "stream",
     "text": [
      "3\n",
      "1 2\n",
      "[1, 2, 3, 4]\n",
      "[1, 2, 3, 4] [3, 4]\n",
      "(10, 20, 30, 40)\n",
      "(10, 20) (30, 40)\n"
     ]
    }
   ],
   "source": [
    "# Python的参数传递模式是共享传参（call by sharing）\n",
    "# 共享传参指函数的各个形式参数获得实参中各个引用的副本\n",
    "def f(a, b):\n",
    "    a += b\n",
    "    return a\n",
    "\n",
    "x = 1\n",
    "y = 2\n",
    "print(f(x, y))\n",
    "print(x, y)\n",
    "\n",
    "a = [1, 2]\n",
    "b = [3, 4]\n",
    "print(f(a, b))\n",
    "print(a, b)\n",
    "\n",
    "t = (10, 20)\n",
    "u = (30, 40)\n",
    "print(f(t, u))\n",
    "print(t, u)"
   ]
  },
  {
   "cell_type": "code",
   "execution_count": 22,
   "metadata": {},
   "outputs": [
    {
     "name": "stdout",
     "output_type": "stream",
     "text": [
      "bus1上的乘客： ['Alice', 'Bill']\n",
      "bus1上的乘客： ['Bill', 'Charlie']\n",
      "bus2上的乘客： ['Carrie']\n",
      "bus3上的乘客： ['Carrie']\n",
      "bus2上的乘客： ['Carrie', 'Dave']\n",
      "bus2是否为bus3的对象： True\n",
      "bus1上的乘客： ['Bill', 'Charlie']\n"
     ]
    }
   ],
   "source": [
    "# 危险的可变默认值\n",
    "class HauntedBus:\n",
    "    '''\n",
    "     备受折磨的幽灵车\n",
    "    ''' \n",
    "    def __init__(self, passengers=[]):\n",
    "        self.passengers = passengers\n",
    " \n",
    "    def pick(self, name):\n",
    "        self.passengers.append(name)\n",
    " \n",
    "    def drop(self, name):\n",
    "        self.passengers.remove(name)\n",
    "  \n",
    "bus1 = HauntedBus(['Alice', 'Bill'])\n",
    "print('bus1上的乘客：', bus1.passengers)\n",
    "bus1.pick('Charlie')   #bus1上来一名乘客Charile\n",
    "bus1.drop('Alice')    #bus1下去一名乘客Alice\n",
    "print('bus1上的乘客：', bus1.passengers)   #打印bus1上的乘客\n",
    " \n",
    "bus2 = HauntedBus()    #实例化bus2\n",
    "bus2.pick('Carrie')    #bus2上来一名乘客Carrie\n",
    "print('bus2上的乘客：', bus2.passengers)\n",
    " \n",
    "bus3 = HauntedBus()\n",
    "print('bus3上的乘客：', bus3.passengers)\n",
    "bus3.pick('Dave')\n",
    "print('bus2上的乘客：', bus2.passengers)  \n",
    "#登录到bus3上的乘客Dava跑到了bus2上面\n",
    " \n",
    "print('bus2是否为bus3的对象：', bus2.passengers is bus3.passengers)\n",
    "print('bus1上的乘客：', bus1.passengers)"
   ]
  }
 ],
 "metadata": {
  "kernelspec": {
   "display_name": "Python 3 (ipykernel)",
   "language": "python",
   "name": "python3"
  },
  "language_info": {
   "codemirror_mode": {
    "name": "ipython",
    "version": 3
   },
   "file_extension": ".py",
   "mimetype": "text/x-python",
   "name": "python",
   "nbconvert_exporter": "python",
   "pygments_lexer": "ipython3",
   "version": "3.9.7"
  }
 },
 "nbformat": 4,
 "nbformat_minor": 4
}
