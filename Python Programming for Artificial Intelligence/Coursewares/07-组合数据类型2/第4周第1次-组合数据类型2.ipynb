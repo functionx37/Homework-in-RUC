{
 "cells": [
  {
   "cell_type": "markdown",
   "metadata": {},
   "source": [
    "# Python组合数据类型（二）"
   ]
  },
  {
   "cell_type": "markdown",
   "metadata": {},
   "source": [
    "## 本讲提纲\n",
    "* 字典类型的概念与操作\n",
    "* 组合数据类型高级操作\n",
    "* collections模块中的提供的数据类型"
   ]
  },
  {
   "cell_type": "markdown",
   "metadata": {},
   "source": [
    "## 字典类型的概念与操作"
   ]
  },
  {
   "cell_type": "markdown",
   "metadata": {},
   "source": [
    "### 字典类型的概念\n",
    "\n",
    "上节课中介绍的序列类组合数据类型（如：元组（tuple）和列表（list））让我们可以使用整数索引来查找元素，例如："
   ]
  },
  {
   "cell_type": "code",
   "execution_count": 1,
   "metadata": {},
   "outputs": [
    {
     "name": "stdout",
     "output_type": "stream",
     "text": [
      "RUC 中国人民大学\n",
      "THU 清华大学\n"
     ]
    }
   ],
   "source": [
    "short_names = ['RUC', 'THU', 'PKU', 'BIT', 'BUAA']\n",
    "full_names = ['中国人民大学', '清华大学', '北京大学', '北京理工大学', '北京航空航天大学']\n",
    "print(short_names[0], full_names[0])\n",
    "print(short_names[1], full_names[1])"
   ]
  },
  {
   "cell_type": "markdown",
   "metadata": {},
   "source": [
    "但很多时候我们需要更加灵活的信息查找方式，例如，我们想通过学校的简称找到学校的全称，这时我们需要利用一个字符串，查找另一个字符串。编程术语中，我们常将用来查询的信息叫做\"键（key）”，将查找到的信息叫做“值（value）”。相应的键和值构成了“键值对（key-value pair）”。通过任意键信息查找一组数据中对应的值信息的过程叫做映射。在上面的例子中，“学校的简称”就是键信息,而学校的全名就是值信息。在Python语言中我们可以通过字典实现映射。\n",
    "\n",
    "需要注意，字典中的键是唯一的，而值可以重复。"
   ]
  },
  {
   "cell_type": "markdown",
   "metadata": {},
   "source": [
    "### 字典类型的创建\n",
    "\n",
    "字典类型的创建方法有以下几种："
   ]
  },
  {
   "cell_type": "code",
   "execution_count": 2,
   "metadata": {},
   "outputs": [
    {
     "name": "stdout",
     "output_type": "stream",
     "text": [
      "{'RUC': '中国人民大学', 'THU': '清华大学', 'PKU': '北京大学', 'BIT': '北京理工大学', 'BUAA': '北京航空航天大学'}\n",
      "{}\n"
     ]
    }
   ],
   "source": [
    "dict1 = {'RUC': '中国人民大学', \n",
    "         'THU': '清华大学', \n",
    "         'PKU': '北京大学', \n",
    "         'BIT': '北京理工大学', \n",
    "         'BUAA': '北京航空航天大学'} # 用{}创建\n",
    "empty_dict = {} # 可以用这个方式创建空字典\n",
    "\n",
    "print(dict1)\n",
    "print(empty_dict)"
   ]
  },
  {
   "cell_type": "code",
   "execution_count": 3,
   "metadata": {},
   "outputs": [
    {
     "name": "stdout",
     "output_type": "stream",
     "text": [
      "{}\n",
      "{'RUC': '中国人民大学', 'THU': '清华大学', 'PKU': '北京大学', 'BIT': '北京理工大学', 'BUAA': '北京航空航天大学'}\n",
      "{'RUC': '中国人民大学', 'THU': '清华大学', 'PKU': '北京大学', 'BIT': '北京理工大学', 'BUAA': '北京航空航天大学'}\n",
      "{'RUC': '中国人民大学', 'THU': '清华大学', 'PKU': '北京大学', 'BIT': '北京理工大学', 'BUAA': '北京航空航天大学'}\n"
     ]
    }
   ],
   "source": [
    "empty_dict = dict() # 利用构造函数创建字典对象\n",
    "dict2 = dict(dict1) # 利用另一个dict创建，注意这里dict1中的数据会被拷贝一份\n",
    "dict3 = dict([('RUC', '中国人民大学'), \n",
    "              ('THU', '清华大学'),\n",
    "              ('PKU', '北京大学'),\n",
    "              ('BIT', '北京理工大学'),\n",
    "              ('BUAA', '北京航空航天大学')]) # 利用包含 键值对 的序列对象创建\n",
    "dict4 = dict((['RUC', '中国人民大学'], \n",
    "              ['THU', '清华大学'], \n",
    "              ['PKU', '北京大学'], \n",
    "              ['BIT', '北京理工大学'],\n",
    "              ['BUAA', '北京航空航天大学'])) # 元组也是序列对象；键值对 可以是列表\n",
    "\n",
    "print(empty_dict)\n",
    "print(dict2)\n",
    "print(dict3)\n",
    "print(dict4)"
   ]
  },
  {
   "cell_type": "code",
   "execution_count": 4,
   "metadata": {},
   "outputs": [
    {
     "name": "stdout",
     "output_type": "stream",
     "text": [
      "{'RUC': '中国人民大学', 'THU': '清华大学', 'PKU': '北京大学', 'BIT': '北京理工大学', 'BUAA': '北京航空航天大学'}\n",
      "{'RUC': '中国人民大学', 'THU': '清华大学', 'PKU': '北京大学', 'BIT': '北京理工大学', 'BUAA': '北京航空航天大学', 'FDU': '复旦大学'}\n"
     ]
    }
   ],
   "source": [
    "# 一种\"特殊\"的创建方式\n",
    "dict5 = dict(RUC='中国人民大学', \n",
    "             THU='清华大学', \n",
    "             PKU='北京大学', \n",
    "             BIT='北京理工大学', \n",
    "             BUAA='北京航空航天大学')\n",
    "dict6 = dict(dict1, FDU='复旦大学') # 还可以和其他创建方式一起使用\n",
    "\n",
    "print(dict5)\n",
    "print(dict6)"
   ]
  },
  {
   "cell_type": "markdown",
   "metadata": {},
   "source": [
    "我们之前学习了，在定义函数时，可以设计可变数量的参数，这些参数会以元组（tuple）的形式被传递到函数内。例如："
   ]
  },
  {
   "cell_type": "code",
   "execution_count": 5,
   "metadata": {},
   "outputs": [
    {
     "name": "stdout",
     "output_type": "stream",
     "text": [
      "<class 'tuple'>\n",
      "(1,)\n",
      "<class 'tuple'>\n",
      "(1, 2)\n"
     ]
    }
   ],
   "source": [
    "def f(*args):\n",
    "    print(type(args))\n",
    "    print(args)\n",
    "    \n",
    "f(1)\n",
    "f(1, 2)"
   ]
  },
  {
   "cell_type": "markdown",
   "metadata": {},
   "source": [
    "类似的，我们可以设计基于键值对的参数(keyword arguments)，这些参数会以字典（dict）的形式被传递到函数内。例如："
   ]
  },
  {
   "cell_type": "code",
   "execution_count": 6,
   "metadata": {},
   "outputs": [
    {
     "name": "stdout",
     "output_type": "stream",
     "text": [
      "<class 'dict'>\n",
      "{}\n",
      "<class 'dict'>\n",
      "{'RUC': '中国人民大学', 'THU': '清华大学'}\n"
     ]
    }
   ],
   "source": [
    "def g(**kwargs):\n",
    "    print(type(kwargs))\n",
    "    print(kwargs)\n",
    "\n",
    "g()\n",
    "g(RUC='中国人民大学', THU='清华大学')\n"
   ]
  },
  {
   "cell_type": "markdown",
   "metadata": {},
   "source": [
    "### 字典类型的操作\n",
    "\n",
    "我们可以利用利用键索引字典中保存的值，例如："
   ]
  },
  {
   "cell_type": "code",
   "execution_count": 7,
   "metadata": {},
   "outputs": [
    {
     "name": "stdout",
     "output_type": "stream",
     "text": [
      "中国人民大学\n"
     ]
    },
    {
     "ename": "KeyError",
     "evalue": "'FDU'",
     "output_type": "error",
     "traceback": [
      "\u001b[0;31m---------------------------------------------------------------------------\u001b[0m",
      "\u001b[0;31mKeyError\u001b[0m                                  Traceback (most recent call last)",
      "\u001b[0;32m<ipython-input-7-227324f668a8>\u001b[0m in \u001b[0;36m<module>\u001b[0;34m\u001b[0m\n\u001b[1;32m      1\u001b[0m \u001b[0mprint\u001b[0m\u001b[0;34m(\u001b[0m\u001b[0mdict1\u001b[0m\u001b[0;34m[\u001b[0m\u001b[0;34m'RUC'\u001b[0m\u001b[0;34m]\u001b[0m\u001b[0;34m)\u001b[0m\u001b[0;34m\u001b[0m\u001b[0;34m\u001b[0m\u001b[0m\n\u001b[0;32m----> 2\u001b[0;31m \u001b[0mprint\u001b[0m\u001b[0;34m(\u001b[0m\u001b[0mdict1\u001b[0m\u001b[0;34m[\u001b[0m\u001b[0;34m'FDU'\u001b[0m\u001b[0;34m]\u001b[0m\u001b[0;34m)\u001b[0m \u001b[0;31m# 若键信息不在字典里，会报错\u001b[0m\u001b[0;34m\u001b[0m\u001b[0;34m\u001b[0m\u001b[0m\n\u001b[0m",
      "\u001b[0;31mKeyError\u001b[0m: 'FDU'"
     ]
    }
   ],
   "source": [
    "print(dict1['RUC'])\n",
    "print(dict1['FDU']) # 若键信息不在字典里，会报错"
   ]
  },
  {
   "cell_type": "code",
   "execution_count": 8,
   "metadata": {},
   "outputs": [
    {
     "name": "stdout",
     "output_type": "stream",
     "text": [
      "中国人民大学\n",
      "名称未知\n"
     ]
    }
   ],
   "source": [
    "print(dict1.get('RUC')) # 也可以使用get方法\n",
    "print(dict1.get('FDU', '名称未知')) # get方法的第二个参数是若键信息不在字典里时返回的默认值信息"
   ]
  },
  {
   "cell_type": "markdown",
   "metadata": {},
   "source": [
    "我们还可以判断某一个键是否在字典中："
   ]
  },
  {
   "cell_type": "code",
   "execution_count": 9,
   "metadata": {},
   "outputs": [
    {
     "name": "stdout",
     "output_type": "stream",
     "text": [
      "True\n",
      "False\n"
     ]
    }
   ],
   "source": [
    "print('RUC' in dict1)\n",
    "print('FDU' in dict1)"
   ]
  },
  {
   "cell_type": "markdown",
   "metadata": {},
   "source": [
    "以及通过键信息增加、修改值信息和删除相应的键值对："
   ]
  },
  {
   "cell_type": "code",
   "execution_count": 10,
   "metadata": {},
   "outputs": [
    {
     "name": "stdout",
     "output_type": "stream",
     "text": [
      "{'RUC': '中国人民大学', 'THU': '清华大学', 'PKU': '北京大学', 'BIT': '北京理工大学', 'BUAA': '北京航空航天大学'}\n",
      "{'RUC': 'Renmin University of China', 'THU': '清华大学', 'PKU': '北京大学', 'BIT': '北京理工大学', 'BUAA': '北京航空航天大学', 'FDU': '复旦大学'}\n"
     ]
    }
   ],
   "source": [
    "dict2 = dict(dict1)\n",
    "print(dict2)\n",
    "dict2['FDU'] = '复旦大学'\n",
    "dict2['RUC'] = 'Renmin University of China'\n",
    "print(dict2)"
   ]
  },
  {
   "cell_type": "code",
   "execution_count": 11,
   "metadata": {},
   "outputs": [
    {
     "name": "stdout",
     "output_type": "stream",
     "text": [
      "{'RUC': '中国人民大学', 'THU': '清华大学', 'PKU': '北京大学', 'BIT': '北京理工大学', 'BUAA': '北京航空航天大学'}\n",
      "{'THU': '清华大学', 'PKU': '北京大学', 'BIT': '北京理工大学', 'BUAA': '北京航空航天大学'}\n"
     ]
    }
   ],
   "source": [
    "dict2 = dict(dict1)\n",
    "print(dict2)\n",
    "del dict2['RUC']\n",
    "print(dict2)"
   ]
  },
  {
   "cell_type": "markdown",
   "metadata": {},
   "source": [
    "\\<d\\>[\\<key\\>]和<d>.get()函数返回的都是对象，我们还可以调用对象对应的方法，例如："
   ]
  },
  {
   "cell_type": "code",
   "execution_count": 12,
   "metadata": {},
   "outputs": [
    {
     "name": "stdout",
     "output_type": "stream",
     "text": [
      "{'THU': '清华大学', 'PKU': '北京大学', 'BIT': '北京理工大学', 'BUAA': '北京航空航天大学', 'RUC': ['中国人民大学', 'Renmin University of China']}\n"
     ]
    }
   ],
   "source": [
    "dict2['RUC'] = []\n",
    "dict2['RUC'].append('中国人民大学')\n",
    "dict2['RUC'].append('Renmin University of China')\n",
    "print(dict2)"
   ]
  },
  {
   "cell_type": "markdown",
   "metadata": {},
   "source": [
    "我们还可以分别获取一个字典中的所有键、值、以及键值对。"
   ]
  },
  {
   "cell_type": "code",
   "execution_count": 13,
   "metadata": {},
   "outputs": [
    {
     "name": "stdout",
     "output_type": "stream",
     "text": [
      "dict_keys(['RUC', 'THU', 'PKU', 'BIT', 'BUAA'])\n",
      "dict_values(['中国人民大学', '清华大学', '北京大学', '北京理工大学', '北京航空航天大学'])\n",
      "dict_items([('RUC', '中国人民大学'), ('THU', '清华大学'), ('PKU', '北京大学'), ('BIT', '北京理工大学'), ('BUAA', '北京航空航天大学')])\n"
     ]
    }
   ],
   "source": [
    "dict2 = dict(dict1)\n",
    "keys = dict2.keys()\n",
    "print(keys)\n",
    "values = dict2.values()\n",
    "print(values)\n",
    "items = dict2.items()\n",
    "print(items)"
   ]
  },
  {
   "cell_type": "markdown",
   "metadata": {},
   "source": [
    "需要注意的是，上述方法获得均为字典中相应信息的一个视图（view），即如果我们修改了字典中的内容，上述视图对象也会相应变化，例如："
   ]
  },
  {
   "cell_type": "code",
   "execution_count": 14,
   "metadata": {},
   "outputs": [
    {
     "name": "stdout",
     "output_type": "stream",
     "text": [
      "dict_keys(['THU', 'PKU', 'BIT', 'BUAA'])\n",
      "dict_values(['清华大学', '北京大学', '北京理工大学', '北京航空航天大学'])\n",
      "dict_items([('THU', '清华大学'), ('PKU', '北京大学'), ('BIT', '北京理工大学'), ('BUAA', '北京航空航天大学')])\n"
     ]
    }
   ],
   "source": [
    "del dict2['RUC']\n",
    "print(keys)\n",
    "print(values)\n",
    "print(items)"
   ]
  },
  {
   "cell_type": "markdown",
   "metadata": {},
   "source": [
    "我们也可以使用for ... in ... 语句遍历字典中的信息，例如："
   ]
  },
  {
   "cell_type": "code",
   "execution_count": 15,
   "metadata": {},
   "outputs": [
    {
     "name": "stdout",
     "output_type": "stream",
     "text": [
      "RUC\n",
      "THU\n",
      "PKU\n",
      "BIT\n",
      "BUAA\n",
      "RUC 中国人民大学\n",
      "THU 清华大学\n",
      "PKU 北京大学\n",
      "BIT 北京理工大学\n",
      "BUAA 北京航空航天大学\n"
     ]
    }
   ],
   "source": [
    "dict2 = dict(dict1)\n",
    "for key in dict2: # 该语句会遍历字典中所有键\n",
    "    print(key) \n",
    "    \n",
    "for key, value in dict2.items(): # 这样可以遍历所有键值对\n",
    "    print(key, value)"
   ]
  },
  {
   "cell_type": "markdown",
   "metadata": {},
   "source": [
    "其他一些字典相关的操作："
   ]
  },
  {
   "cell_type": "code",
   "execution_count": 16,
   "metadata": {},
   "outputs": [
    {
     "name": "stdout",
     "output_type": "stream",
     "text": [
      "5\n",
      "{}\n",
      "{'RUC': '中国人民大学', 'THU': '清华大学', 'PKU': '北京大学', 'BIT': '北京理工大学', 'BUAA': '北京航空航天大学'}\n",
      "{'RUC': 'Renmin University of China', 'THU': 'Tsinghua University', 'PKU': '北京大学', 'BIT': '北京理工大学', 'BUAA': '北京航空航天大学'}\n",
      "北京大学\n",
      "{'RUC': 'Renmin University of China', 'THU': 'Tsinghua University', 'BIT': '北京理工大学', 'BUAA': '北京航空航天大学'}\n"
     ]
    }
   ],
   "source": [
    "dict2 = dict(dict1)\n",
    "print(len(dict2)) # 字典的大小（包含键值对的个数）\n",
    "\n",
    "dict2.clear() # 清空字典\n",
    "print(dict2)\n",
    "\n",
    "dict2 = dict1.copy() # 返回一个字典的拷贝\n",
    "print(dict2)\n",
    "\n",
    "dict2.update({'RUC': 'Renmin University of China',\n",
    "              'THU': 'Tsinghua University'}) # 批量更新字典中键值对\n",
    "print(dict2)\n",
    "\n",
    "print(dict2.pop('PKU')) # 按键查找，然后删除相应键值对\n",
    "print(dict2)\n"
   ]
  },
  {
   "cell_type": "code",
   "execution_count": 17,
   "metadata": {},
   "outputs": [
    {
     "name": "stdout",
     "output_type": "stream",
     "text": [
      "('BUAA', '北京航空航天大学')\n",
      "{'RUC': '中国人民大学', 'THU': '清华大学', 'PKU': '北京大学', 'BIT': '北京理工大学'}\n",
      "('BIT', '北京理工大学')\n",
      "{'RUC': '中国人民大学', 'THU': '清华大学', 'PKU': '北京大学'}\n",
      "('PKU', '北京大学')\n",
      "{'RUC': '中国人民大学', 'THU': '清华大学'}\n"
     ]
    }
   ],
   "source": [
    "dict2 = dict(dict1)\n",
    "\n",
    "print(dict2.popitem()) # 返回一个键值对，并将其删掉 \n",
    "print(dict2)\n",
    "\n",
    "\"\"\"\n",
    "注意在3.7版以前，popitem会随机返回一个键值对，但是在3.7版之后，会返回最后一个被添加的键值对\n",
    "\"\"\"\n",
    "print(dict2.popitem()) \n",
    "print(dict2)\n",
    "\n",
    "print(dict2.popitem()) \n",
    "print(dict2)"
   ]
  },
  {
   "cell_type": "markdown",
   "metadata": {},
   "source": [
    "### 思考：什么样的信息可以作为字典的值信息和键信息？\n",
    "\n",
    "任意基本数据类型、组合数据类型、甚至是函数，均可以作为字典的值。所有的对象（object）均可以作为字典的值。"
   ]
  },
  {
   "cell_type": "code",
   "execution_count": 18,
   "metadata": {},
   "outputs": [
    {
     "name": "stdout",
     "output_type": "stream",
     "text": [
      "{'RUC': 1, 'THU': '清华大学', 'PKU': '北京大学', 'BIT': '北京理工大学', 'BUAA': '北京航空航天大学'}\n",
      "{'RUC': ('中国人民大学', 'Renmin University of China'), 'THU': '清华大学', 'PKU': '北京大学', 'BIT': '北京理工大学', 'BUAA': '北京航空航天大学'}\n",
      "{'RUC': ['中国人民大学', 'Renmin University of China'], 'THU': '清华大学', 'PKU': '北京大学', 'BIT': '北京理工大学', 'BUAA': '北京航空航天大学'}\n",
      "{'RUC': {'中文名': '中国人民大学', '英文名': 'Renmin University of China'}, 'THU': '清华大学', 'PKU': '北京大学', 'BIT': '北京理工大学', 'BUAA': '北京航空航天大学'}\n",
      "中国人民大学\n"
     ]
    }
   ],
   "source": [
    "dict2 = dict(dict1)\n",
    "dict2['RUC'] = 1 # 基本数据类型\n",
    "print(dict2)\n",
    "\n",
    "dict2['RUC'] = ('中国人民大学', 'Renmin University of China') # 组合数据类型，元组\n",
    "print(dict2)\n",
    "dict2['RUC'] = ['中国人民大学', 'Renmin University of China'] # 组合数据类型，列表\n",
    "print(dict2)\n",
    "\n",
    "# 字典可以嵌套\n",
    "dict2['RUC'] = {'中文名': '中国人民大学', '英文名': 'Renmin University of China'} \n",
    "print(dict2)\n",
    "print(dict2['RUC']['中文名'])"
   ]
  },
  {
   "cell_type": "code",
   "execution_count": 19,
   "metadata": {},
   "outputs": [
    {
     "name": "stdout",
     "output_type": "stream",
     "text": [
      "{'RUC': <function output_ruc at 0x7f99ea748820>, 'THU': '清华大学', 'PKU': '北京大学', 'BIT': '北京理工大学', 'BUAA': '北京航空航天大学'}\n",
      "中文名: 中国人民大学\t英文名: Renmin University of China\n"
     ]
    }
   ],
   "source": [
    "# 字典的值还可以是一个函数\n",
    "def output_ruc():\n",
    "    print('中文名: 中国人民大学\\t英文名: Renmin University of China')\n",
    "dict2['RUC'] = output_ruc\n",
    "print(dict2)\n",
    "dict2['RUC']() # 在一个函数后加上括号就可以调用这个函数！"
   ]
  },
  {
   "cell_type": "code",
   "execution_count": 26,
   "metadata": {},
   "outputs": [
    {
     "name": "stdin",
     "output_type": "stream",
     "text": [
      "请输入一个前缀表达式，运算符和数字间用空格分开(输入空字符串退出)： \n"
     ]
    }
   ],
   "source": [
    "import math\n",
    "oper_dict = {\n",
    "    '+': lambda x, y: x + y,\n",
    "    '-': lambda x, y: x - y,\n",
    "    '*': lambda x, y: x * y,\n",
    "    '/': lambda x, y: x / y,\n",
    "    'sin': lambda x: math.sin(x),\n",
    "    'exp': lambda x: math.exp(x),\n",
    "    'ln': lambda x: math.log(x)\n",
    "}\n",
    "\n",
    "while(True):\n",
    "    s = input('请输入一个前缀表达式，运算符和数字间用空格分开(输入空字符串退出)：')\n",
    "    if len(s) == 0:\n",
    "        break\n",
    "    tokens = s.split(' ')\n",
    "    operation = oper_dict[tokens[0]]\n",
    "    operands = []\n",
    "    for token in tokens[1:]:\n",
    "        operands.append(float(token))\n",
    "    print('计算结果:{0:.4f}'.format(operation(*operands)))"
   ]
  },
  {
   "cell_type": "markdown",
   "metadata": {},
   "source": [
    "然而，并不是所有的对象均可以作为字典的键："
   ]
  },
  {
   "cell_type": "code",
   "execution_count": 27,
   "metadata": {},
   "outputs": [
    {
     "name": "stdout",
     "output_type": "stream",
     "text": [
      "{1: 1, 'RUC': '中国人民大学', ('RUC', 'GSAI'): '中国人民大学高瓴人工智能学院', (('RUC', 'GSAI'), 'address'): '北京市海淀区中关村大街59号中国人民大学'}\n"
     ]
    }
   ],
   "source": [
    "new_dict = {}\n",
    "new_dict[1] = 1 # 可以用基本数据类型作为字典的键\n",
    "new_dict['RUC'] = '中国人民大学' # 可以用字符串作为字典的键\n",
    "new_dict[('RUC', 'GSAI')] = '中国人民大学高瓴人工智能学院' # 可以用元组作为字典的键\n",
    "# 甚至可以用嵌套的元组作为字典的键\n",
    "new_dict[(('RUC', 'GSAI'), 'address')] = '北京市海淀区中关村大街59号中国人民大学' \n",
    "print(new_dict)"
   ]
  },
  {
   "cell_type": "code",
   "execution_count": 28,
   "metadata": {},
   "outputs": [
    {
     "ename": "TypeError",
     "evalue": "unhashable type: 'list'",
     "output_type": "error",
     "traceback": [
      "\u001b[0;31m---------------------------------------------------------------------------\u001b[0m",
      "\u001b[0;31mTypeError\u001b[0m                                 Traceback (most recent call last)",
      "\u001b[0;32m<ipython-input-28-91b83864798a>\u001b[0m in \u001b[0;36m<module>\u001b[0;34m\u001b[0m\n\u001b[0;32m----> 1\u001b[0;31m \u001b[0mnew_dict\u001b[0m\u001b[0;34m[\u001b[0m\u001b[0;34m[\u001b[0m\u001b[0;34m'THU'\u001b[0m\u001b[0;34m,\u001b[0m \u001b[0;34m'DCST'\u001b[0m\u001b[0;34m]\u001b[0m\u001b[0;34m]\u001b[0m \u001b[0;34m=\u001b[0m \u001b[0;34m'清华大学计算机科学与技术系'\u001b[0m \u001b[0;31m# 然而使用列表作为字典的键会报错\u001b[0m\u001b[0;34m\u001b[0m\u001b[0;34m\u001b[0m\u001b[0m\n\u001b[0m",
      "\u001b[0;31mTypeError\u001b[0m: unhashable type: 'list'"
     ]
    }
   ],
   "source": [
    "new_dict[['THU', 'DCST']] = '清华大学计算机科学与技术系' # 然而使用列表作为字典的键会报错"
   ]
  },
  {
   "cell_type": "code",
   "execution_count": 29,
   "metadata": {},
   "outputs": [
    {
     "ename": "TypeError",
     "evalue": "unhashable type: 'set'",
     "output_type": "error",
     "traceback": [
      "\u001b[0;31m---------------------------------------------------------------------------\u001b[0m",
      "\u001b[0;31mTypeError\u001b[0m                                 Traceback (most recent call last)",
      "\u001b[0;32m<ipython-input-29-997e76ee367d>\u001b[0m in \u001b[0;36m<module>\u001b[0;34m\u001b[0m\n\u001b[0;32m----> 1\u001b[0;31m \u001b[0mnew_dict\u001b[0m\u001b[0;34m[\u001b[0m\u001b[0mset\u001b[0m\u001b[0;34m(\u001b[0m\u001b[0;34m[\u001b[0m\u001b[0;34m'THU'\u001b[0m\u001b[0;34m,\u001b[0m \u001b[0;34m'DCST'\u001b[0m\u001b[0;34m]\u001b[0m\u001b[0;34m)\u001b[0m\u001b[0;34m]\u001b[0m \u001b[0;34m=\u001b[0m \u001b[0;34m'清华大学计算机科学与技术系'\u001b[0m \u001b[0;31m# 集合也不行\u001b[0m\u001b[0;34m\u001b[0m\u001b[0;34m\u001b[0m\u001b[0m\n\u001b[0m",
      "\u001b[0;31mTypeError\u001b[0m: unhashable type: 'set'"
     ]
    }
   ],
   "source": [
    "new_dict[set(['THU', 'DCST'])] = '清华大学计算机科学与技术系' # 集合也不行"
   ]
  },
  {
   "cell_type": "markdown",
   "metadata": {},
   "source": [
    "那么，到底哪些对象可以作为字典的键呢？\n",
    "\n",
    "简单来说，所有一旦创建就不能被修改（immutable）的对象，都可以用作字典的键，例如：\n",
    "* 基本数据类型\n",
    "* 字符串（是的，字符串创建后就不能修改了）\n",
    "* 元组\n",
    "\n",
    "而创建后可以修改的（mutable）对象，都不能用作字典的键，例如：\n",
    "* 列表\n",
    "* 集合\n",
    "* 字典\n"
   ]
  },
  {
   "cell_type": "markdown",
   "metadata": {},
   "source": [
    "而更准确的说法是，所有可哈希的对象，即所有实现了\\_\\_hash\\_\\_()和\\_\\_eq\\_\\_()两个特殊方法的对象，可以作为字典的键。字典会使用哈希函数值（\\_\\_hash\\_\\_()的返回值）并且通过\\_\\_eq\\_\\_()来判断两个作为键的对象是否相等。例如，判断查询的键是否和字典中保存的某一个键相等。\n",
    "\n",
    "Python语言要求：\n",
    "* 如果两个对象相等(a.\\_\\_eq\\_\\_(b) 或者 a == b返回True），那么他们的\\_\\_hash\\_\\_()函数返回值必须相等\n",
    "* 只有不可变对象才是可哈希的，才有\\_\\_hash\\_\\_()函数\n",
    "\n",
    "相应的哈希函数需要满足两个性质：\n",
    "* 如果两个对象的哈希函数值相等，那么他们*很可能*相等\n",
    "* 哈希函数的计算应该比较高效\n",
    "\n",
    "这样，字典就可以：\n",
    "* 使用哈希函数值来组织键值信息的保存\n",
    "* 使用相等函数来判断某个键是否已经出现在字典里了\n",
    "\n"
   ]
  },
  {
   "cell_type": "code",
   "execution_count": 30,
   "metadata": {},
   "outputs": [
    {
     "name": "stdout",
     "output_type": "stream",
     "text": [
      "1\n",
      "True\n",
      "529344067295497451\n",
      "True\n",
      "None\n",
      "None\n",
      "None\n"
     ]
    },
    {
     "ename": "TypeError",
     "evalue": "'NoneType' object is not callable",
     "output_type": "error",
     "traceback": [
      "\u001b[0;31m---------------------------------------------------------------------------\u001b[0m",
      "\u001b[0;31mTypeError\u001b[0m                                 Traceback (most recent call last)",
      "\u001b[0;32m<ipython-input-30-b77ed5fead69>\u001b[0m in \u001b[0;36m<module>\u001b[0;34m\u001b[0m\n\u001b[1;32m     11\u001b[0m \u001b[0;34m\u001b[0m\u001b[0m\n\u001b[1;32m     12\u001b[0m \u001b[0;31m# 无法调用该函数\u001b[0m\u001b[0;34m\u001b[0m\u001b[0;34m\u001b[0m\u001b[0;34m\u001b[0m\u001b[0m\n\u001b[0;32m---> 13\u001b[0;31m \u001b[0;34m[\u001b[0m\u001b[0;36m1\u001b[0m\u001b[0;34m,\u001b[0m \u001b[0;36m2\u001b[0m\u001b[0;34m,\u001b[0m \u001b[0;36m3\u001b[0m\u001b[0;34m]\u001b[0m\u001b[0;34m.\u001b[0m\u001b[0m__hash__\u001b[0m\u001b[0;34m(\u001b[0m\u001b[0;34m)\u001b[0m\u001b[0;34m\u001b[0m\u001b[0;34m\u001b[0m\u001b[0m\n\u001b[0m",
      "\u001b[0;31mTypeError\u001b[0m: 'NoneType' object is not callable"
     ]
    }
   ],
   "source": [
    "print((1).__hash__())\n",
    "print((1).__eq__(1)) # 基本数据类型\n",
    "\n",
    "print((1, 2, 3).__hash__())\n",
    "print((1, 2, 3).__eq__((1, 2, 3))) # 元组\n",
    "\n",
    "# 而列表、集合、字典的__hash__方法为None\n",
    "print([1, 2, 3].__hash__) \n",
    "print({1, 2, 3}.__hash__)\n",
    "print({1:1, 2:2, 3:3}.__hash__)\n",
    "\n",
    "# 无法调用该函数\n",
    "[1, 2, 3].__hash__()"
   ]
  },
  {
   "cell_type": "markdown",
   "metadata": {},
   "source": [
    "### 例子1：使用字典统计词频"
   ]
  },
  {
   "cell_type": "code",
   "execution_count": 31,
   "metadata": {},
   "outputs": [
    {
     "name": "stderr",
     "output_type": "stream",
     "text": [
      "Building prefix dict from the default dictionary ...\n",
      "Loading model from cache /tmp/jieba.cache\n",
      "Loading model cost 0.331 seconds.\n",
      "Prefix dict has been built successfully.\n"
     ]
    },
    {
     "name": "stdout",
     "output_type": "stream",
     "text": [
      "人工智能         13\n",
      "学院            8\n",
      "一流            5\n",
      "中国人民大学        4\n",
      "未来            3\n",
      "高瓴            3\n",
      "院长            3\n",
      "打造            3\n",
      "全球            3\n",
      "研究            3\n",
      "联合            3\n",
      "时代            2\n",
      "影响            2\n",
      "技术            2\n",
      "发展            2\n"
     ]
    }
   ],
   "source": [
    "import jieba\n",
    "txt = open('./高瓴人工智能学院简介.txt', 'r', encoding='utf-8').read()\n",
    "words = jieba.lcut(txt)\n",
    "counts = {}\n",
    "for word in words:\n",
    "    if len(word) == 1: #排除单个字符的分词结果\n",
    "        continue\n",
    "    else:\n",
    "        counts[word] = counts.get(word, 0) + 1\n",
    "items = list(counts.items())\n",
    "items.sort(key=lambda x: x[1], reverse=True)\n",
    "for i in range(15):\n",
    "    word, count = items[i]\n",
    "    print('{0:<10}{1:>5}'.format(word, count))"
   ]
  },
  {
   "cell_type": "markdown",
   "metadata": {},
   "source": [
    "### 例子2：使用字典保存运算结果\n",
    "\n",
    "我们可以用递归的方式计算斐波那契数列的第n项"
   ]
  },
  {
   "cell_type": "code",
   "execution_count": 32,
   "metadata": {},
   "outputs": [
    {
     "name": "stdout",
     "output_type": "stream",
     "text": [
      "CPU times: user 1.88 s, sys: 0 ns, total: 1.88 s\n",
      "Wall time: 1.88 s\n"
     ]
    },
    {
     "data": {
      "text/plain": [
       "14930352"
      ]
     },
     "execution_count": 32,
     "metadata": {},
     "output_type": "execute_result"
    }
   ],
   "source": [
    "%%time \n",
    "def fib(n):\n",
    "    if n == 1 or n == 2:\n",
    "        return 1\n",
    "    else:\n",
    "        return fib(n-2) + fib(n-1)\n",
    "fib(36)"
   ]
  },
  {
   "cell_type": "markdown",
   "metadata": {},
   "source": [
    "上述方法的计算效率很低，这是因为存在大量的重复计算，例如，在计算fib(5)时会计算fib(4)和fib(3)；而在计算fib(4)时，同样会调用fib(3)。一个提升计算效率的方式可以使用字典缓存计算的结果："
   ]
  },
  {
   "cell_type": "code",
   "execution_count": 33,
   "metadata": {},
   "outputs": [
    {
     "name": "stdout",
     "output_type": "stream",
     "text": [
      "CPU times: user 20 µs, sys: 0 ns, total: 20 µs\n",
      "Wall time: 21.9 µs\n"
     ]
    },
    {
     "data": {
      "text/plain": [
       "14930352"
      ]
     },
     "execution_count": 33,
     "metadata": {},
     "output_type": "execute_result"
    }
   ],
   "source": [
    "%%time\n",
    "fib_n = {}\n",
    "def fib_cached(n):\n",
    "    if n not in fib_n:\n",
    "        if n == 1 or n == 2:\n",
    "            fib_n[n] = 1\n",
    "        else:\n",
    "            fib_n[n] = fib_cached(n-2) + fib_cached(n-1)\n",
    "    return fib_n[n]\n",
    "fib_cached(36)"
   ]
  },
  {
   "cell_type": "markdown",
   "metadata": {},
   "source": [
    "## 组合数据类型的高级操作\n",
    "\n",
    "Python语言自带了一些能够方便处理组合数据类型的函数，如：\n",
    "* filter\n",
    "* map\n",
    "* reduce\n",
    "\n",
    "这三个函数的第一个参数是一个函数，第二个参数是个可遍历的（iterable）对象。列表、元组、集合、字典均为可遍历对象。"
   ]
  },
  {
   "cell_type": "markdown",
   "metadata": {},
   "source": [
    "### filter函数：\n",
    "* 形式：filter(function, iterable)\n",
    "* 功能：将可遍历对象中不满足function定义条件的元素过滤掉，例如："
   ]
  },
  {
   "cell_type": "code",
   "execution_count": 34,
   "metadata": {},
   "outputs": [
    {
     "name": "stdout",
     "output_type": "stream",
     "text": [
      "[2, 4, 6]\n"
     ]
    }
   ],
   "source": [
    "# 保留所有偶数，过滤掉其他数\n",
    "data = [1, 2, 3, 4, 5, 6]\n",
    "print(list(filter(lambda x: x % 2 == 0, data)))"
   ]
  },
  {
   "cell_type": "code",
   "execution_count": 35,
   "metadata": {},
   "outputs": [
    {
     "name": "stdout",
     "output_type": "stream",
     "text": [
      "过滤前: ['“', '过去', '未', '去', '，', '未来', '已来', '”', '，', '在', '构建', '人工智能', '时代', '的', '宏大', '世界观', '时', '，', '在', '影响']\n",
      "过滤后: ['过去', '未来', '已来', '构建', '人工智能', '时代', '宏大', '世界观', '影响']\n"
     ]
    }
   ],
   "source": [
    "# 分词后过滤掉所有单字词\n",
    "import jieba\n",
    "txt = open('./高瓴人工智能学院简介.txt', 'r', encoding='utf-8').read()\n",
    "words = jieba.lcut(txt)[0:20]\n",
    "print('过滤前:', words)\n",
    "words = list(filter(lambda x: len(x) > 1, words))\n",
    "print('过滤后:', words)"
   ]
  },
  {
   "cell_type": "markdown",
   "metadata": {},
   "source": [
    "### map函数：\n",
    "* 形式：map(function, iterable, ...)\n",
    "* 功能：将function函数应用于所有可遍历对象中的元素上，例如："
   ]
  },
  {
   "cell_type": "code",
   "execution_count": 36,
   "metadata": {},
   "outputs": [
    {
     "name": "stdout",
     "output_type": "stream",
     "text": [
      "[1, 4, 9, 16, 25, 36]\n",
      "1, 4, 9, 16, 25, 36\n"
     ]
    }
   ],
   "source": [
    "# 求列表中每个数的平方\n",
    "data = [1, 2, 3, 4, 5, 6]\n",
    "results = list(map(lambda x: x * x, data))\n",
    "print(results)\n",
    "# 将每个数转化为字符串\n",
    "results = map(str, results)\n",
    "# 将字符串连接起来，用, 分割\n",
    "print(', '.join(results))"
   ]
  },
  {
   "cell_type": "code",
   "execution_count": 37,
   "metadata": {},
   "outputs": [
    {
     "name": "stdout",
     "output_type": "stream",
     "text": [
      "RUC=>中国人民大学, THU=>清华大学, PKU=>北京大学, BIT=>北京理工大学, BUAA=>北京航空航天大学\n"
     ]
    }
   ],
   "source": [
    "# map还能同时作用于多个可遍历对象，例如：\n",
    "short_names = ['RUC', 'THU', 'PKU', 'BIT', 'BUAA']\n",
    "full_names = ['中国人民大学', '清华大学', '北京大学', '北京理工大学', '北京航空航天大学']\n",
    "results = map(lambda x, y: '{0:}=>{1:}'.format(x, y), short_names, full_names)\n",
    "print(', '.join(results))"
   ]
  },
  {
   "cell_type": "markdown",
   "metadata": {},
   "source": [
    "### reduce函数：\n",
    "* 形式：reduce(function, iterable\\[, initialzer\\])\n",
    "* 功能：利用function函数将可遍历对象中的元素合并起来，例如："
   ]
  },
  {
   "cell_type": "code",
   "execution_count": 38,
   "metadata": {},
   "outputs": [
    {
     "name": "stdout",
     "output_type": "stream",
     "text": [
      "720\n",
      "10\n"
     ]
    }
   ],
   "source": [
    "from functools import reduce # python 3 中需要从functools模块中import reduce函数\n",
    "\n",
    "# 将列表中的元素相乘\n",
    "data = [1, 2, 3, 4, 5, 6]\n",
    "print(reduce(lambda x, y: x * y, data))\n",
    "\n",
    "# 计算列表中的最大值\n",
    "data = [1, 2, 3, 4, 5, 6, 1, 10, -10]\n",
    "print(reduce(lambda x, y: x if x > y else y, data))"
   ]
  },
  {
   "cell_type": "code",
   "execution_count": 39,
   "metadata": {},
   "outputs": [
    {
     "name": "stdout",
     "output_type": "stream",
     "text": [
      "人工智能         13\n",
      "学院            8\n",
      "一流            5\n",
      "中国人民大学        4\n",
      "未来            3\n",
      "高瓴            3\n",
      "院长            3\n",
      "打造            3\n",
      "全球            3\n",
      "研究            3\n",
      "联合            3\n",
      "时代            2\n",
      "影响            2\n",
      "技术            2\n",
      "发展            2\n"
     ]
    }
   ],
   "source": [
    "# 词频统计\n",
    "from functools import reduce\n",
    "import jieba\n",
    "txt = open('./高瓴人工智能学院简介.txt', 'r', encoding='utf-8').read()\n",
    "words = jieba.lcut(txt)\n",
    "words = filter(lambda x: len(x) > 1, words) \n",
    "\n",
    "def word_count(d, w):\n",
    "    d[w] = d.get(w, 0) + 1\n",
    "    return d\n",
    "\n",
    "counts = reduce(word_count, words, {})\n",
    "items = list(counts.items())\n",
    "items.sort(key=lambda x: x[1], reverse=True)\n",
    "for i in range(15):\n",
    "    word, count = items[i]\n",
    "    print('{0:<10}{1:>5}'.format(word, count))"
   ]
  },
  {
   "cell_type": "markdown",
   "metadata": {},
   "source": [
    "### 列表推导式\n",
    "\n",
    "Python语言还提供了一种方便的创建组合数据类型的方式。\n",
    "\n",
    "其形式为：\n",
    "\\<expression\\> for item in iterable \\<if optional\\_condition\\>\n",
    "\n",
    "上述语句会生成一个可遍历的对象，基于该对象，我们可以创建列表、元组、集合和字典，例如：\n"
   ]
  },
  {
   "cell_type": "code",
   "execution_count": 40,
   "metadata": {},
   "outputs": [
    {
     "name": "stdout",
     "output_type": "stream",
     "text": [
      "[0, 3, 6, 9, 12, 15, 18, 21, 24, 27, 30, 33, 36, 39, 42, 45, 48, 51, 54, 57, 60, 63, 66, 69, 72, 75, 78, 81, 84, 87, 90, 93, 96, 99]\n",
      "{0, 3, 6, 9, 12, 15, 18, 21, 24, 27, 30, 33, 36, 39, 42, 45, 48, 51, 54, 57, 60, 63, 66, 69, 72, 75, 78, 81, 84, 87, 90, 93, 96, 99}\n"
     ]
    }
   ],
   "source": [
    "# 生成包含100以内所有3的倍数的列表和集合\n",
    "print([x for x in range(100) if x % 3 == 0])\n",
    "print({x for x in range(100) if x % 3 == 0})"
   ]
  },
  {
   "cell_type": "code",
   "execution_count": 41,
   "metadata": {},
   "outputs": [
    {
     "name": "stdout",
     "output_type": "stream",
     "text": [
      "{'中国人民大学': 'RUC', '清华大学': 'THU', '北京大学': 'PKU', '北京理工大学': 'BIT', '北京航空航天大学': 'BUAA'}\n"
     ]
    }
   ],
   "source": [
    "# 生成字典\n",
    "inverse_dict = {value: key for key, value in dict1.items()}\n",
    "print(inverse_dict)"
   ]
  },
  {
   "cell_type": "markdown",
   "metadata": {},
   "source": [
    "## 组合数据类型相关模块\n",
    "\n",
    "在这里我们主要介绍collections模块中提供的一些数据类型：\n",
    "* deque\n",
    "* Counter\n",
    "* defaultdict\n"
   ]
  },
  {
   "cell_type": "markdown",
   "metadata": {},
   "source": [
    "deque：可以在头部增删元素的列表"
   ]
  },
  {
   "cell_type": "code",
   "execution_count": 43,
   "metadata": {},
   "outputs": [
    {
     "name": "stdout",
     "output_type": "stream",
     "text": [
      "deque([1, 2, 3, 4])\n",
      "deque([1, 2, 3])\n",
      "deque([0, 1, 2, 3])\n",
      "deque([1, 2, 3])\n"
     ]
    }
   ],
   "source": [
    "from collections import deque\n",
    "x = deque([1, 2, 3])\n",
    "x.append(4) # 在尾部加入新元素\n",
    "print(x)\n",
    "x.pop() # 返回并删除尾部元素\n",
    "print(x)\n",
    "x.appendleft(0) # 在头部加入新元素\n",
    "print(x)\n",
    "x.popleft() # 返回并删除头部元素 \n",
    "print(x)"
   ]
  },
  {
   "cell_type": "code",
   "execution_count": 45,
   "metadata": {},
   "outputs": [
    {
     "name": "stdout",
     "output_type": "stream",
     "text": [
      "[0, 1, 2, 3]\n"
     ]
    }
   ],
   "source": [
    "# 思考：像这样在普通列表前增加元素会有什么问题？\n",
    "x = [1, 2, 3]\n",
    "x = [0] + x\n",
    "print(x)"
   ]
  },
  {
   "cell_type": "markdown",
   "metadata": {},
   "source": [
    "Counter: 专门用来计数的字典"
   ]
  },
  {
   "cell_type": "code",
   "execution_count": 65,
   "metadata": {},
   "outputs": [
    {
     "name": "stdout",
     "output_type": "stream",
     "text": [
      "Counter({1: 3, 2: 2, 3: 1})\n",
      "3\n",
      "Counter({1: 4, 2: 2, 3: 1})\n",
      "0\n"
     ]
    }
   ],
   "source": [
    "from collections import Counter\n",
    "data = [1, 1, 1, 2, 2, 3]\n",
    "c = Counter(data) # 可以直接用需要计数的可遍历对象构造Counter\n",
    "print(c)\n",
    "print(c[1]) # 也可以像使用字典一样访问和修改每一个元素\n",
    "c[1] += 1\n",
    "print(c)\n",
    "print(c[0]) # 没出现过的元素的个数为0"
   ]
  },
  {
   "cell_type": "code",
   "execution_count": 63,
   "metadata": {},
   "outputs": [
    {
     "name": "stdout",
     "output_type": "stream",
     "text": [
      "人工智能         13\n",
      "学院            8\n",
      "一流            5\n",
      "中国人民大学        4\n",
      "未来            3\n",
      "高瓴            3\n",
      "院长            3\n",
      "打造            3\n",
      "全球            3\n",
      "研究            3\n",
      "联合            3\n",
      "时代            2\n",
      "影响            2\n",
      "技术            2\n",
      "发展            2\n"
     ]
    }
   ],
   "source": [
    "# 词频统计\n",
    "import jieba\n",
    "txt = open('./高瓴人工智能学院简介.txt', 'r', encoding='utf-8').read()\n",
    "counts = Counter(word for word in jieba.cut(txt) if len(word) > 1)\n",
    "for word,count in counts.most_common(15):\n",
    "    print('{0:<10}{1:>5}'.format(word, count))"
   ]
  },
  {
   "cell_type": "markdown",
   "metadata": {},
   "source": [
    "defaultdict: 有默认值的字典"
   ]
  },
  {
   "cell_type": "code",
   "execution_count": 71,
   "metadata": {},
   "outputs": [
    {
     "name": "stdout",
     "output_type": "stream",
     "text": [
      "defaultdict(<function <lambda> at 0x7f99a9368790>, {'RUC': '中国人民大学', 'THU': '清华大学', 'PKU': '北京大学', 'BIT': '北京理工大学', 'BUAA': '北京航空航天大学'})\n",
      "中国人民大学\n",
      "默认值\n",
      "defaultdict(<function <lambda> at 0x7f99a9368790>, {'RUC': '中国人民大学', 'THU': '清华大学', 'PKU': '北京大学', 'BIT': '北京理工大学', 'BUAA': '北京航空航天大学', 'FDU': '默认值'})\n"
     ]
    }
   ],
   "source": [
    "from collections import defaultdict\n",
    "d = defaultdict(lambda: '默认值') # 构造时需要一个生成默认值的函数\n",
    "d.update(dict1)\n",
    "print(d)\n",
    "print(d['RUC']) # 若defaultdict包含该键，正常返回对应值\n",
    "print(d['FDU']) # 若不包含该键，调用生成默认值函数，生成一个默认值，添加到defaultdict中\n",
    "print(d)"
   ]
  },
  {
   "cell_type": "code",
   "execution_count": 81,
   "metadata": {},
   "outputs": [
    {
     "name": "stdout",
     "output_type": "stream",
     "text": [
      "人工智能\n",
      "[(15, 19), (32, 36), (53, 57), (78, 82), (105, 109), (127, 131), (219, 223), (250, 254), (317, 321), (405, 409), (439, 443), (471, 475), (508, 512)]\n",
      "学院\n",
      "[(82, 84), (109, 111), (120, 122), (172, 174), (223, 225), (284, 286), (298, 300), (328, 330)]\n",
      "一流\n",
      "[(326, 328), (361, 363), (370, 372), (379, 381), (388, 390)]\n",
      "中国人民大学\n",
      "[(70, 76), (112, 118), (196, 202), (276, 282)]\n",
      "未来\n",
      "[(6, 8), (315, 317), (348, 350)]\n",
      "高瓴\n",
      "[(76, 78), (103, 105), (217, 219)]\n",
      "院长\n",
      "[(242, 244), (273, 275), (286, 288)]\n",
      "打造\n",
      "[(304, 306), (368, 370), (479, 481)]\n",
      "全球\n",
      "[(332, 334), (467, 469), (512, 514)]\n",
      "研究\n",
      "[(416, 418), (427, 429), (457, 459)]\n",
      "联合\n",
      "[(449, 451), (455, 457), (477, 479)]\n",
      "时代\n",
      "[(19, 21), (321, 323)]\n",
      "影响\n",
      "[(30, 32), (310, 312)]\n",
      "技术\n",
      "[(36, 38), (414, 416)]\n",
      "发展\n",
      "[(38, 40), (353, 355)]\n"
     ]
    }
   ],
   "source": [
    "# 分词并记录每个词出现的位置\n",
    "import jieba\n",
    "txt = open('./高瓴人工智能学院简介.txt', 'r', encoding='utf-8').read()\n",
    "positions = defaultdict(list) # 默认值是list函数返回的一个空列表\n",
    "for word, start_pos, end_pos in jieba.tokenize(txt): # tokenize函数返回词，开始、结束位置\n",
    "    if len(word) > 1:\n",
    "        positions[word].append((start_pos, end_pos))\n",
    "results = sorted(positions.items(), key=lambda x: -len(x[1]))\n",
    "for word, positions in results[0:15]:\n",
    "    print(word)\n",
    "    print(positions)"
   ]
  },
  {
   "cell_type": "code",
   "execution_count": null,
   "metadata": {},
   "outputs": [],
   "source": []
  }
 ],
 "metadata": {
  "kernelspec": {
   "display_name": "Python 3",
   "language": "python",
   "name": "python3"
  },
  "language_info": {
   "codemirror_mode": {
    "name": "ipython",
    "version": 3
   },
   "file_extension": ".py",
   "mimetype": "text/x-python",
   "name": "python",
   "nbconvert_exporter": "python",
   "pygments_lexer": "ipython3",
   "version": "3.8.5"
  }
 },
 "nbformat": 4,
 "nbformat_minor": 4
}
