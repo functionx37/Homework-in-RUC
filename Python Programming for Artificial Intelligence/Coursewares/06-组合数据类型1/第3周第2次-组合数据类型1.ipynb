{
 "cells": [
  {
   "cell_type": "code",
   "execution_count": 1,
   "metadata": {},
   "outputs": [
    {
     "data": {
      "text/plain": [
       "('cat', 'dog', 'tiger', 'human')"
      ]
     },
     "execution_count": 1,
     "metadata": {},
     "output_type": "execute_result"
    }
   ],
   "source": [
    "creature = \"cat\", \"dog\", \"tiger\", \"human\"\n",
    "creature"
   ]
  },
  {
   "cell_type": "code",
   "execution_count": 2,
   "metadata": {},
   "outputs": [
    {
     "data": {
      "text/plain": [
       "('red', 4352, 'blue', ('cat', 'dog', 'tiger', 'human'))"
      ]
     },
     "execution_count": 2,
     "metadata": {},
     "output_type": "execute_result"
    }
   ],
   "source": [
    "color = (\"red\", 0x001100, \"blue\", creature)\n",
    "color"
   ]
  },
  {
   "cell_type": "code",
   "execution_count": 3,
   "metadata": {},
   "outputs": [
    {
     "data": {
      "text/plain": [
       "'blue'"
      ]
     },
     "execution_count": 3,
     "metadata": {},
     "output_type": "execute_result"
    }
   ],
   "source": [
    "color[2]"
   ]
  },
  {
   "cell_type": "code",
   "execution_count": 4,
   "metadata": {},
   "outputs": [
    {
     "data": {
      "text/plain": [
       "'tiger'"
      ]
     },
     "execution_count": 4,
     "metadata": {},
     "output_type": "execute_result"
    }
   ],
   "source": [
    "color[-1][2]"
   ]
  },
  {
   "cell_type": "code",
   "execution_count": 5,
   "metadata": {},
   "outputs": [
    {
     "name": "stdout",
     "output_type": "stream",
     "text": [
      "tiger\n"
     ]
    }
   ],
   "source": [
    "def func(x): #函数多返回值\n",
    "    return x, x**3\n",
    "a, b = 'dog', 'tiger' #多变量同步赋值\n",
    "a, b = (b, a) #多变量同步赋值，括号可省略\n",
    "print(a)"
   ]
  },
  {
   "cell_type": "code",
   "execution_count": 6,
   "metadata": {},
   "outputs": [
    {
     "name": "stdout",
     "output_type": "stream",
     "text": [
      "1.0\n",
      "5.385164807134505\n",
      "8.54400374531753\n"
     ]
    }
   ],
   "source": [
    "import math\n",
    "for x, y in ((1,0), (2,5), (3,8)): #循环遍历\n",
    "    print(math.hypot(x,y)) #求多个坐标值到原点的距离"
   ]
  },
  {
   "cell_type": "code",
   "execution_count": 7,
   "metadata": {},
   "outputs": [
    {
     "data": {
      "text/plain": [
       "{(12, 'AI'), 100872, 'RUC', '信息楼'}"
      ]
     },
     "execution_count": 7,
     "metadata": {},
     "output_type": "execute_result"
    }
   ],
   "source": [
    "S = {\"信息楼\", \"RUC\", (12, \"AI\"), 100872}\n",
    "S"
   ]
  },
  {
   "cell_type": "code",
   "execution_count": 8,
   "metadata": {},
   "outputs": [
    {
     "data": {
      "text/plain": [
       "{(12, 'AI'), 100872, 'RUC', '信息楼'}"
      ]
     },
     "execution_count": 8,
     "metadata": {},
     "output_type": "execute_result"
    }
   ],
   "source": [
    "S = {\"信息楼\", \"RUC\", (12, \"AI\"), 100872, \"RUC\"}\n",
    "S"
   ]
  },
  {
   "cell_type": "code",
   "execution_count": 10,
   "metadata": {},
   "outputs": [
    {
     "data": {
      "text/plain": [
       "{'c', 'e', 'g', 'i', 'l', 'n', 't'}"
      ]
     },
     "execution_count": 10,
     "metadata": {},
     "output_type": "execute_result"
    }
   ],
   "source": [
    "T = set('intelligence')\n",
    "T"
   ]
  },
  {
   "cell_type": "code",
   "execution_count": 11,
   "metadata": {},
   "outputs": [
    {
     "data": {
      "text/plain": [
       "{'artificial', 'intelligence', 'learning', 'python'}"
      ]
     },
     "execution_count": 11,
     "metadata": {},
     "output_type": "execute_result"
    }
   ],
   "source": [
    "T = set((\"python\", \"learning\", \"artificial\", \"intelligence\"))\n",
    "T"
   ]
  },
  {
   "cell_type": "code",
   "execution_count": 12,
   "metadata": {},
   "outputs": [
    {
     "data": {
      "text/plain": [
       "True"
      ]
     },
     "execution_count": 12,
     "metadata": {},
     "output_type": "execute_result"
    }
   ],
   "source": [
    "S = {\"信息楼\", \"RUC\", (12, \"AI\"), 100872}\n",
    "\"RUC\" in S   #成员关系测试"
   ]
  },
  {
   "cell_type": "code",
   "execution_count": 13,
   "metadata": {},
   "outputs": [
    {
     "data": {
      "text/plain": [
       "{(12, 'AI'), 100872, 125, 'RUC', '信息楼'}"
      ]
     },
     "execution_count": 13,
     "metadata": {},
     "output_type": "execute_result"
    }
   ],
   "source": [
    "tup = (125, \"信息楼\", \"RUC\", (12, \"AI\"), 100872, 125)\n",
    "set(tup)  #元素去重"
   ]
  },
  {
   "cell_type": "code",
   "execution_count": 29,
   "metadata": {},
   "outputs": [
    {
     "data": {
      "text/plain": [
       "{(12, 'AI'), 100872, 'RUC', '信息楼'}"
      ]
     },
     "execution_count": 29,
     "metadata": {},
     "output_type": "execute_result"
    }
   ],
   "source": [
    "S = set(tup)-{125} \n",
    "S"
   ]
  },
  {
   "cell_type": "code",
   "execution_count": 26,
   "metadata": {},
   "outputs": [
    {
     "data": {
      "text/plain": [
       "(100872, '信息楼', (12, 'AI'), 'RUC')"
      ]
     },
     "execution_count": 26,
     "metadata": {},
     "output_type": "execute_result"
    }
   ],
   "source": [
    "newtup = tuple(S)  # 去重同时删除数据项\n",
    "newtup"
   ]
  },
  {
   "cell_type": "code",
   "execution_count": 33,
   "metadata": {},
   "outputs": [
    {
     "data": {
      "text/plain": [
       "{(12, 'AI'), 100872, 125, 'RUC'}"
      ]
     },
     "execution_count": 33,
     "metadata": {},
     "output_type": "execute_result"
    }
   ],
   "source": [
    "S = set(tup)-{'信息楼'}\n",
    "S"
   ]
  },
  {
   "cell_type": "code",
   "execution_count": 35,
   "metadata": {},
   "outputs": [
    {
     "data": {
      "text/plain": [
       "['信息楼', 'RUC', [125, 'AI'], 100872, 'RUC']"
      ]
     },
     "execution_count": 35,
     "metadata": {},
     "output_type": "execute_result"
    }
   ],
   "source": [
    "ls = [\"信息楼\", \"RUC\", [125, \"AI\"], 100872, \"RUC\"]\n",
    "ls"
   ]
  },
  {
   "cell_type": "code",
   "execution_count": 36,
   "metadata": {},
   "outputs": [
    {
     "data": {
      "text/plain": [
       "'A'"
      ]
     },
     "execution_count": 36,
     "metadata": {},
     "output_type": "execute_result"
    }
   ],
   "source": [
    "ls[2][-1][0]"
   ]
  },
  {
   "cell_type": "code",
   "execution_count": 37,
   "metadata": {},
   "outputs": [
    {
     "data": {
      "text/plain": [
       "['信息楼', 'RUC', (12, 'AI'), 100872, 'RUC']"
      ]
     },
     "execution_count": 37,
     "metadata": {},
     "output_type": "execute_result"
    }
   ],
   "source": [
    "list((\"信息楼\", \"RUC\", (12, \"AI\"), 100872, \"RUC\"))"
   ]
  },
  {
   "cell_type": "code",
   "execution_count": 38,
   "metadata": {},
   "outputs": [
    {
     "data": {
      "text/plain": [
       "['中', '国', '人', '民', '大', '学', '高', '瓴', '人', '工', '智', '能', '学', '院']"
      ]
     },
     "execution_count": 38,
     "metadata": {},
     "output_type": "execute_result"
    }
   ],
   "source": [
    "list(\"中国人民大学高瓴人工智能学院\")"
   ]
  },
  {
   "cell_type": "code",
   "execution_count": 39,
   "metadata": {},
   "outputs": [
    {
     "data": {
      "text/plain": [
       "[]"
      ]
     },
     "execution_count": 39,
     "metadata": {},
     "output_type": "execute_result"
    }
   ],
   "source": [
    "list()"
   ]
  },
  {
   "cell_type": "code",
   "execution_count": 40,
   "metadata": {},
   "outputs": [
    {
     "data": {
      "text/plain": [
       "['信息楼', 'RUC', 0, 100872, 'RUC']"
      ]
     },
     "execution_count": 40,
     "metadata": {},
     "output_type": "execute_result"
    }
   ],
   "source": [
    "ls = [\"信息楼\", \"RUC\", [125, \"AI\"], 100872, \"RUC\"]\n",
    "lt = ls\n",
    "ls[2] = 0\n",
    "lt"
   ]
  },
  {
   "cell_type": "code",
   "execution_count": 42,
   "metadata": {},
   "outputs": [
    {
     "data": {
      "text/plain": [
       "[425, 'BIT', 0]"
      ]
     },
     "execution_count": 42,
     "metadata": {},
     "output_type": "execute_result"
    }
   ],
   "source": [
    "ls = [425, \"BIT\", 1024]\n",
    "lt = ls\n",
    "ls[2] = 0\n",
    "lt"
   ]
  },
  {
   "cell_type": "code",
   "execution_count": 15,
   "metadata": {},
   "outputs": [
    {
     "data": {
      "text/plain": [
       "[0, 1, 2, 3, 4, 5]"
      ]
     },
     "execution_count": 15,
     "metadata": {},
     "output_type": "execute_result"
    }
   ],
   "source": [
    "ls = list(range(6))\n",
    "ls"
   ]
  },
  {
   "cell_type": "code",
   "execution_count": 16,
   "metadata": {},
   "outputs": [
    {
     "data": {
      "text/plain": [
       "3"
      ]
     },
     "execution_count": 16,
     "metadata": {},
     "output_type": "execute_result"
    }
   ],
   "source": [
    "len(ls[3:])"
   ]
  },
  {
   "cell_type": "code",
   "execution_count": 17,
   "metadata": {},
   "outputs": [
    {
     "data": {
      "text/plain": [
       "True"
      ]
     },
     "execution_count": 17,
     "metadata": {},
     "output_type": "execute_result"
    }
   ],
   "source": [
    "2 in ls"
   ]
  },
  {
   "cell_type": "code",
   "execution_count": 18,
   "metadata": {},
   "outputs": [
    {
     "data": {
      "text/plain": [
       "[0, 1, 2, 'replace', 4, 5]"
      ]
     },
     "execution_count": 18,
     "metadata": {},
     "output_type": "execute_result"
    }
   ],
   "source": [
    "ls[3] = 'replace'\n",
    "ls"
   ]
  },
  {
   "cell_type": "code",
   "execution_count": 19,
   "metadata": {},
   "outputs": [
    {
     "data": {
      "text/plain": [
       "[0, 1, 'machine', 'learning', 4, 5]"
      ]
     },
     "execution_count": 19,
     "metadata": {},
     "output_type": "execute_result"
    }
   ],
   "source": [
    "ls[2:4] = ['machine','learning']\n",
    "ls"
   ]
  },
  {
   "cell_type": "code",
   "execution_count": 20,
   "metadata": {},
   "outputs": [
    {
     "name": "stdout",
     "output_type": "stream",
     "text": [
      "[0, 1, 'machine', 'learning', 'AI', 4, 5]\n"
     ]
    }
   ],
   "source": [
    "ls[2:4] = ['machine','learning','AI']\n",
    "print(ls)"
   ]
  },
  {
   "cell_type": "code",
   "execution_count": 21,
   "metadata": {},
   "outputs": [
    {
     "data": {
      "text/plain": [
       "[0, 1, 'AI', 'AI', 4, 5]"
      ]
     },
     "execution_count": 21,
     "metadata": {},
     "output_type": "execute_result"
    }
   ],
   "source": [
    "ls[2:4] = ['AI']\n",
    "ls"
   ]
  },
  {
   "cell_type": "code",
   "execution_count": 53,
   "metadata": {},
   "outputs": [
    {
     "name": "stdout",
     "output_type": "stream",
     "text": [
      "0 1 AI AI 5 "
     ]
    }
   ],
   "source": [
    "for i in ls:\n",
    "    print(i, end=\" \")"
   ]
  },
  {
   "cell_type": "code",
   "execution_count": 23,
   "metadata": {},
   "outputs": [
    {
     "name": "stdout",
     "output_type": "stream",
     "text": [
      "请输入数字(直接输入回车退出): 11.2\n",
      "请输入数字(直接输入回车退出): 12.3\n",
      "请输入数字(直接输入回车退出): 13.1\n",
      "请输入数字(直接输入回车退出): 14.6\n",
      "请输入数字(直接输入回车退出): 15.3\n",
      "请输入数字(直接输入回车退出): \n",
      "平均值:13.3,方差:1.7,中位数:13.1.\n"
     ]
    }
   ],
   "source": [
    "from math import sqrt\n",
    "\n",
    "def getNum(): #获取用户输入\n",
    "    nums = []\n",
    "    iNumStr = input(\"请输入数字(直接输入回车退出): \")\n",
    "    while iNumStr != \"\":\n",
    "        nums.append(eval(iNumStr))\n",
    "        iNumStr = input(\"请输入数字(直接输入回车退出): \")\n",
    "    return nums\n",
    "\n",
    "def mean(numbers): #计算平均值\n",
    "    s = 0.0\n",
    "    for num in numbers:\n",
    "        s = s + num\n",
    "    return s / len(numbers)\n",
    "\n",
    "def dev(numbers, mean): #计算方差\n",
    "    sdev = 0.0\n",
    "    for num in numbers:\n",
    "        sdev = sdev + (num - mean)**2\n",
    "    return sqrt(sdev / (len(numbers)-1))\n",
    "\n",
    "def median(numbers): #计算中位数\n",
    "    numbers.sort()\n",
    "    size = len(numbers)\n",
    "    if size % 2 == 0:\n",
    "        med = (numbers[size//2-1] + numbers[size//2])/2\n",
    "    else:\n",
    "        med = numbers[size//2]\n",
    "    return med\n",
    "\n",
    "n = getNum() #主体函数\n",
    "m = mean(n)\n",
    "print(\"平均值:{},方差:{:.2},中位数:{}.\".format(m,\\\n",
    " dev(n,m),median(n)))"
   ]
  },
  {
   "cell_type": "code",
   "execution_count": 68,
   "metadata": {},
   "outputs": [
    {
     "ename": "ModuleNotFoundError",
     "evalue": "No module named 'jieba'",
     "output_type": "error",
     "traceback": [
      "\u001b[1;31m---------------------------------------------------------------------------\u001b[0m",
      "\u001b[1;31mModuleNotFoundError\u001b[0m                       Traceback (most recent call last)",
      "\u001b[1;32m<ipython-input-68-71874e60dc26>\u001b[0m in \u001b[0;36m<module>\u001b[1;34m\u001b[0m\n\u001b[1;32m----> 1\u001b[1;33m \u001b[1;32mimport\u001b[0m \u001b[0mjieba\u001b[0m\u001b[1;33m\u001b[0m\u001b[1;33m\u001b[0m\u001b[0m\n\u001b[0m",
      "\u001b[1;31mModuleNotFoundError\u001b[0m: No module named 'jieba'"
     ]
    }
   ],
   "source": [
    "import jieba"
   ]
  },
  {
   "cell_type": "code",
   "execution_count": 69,
   "metadata": {},
   "outputs": [
    {
     "name": "stdout",
     "output_type": "stream",
     "text": [
      "Collecting jieba\n",
      "  Downloading jieba-0.42.1.tar.gz (19.2 MB)\n",
      "Building wheels for collected packages: jieba\n",
      "  Building wheel for jieba (setup.py): started\n",
      "  Building wheel for jieba (setup.py): finished with status 'done'\n",
      "  Created wheel for jieba: filename=jieba-0.42.1-py3-none-any.whl size=19314481 sha256=becd7ad0e32d49d4d109154e6d741b64b2704fc86db49fcfb822502814c95a07\n",
      "  Stored in directory: c:\\users\\subing\\appdata\\local\\pip\\cache\\wheels\\ca\\38\\d8\\dfdfe73bec1d12026b30cb7ce8da650f3f0ea2cf155ea018ae\n",
      "Successfully built jieba\n",
      "Installing collected packages: jieba\n",
      "Successfully installed jieba-0.42.1\n",
      "Note: you may need to restart the kernel to use updated packages.\n"
     ]
    }
   ],
   "source": [
    "pip install jieba"
   ]
  },
  {
   "cell_type": "code",
   "execution_count": 73,
   "metadata": {},
   "outputs": [
    {
     "data": {
      "text/plain": [
       "['中华人民共和国', '是', '一个', '伟大', '的', '国家']"
      ]
     },
     "execution_count": 73,
     "metadata": {},
     "output_type": "execute_result"
    }
   ],
   "source": [
    "import jieba\n",
    "jieba.lcut(\"中华人民共和国是一个伟大的国家\")"
   ]
  },
  {
   "cell_type": "code",
   "execution_count": 71,
   "metadata": {},
   "outputs": [
    {
     "data": {
      "text/plain": [
       "['中华',\n",
       " '中华人民',\n",
       " '中华人民共和国',\n",
       " '华人',\n",
       " '人民',\n",
       " '人民共和国',\n",
       " '共和',\n",
       " '共和国',\n",
       " '国是',\n",
       " '一个',\n",
       " '伟大',\n",
       " '的',\n",
       " '国家']"
      ]
     },
     "execution_count": 71,
     "metadata": {},
     "output_type": "execute_result"
    }
   ],
   "source": [
    "jieba.lcut(\"中华人民共和国是一个伟大的国家\", cut_all=True)"
   ]
  },
  {
   "cell_type": "code",
   "execution_count": 72,
   "metadata": {},
   "outputs": [
    {
     "data": {
      "text/plain": [
       "['中华', '华人', '人民', '共和', '共和国', '中华人民共和国', '是', '一个', '伟大', '的', '国家']"
      ]
     },
     "execution_count": 72,
     "metadata": {},
     "output_type": "execute_result"
    }
   ],
   "source": [
    "jieba.lcut_for_search(\"中华人民共和国是一个伟大的国家\")"
   ]
  },
  {
   "cell_type": "code",
   "execution_count": null,
   "metadata": {},
   "outputs": [],
   "source": [
    "def getText():\n",
    "    txt = open(\"hamletTxt.txt\", \"r\", encoding='utf-8').read()\n",
    "    txt = txt.lower()\n",
    "    for ch in '!\"#$%&()*+,-./:;<=>?@[\\\\]^_‘{|}~':\n",
    "        txt = txt.replace(ch, \" \") #将文本中特殊字符替换为空格\n",
    "    return txt\n",
    "\n",
    "hamletTxt = getText()\n",
    "words = hamletTxt.split()\n",
    "counts = {}\n",
    "for word in words:\n",
    "    counts[word] = counts.get(word,0) + 1\n",
    "items = list(counts.items())\n",
    "items.sort(key=lambda x:x[1], reverse=True)\n",
    "for i in range(10):\n",
    "    word, count = items[i]\n",
    "    print (\"{0:<10}{1:>5}\".format(word, count))"
   ]
  },
  {
   "cell_type": "code",
   "execution_count": 74,
   "metadata": {},
   "outputs": [
    {
     "name": "stdout",
     "output_type": "stream",
     "text": [
      "人工智能         13\n",
      "学院            8\n",
      "一流            5\n",
      "中国人民大学        4\n",
      "未来            3\n",
      "高瓴            3\n",
      "院长            3\n",
      "打造            3\n",
      "全球            3\n",
      "研究            3\n",
      "联合            3\n",
      "时代            2\n",
      "影响            2\n",
      "技术            2\n",
      "发展            2\n"
     ]
    }
   ],
   "source": [
    "import jieba\n",
    "txt = open(\"C:\\RUC\\课程\\PythonAI\\课程课件\\高瓴人工智能学院简介.txt\", \"r\", encoding='utf-8').read()\n",
    "words = jieba.lcut(txt)\n",
    "counts = {}\n",
    "for word in words:\n",
    "    if len(word) == 1: #排除单个字符的分词结果\n",
    "        continue\n",
    "    else:\n",
    "        counts[word] = counts.get(word,0) + 1\n",
    "items = list(counts.items())\n",
    "items.sort(key=lambda x:x[1], reverse=True)\n",
    "for i in range(15):\n",
    "    word, count = items[i]\n",
    "    print (\"{0:<10}{1:>5}\".format(word, count))"
   ]
  },
  {
   "cell_type": "code",
   "execution_count": 2,
   "metadata": {
    "scrolled": false
   },
   "outputs": [
    {
     "name": "stdout",
     "output_type": "stream",
     "text": [
      "过去            1\n",
      "未来            3\n",
      "已来            1\n",
      "构建            1\n",
      "人工智能         13\n",
      "时代            2\n",
      "宏大            1\n",
      "世界观           1\n",
      "影响            2\n",
      "技术            2\n",
      "发展            2\n",
      "历史            1\n",
      "趋势            1\n",
      "吸纳            1\n",
      "培养            2\n",
      "领域            2\n",
      "顶尖            1\n",
      "学者            1\n",
      "实践者           1\n",
      "中国人民大学        4\n",
      "高瓴            3\n",
      "学院            8\n",
      "应运而生          1\n",
      "扮演            1\n",
      "至关重要          1\n",
      "角色            1\n",
      "下属            1\n",
      "承担            1\n",
      "学校            1\n",
      "学科            1\n",
      "规划            1\n",
      "建设            2\n",
      "开展            1\n",
      "本学科           1\n",
      "相关            1\n",
      "交叉学科          1\n",
      "人才培养          2\n",
      "科学研究          1\n",
      "工作            1\n",
      "由高瓴           1\n",
      "资本            1\n",
      "创始人           1\n",
      "首席            1\n",
      "执行官           1\n",
      "耶鲁大学          1\n",
      "校董            1\n",
      "校友            1\n",
      "张磊            1\n",
      "先生            1\n",
      "捐资            1\n",
      "支持            1\n",
      "学术            1\n",
      "委员会           2\n",
      "主任            2\n",
      "中国工程院         1\n",
      "常务副           1\n",
      "院长            3\n",
      "国家            1\n",
      "新一代           1\n",
      "战略            1\n",
      "咨询            1\n",
      "潘云鹤           1\n",
      "院士            1\n",
      "担任            2\n",
      "执行            1\n",
      "信息            1\n",
      "文继荣           1\n",
      "教授            1\n",
      "愿景            1\n",
      "打造            3\n",
      "一所            1\n",
      "能够            1\n",
      "塑造            1\n",
      "世界            1\n",
      "一流            5\n",
      "全球            3\n",
      "思考            1\n",
      "创造            1\n",
      "智能            1\n",
      "温度            1\n",
      "目标            1\n",
      "创新            2\n",
      "体制            1\n",
      "机制            1\n",
      "师资队伍          1\n",
      "专业人才          1\n",
      "产出            1\n",
      "科研成果          1\n",
      "主要            1\n",
      "任务            1\n",
      "推动            1\n",
      "基础理论          1\n",
      "研究            3\n",
      "探索            1\n",
      "建立            1\n",
      "新型            1\n",
      "交叉            1\n",
      "中心            2\n",
      "促进            2\n",
      "人文            1\n",
      "社科            1\n",
      "深度            1\n",
      "融合            1\n",
      "联合            3\n",
      "各界            1\n",
      "设立            1\n",
      "实验室           1\n",
      "知名            1\n",
      "企业            1\n",
      "专项            1\n",
      "计划            1\n",
      "鼓励            1\n",
      "产业化           1\n",
      "凝聚            1\n",
      "广泛            1\n",
      "共识            1\n",
      "对话            1\n"
     ]
    }
   ],
   "source": [
    "import jieba\n",
    "txt = open(\"高瓴人工智能学院简介.txt\", \"r\", encoding='utf-8').read()\n",
    "words = jieba.lcut(txt)\n",
    "uniquewords = list()\n",
    "counts = list()\n",
    "for word in words:\n",
    "    if len(word) == 1: #排除单个字符的分词结果\n",
    "        continue\n",
    "    else:\n",
    "        if (word in uniquewords):\n",
    "            tempindex = uniquewords.index(word)\n",
    "            counts[tempindex] = counts[tempindex] + 1\n",
    "        else:\n",
    "            uniquewords.append(word)\n",
    "            counts.append(1)\n",
    "\n",
    "for i in range(len(counts)):\n",
    "    print (\"{0:<10}{1:>5}\".format(uniquewords[i], counts[i]))"
   ]
  },
  {
   "cell_type": "code",
   "execution_count": 77,
   "metadata": {},
   "outputs": [
    {
     "name": "stdout",
     "output_type": "stream",
     "text": [
      "[2, 1]\n"
     ]
    }
   ],
   "source": [
    "ls1=[125,1]\n",
    "ls2=ls1\n",
    "ls1[0] = 2\n",
    "print(ls2)"
   ]
  },
  {
   "cell_type": "code",
   "execution_count": 78,
   "metadata": {},
   "outputs": [
    {
     "data": {
      "text/plain": [
       "4"
      ]
     },
     "execution_count": 78,
     "metadata": {},
     "output_type": "execute_result"
    }
   ],
   "source": [
    "ls=[[125, 12],[[7,2],2,7],[5,2],1]\n",
    "len(ls)"
   ]
  },
  {
   "cell_type": "code",
   "execution_count": 1,
   "metadata": {},
   "outputs": [
    {
     "name": "stdout",
     "output_type": "stream",
     "text": [
      "0.08333333333333333\n"
     ]
    }
   ],
   "source": [
    "f = [1/6,1/6,1/6,1/6,1/6,1/6 ]\n",
    "g = [1/6,1/6,1/6,1/6,1/6,1/6 ]\n",
    "conv = 0\n",
    "for m in range(1, 4):\n",
    "    conv+= f[(4-m) - 1] * g[m - 1]\n",
    "    \n",
    "print(conv)"
   ]
  },
  {
   "cell_type": "code",
   "execution_count": 2,
   "metadata": {},
   "outputs": [
    {
     "name": "stdout",
     "output_type": "stream",
     "text": [
      "[0, 0.027777777777777776, 0.05555555555555555, 0.08333333333333333, 0.1111111111111111, 0.1388888888888889, 0.16666666666666669, 0.1388888888888889, 0.1111111111111111, 0.08333333333333333, 0.05555555555555555, 0]\n"
     ]
    }
   ],
   "source": [
    "f = [1/6, 1/6, 1/6, 1/6, 1/6, 1/6]\n",
    "g = [1/6, 1/6, 1/6, 1/6, 1/6, 1/6]\n",
    "\n",
    "\n",
    "conv = [0, 0, 0, 0, 0, 0, 0, 0, 0, 0, 0, 0]\n",
    "for k in range(1, 12):\n",
    "    conv[k-1] = 0\n",
    "    for m in range(1, k):\n",
    "        if k-m-1 < 0 or k-m-1 > 5 or m - 1 < 0 or m - 1 > 5:\n",
    "            continue\n",
    "        conv[k-1] += f[(k-m) - 1]*g[m - 1]\n",
    "print(conv)"
   ]
  },
  {
   "cell_type": "code",
   "execution_count": null,
   "metadata": {},
   "outputs": [],
   "source": []
  }
 ],
 "metadata": {
  "kernelspec": {
   "display_name": "Python 3",
   "language": "python",
   "name": "python3"
  },
  "language_info": {
   "codemirror_mode": {
    "name": "ipython",
    "version": 3
   },
   "file_extension": ".py",
   "mimetype": "text/x-python",
   "name": "python",
   "nbconvert_exporter": "python",
   "pygments_lexer": "ipython3",
   "version": "3.8.3"
  }
 },
 "nbformat": 4,
 "nbformat_minor": 4
}
