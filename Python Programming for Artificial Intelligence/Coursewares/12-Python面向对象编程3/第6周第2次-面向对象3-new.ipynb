{
 "cells": [
  {
   "cell_type": "code",
   "execution_count": 1,
   "metadata": {},
   "outputs": [
    {
     "name": "stdout",
     "output_type": "stream",
     "text": [
      "<class 'int'>\n",
      "<class 'str'>\n",
      "<class '__main__.Animal'>\n"
     ]
    }
   ],
   "source": [
    "# type\n",
    "print(type(123))\n",
    "print(type(\"123\"))\n",
    "\n",
    "class Animal(object):\n",
    "    def run(self):\n",
    "        print(\"An animal is running...\")\n",
    "\n",
    "a = Animal()\n",
    "print(type(a))"
   ]
  },
  {
   "cell_type": "code",
   "execution_count": 2,
   "metadata": {},
   "outputs": [
    {
     "data": {
      "text/plain": [
       "type"
      ]
     },
     "execution_count": 2,
     "metadata": {},
     "output_type": "execute_result"
    }
   ],
   "source": [
    "# 类对应的对象的类型是什么？\n",
    "type(Animal)"
   ]
  },
  {
   "cell_type": "code",
   "execution_count": 3,
   "metadata": {},
   "outputs": [
    {
     "data": {
      "text/plain": [
       "\u001b[0;31mInit signature:\u001b[0m \u001b[0mtype\u001b[0m\u001b[0;34m(\u001b[0m\u001b[0mself\u001b[0m\u001b[0;34m,\u001b[0m \u001b[0;34m/\u001b[0m\u001b[0;34m,\u001b[0m \u001b[0;34m*\u001b[0m\u001b[0margs\u001b[0m\u001b[0;34m,\u001b[0m \u001b[0;34m**\u001b[0m\u001b[0mkwargs\u001b[0m\u001b[0;34m)\u001b[0m\u001b[0;34m\u001b[0m\u001b[0;34m\u001b[0m\u001b[0m\n",
       "\u001b[0;31mDocstring:\u001b[0m     \n",
       "type(object_or_name, bases, dict)\n",
       "type(object) -> the object's type\n",
       "type(name, bases, dict) -> a new type\n",
       "\u001b[0;31mType:\u001b[0m           type\n",
       "\u001b[0;31mSubclasses:\u001b[0m     ABCMeta, EnumMeta, NamedTupleMeta, _TypedDictMeta, PyCStructType, UnionType, PyCPointerType, PyCArrayType, PyCSimpleType, PyCFuncPtrType, ...\n"
      ]
     },
     "metadata": {},
     "output_type": "display_data"
    }
   ],
   "source": [
    "type?"
   ]
  },
  {
   "cell_type": "code",
   "execution_count": 4,
   "metadata": {},
   "outputs": [
    {
     "name": "stdout",
     "output_type": "stream",
     "text": [
      "A dog is running\n"
     ]
    }
   ],
   "source": [
    "Dog = type('Dog', (Animal,), {'run': lambda self: print('A dog is running')})\n",
    "\n",
    "d = Dog()\n",
    "d.run()"
   ]
  },
  {
   "cell_type": "code",
   "execution_count": 5,
   "metadata": {},
   "outputs": [],
   "source": [
    "# 类属性\n",
    "class Student(object):\n",
    "    \"\"\"\n",
    "    A class for student\n",
    "    \"\"\"\n",
    "    student_num = 0\n",
    "    \n",
    "    def __init__(self, name):\n",
    "        self.name  = name\n",
    "\n",
    "    def print_student(self):\n",
    "        for key, value in self.__dict__.items():\n",
    "            print('{}: {}'.format(key, value))\n",
    "            \n",
    "def print_attribute(obj):\n",
    "    print(obj)\n",
    "    for key, value in obj.__dict__.items():\n",
    "        print('\\t{}: {}'.format(key, value))"
   ]
  },
  {
   "cell_type": "code",
   "execution_count": 6,
   "metadata": {},
   "outputs": [
    {
     "name": "stdout",
     "output_type": "stream",
     "text": [
      "<__main__.Student object at 0x7fa6280cee50>\n",
      "\tname: ZhangSan\n",
      "0\n",
      "0\n"
     ]
    }
   ],
   "source": [
    "s = Student('ZhangSan')\n",
    "print_attribute(s)\n",
    "print(s.student_num)\n",
    "print(Student.student_num)"
   ]
  },
  {
   "cell_type": "code",
   "execution_count": 7,
   "metadata": {},
   "outputs": [],
   "source": [
    "class Student(object):\n",
    "    \"\"\"\n",
    "    A class for student\n",
    "    \"\"\"\n",
    "    student_num = 0\n",
    "    \n",
    "    def __init__(self, name):\n",
    "        self.name  = name\n",
    "        Student.student_num += 1\n",
    "        \n",
    "    def print_student(self):\n",
    "        for key, value in self.__dict__.items():\n",
    "            print('{}: {}'.format(key, value))"
   ]
  },
  {
   "cell_type": "code",
   "execution_count": 8,
   "metadata": {},
   "outputs": [
    {
     "name": "stdout",
     "output_type": "stream",
     "text": [
      "1\n",
      "2\n"
     ]
    }
   ],
   "source": [
    "s1 = Student('ZhangSan')\n",
    "print(Student.student_num)\n",
    "s2 = Student('LiSi')\n",
    "print(Student.student_num)"
   ]
  },
  {
   "cell_type": "code",
   "execution_count": 9,
   "metadata": {},
   "outputs": [
    {
     "name": "stdout",
     "output_type": "stream",
     "text": [
      "<class '__main__.Student'>\n",
      "\t__module__: __main__\n",
      "\t__doc__: \n",
      "    A class for student\n",
      "    \n",
      "\tstudent_num: 2\n",
      "\t__init__: <function Student.__init__ at 0x7fa6404b8700>\n",
      "\tprint_student: <function Student.print_student at 0x7fa6404b83a0>\n",
      "\t__dict__: <attribute '__dict__' of 'Student' objects>\n",
      "\t__weakref__: <attribute '__weakref__' of 'Student' objects>\n"
     ]
    }
   ],
   "source": [
    "print_attribute(Student)"
   ]
  },
  {
   "cell_type": "code",
   "execution_count": 10,
   "metadata": {},
   "outputs": [
    {
     "name": "stdout",
     "output_type": "stream",
     "text": [
      "<class 'method'>\n",
      "<class 'function'>\n",
      "<class 'function'> 3\n",
      "<class 'method'>\n"
     ]
    }
   ],
   "source": [
    "# 函数和方法\n",
    "s = Student('ZhangSan')\n",
    "print(type(s.print_student))\n",
    "print(type(Student.print_student))\n",
    "\n",
    "s.add_function = lambda x, y: x+y\n",
    "print(type(s.add_function), s.add_function(1,2))\n",
    "Student.product_function = lambda x, y: x * y\n",
    "print(type(s.product_function))"
   ]
  },
  {
   "cell_type": "code",
   "execution_count": null,
   "metadata": {},
   "outputs": [],
   "source": [
    "s.product_function(1,2)"
   ]
  },
  {
   "cell_type": "code",
   "execution_count": 11,
   "metadata": {},
   "outputs": [],
   "source": [
    "# 继承\n",
    "class A(object):\n",
    "    def func(self):\n",
    "        print(\"func of class A\")\n",
    "        \n",
    "class B(A):\n",
    "    def func(self):\n",
    "        print(\"func of class B\")\n",
    "        \n",
    "class C(B):\n",
    "    def __init__(self):\n",
    "        self.name = \"c\"\n",
    "    def func(self):\n",
    "        print(\"func of class C\")\n",
    "\n",
    "c = C()"
   ]
  },
  {
   "cell_type": "code",
   "execution_count": 12,
   "metadata": {},
   "outputs": [
    {
     "name": "stdout",
     "output_type": "stream",
     "text": [
      "<__main__.C object at 0x7fa63101e160>\n",
      "\tname: c\n",
      "<class '__main__.A'>\n",
      "\t__module__: __main__\n",
      "\tfunc: <function A.func at 0x7fa6404b81f0>\n",
      "\t__dict__: <attribute '__dict__' of 'A' objects>\n",
      "\t__weakref__: <attribute '__weakref__' of 'A' objects>\n",
      "\t__doc__: None\n",
      "<class '__main__.B'>\n",
      "\t__module__: __main__\n",
      "\tfunc: <function B.func at 0x7fa6404b80d0>\n",
      "\t__doc__: None\n",
      "<class '__main__.C'>\n",
      "\t__module__: __main__\n",
      "\t__init__: <function C.__init__ at 0x7fa6404b8820>\n",
      "\tfunc: <function C.func at 0x7fa6404b89d0>\n",
      "\t__doc__: None\n"
     ]
    }
   ],
   "source": [
    "print_attribute(c)\n",
    "print_attribute(A)\n",
    "print_attribute(B)\n",
    "print_attribute(C)"
   ]
  },
  {
   "cell_type": "code",
   "execution_count": 13,
   "metadata": {},
   "outputs": [
    {
     "data": {
      "text/plain": [
       "[__main__.C, __main__.B, __main__.A, object]"
      ]
     },
     "execution_count": 13,
     "metadata": {},
     "output_type": "execute_result"
    }
   ],
   "source": [
    "# 查找顺序\n",
    "C.mro()"
   ]
  },
  {
   "cell_type": "code",
   "execution_count": 14,
   "metadata": {},
   "outputs": [
    {
     "name": "stdout",
     "output_type": "stream",
     "text": [
      "func of class C\n",
      "func of class B\n",
      "func of class A\n"
     ]
    },
    {
     "ename": "AttributeError",
     "evalue": "'super' object has no attribute 'func'",
     "output_type": "error",
     "traceback": [
      "\u001b[0;31m---------------------------------------------------------------------------\u001b[0m",
      "\u001b[0;31mAttributeError\u001b[0m                            Traceback (most recent call last)",
      "\u001b[0;32m/var/folders/4m/kw1nckdn0qzcz68fpxyc8yj80000gn/T/ipykernel_1155/2334679057.py\u001b[0m in \u001b[0;36m<module>\u001b[0;34m\u001b[0m\n\u001b[1;32m      3\u001b[0m \u001b[0msuper\u001b[0m\u001b[0;34m(\u001b[0m\u001b[0mC\u001b[0m\u001b[0;34m,\u001b[0m \u001b[0mc\u001b[0m\u001b[0;34m)\u001b[0m\u001b[0;34m.\u001b[0m\u001b[0mfunc\u001b[0m\u001b[0;34m(\u001b[0m\u001b[0;34m)\u001b[0m\u001b[0;34m\u001b[0m\u001b[0;34m\u001b[0m\u001b[0m\n\u001b[1;32m      4\u001b[0m \u001b[0msuper\u001b[0m\u001b[0;34m(\u001b[0m\u001b[0mB\u001b[0m\u001b[0;34m,\u001b[0m \u001b[0mc\u001b[0m\u001b[0;34m)\u001b[0m\u001b[0;34m.\u001b[0m\u001b[0mfunc\u001b[0m\u001b[0;34m(\u001b[0m\u001b[0;34m)\u001b[0m\u001b[0;34m\u001b[0m\u001b[0;34m\u001b[0m\u001b[0m\n\u001b[0;32m----> 5\u001b[0;31m \u001b[0msuper\u001b[0m\u001b[0;34m(\u001b[0m\u001b[0mA\u001b[0m\u001b[0;34m,\u001b[0m \u001b[0mc\u001b[0m\u001b[0;34m)\u001b[0m\u001b[0;34m.\u001b[0m\u001b[0mfunc\u001b[0m\u001b[0;34m(\u001b[0m\u001b[0;34m)\u001b[0m\u001b[0;34m\u001b[0m\u001b[0;34m\u001b[0m\u001b[0m\n\u001b[0m",
      "\u001b[0;31mAttributeError\u001b[0m: 'super' object has no attribute 'func'"
     ]
    }
   ],
   "source": [
    "# super函数\n",
    "c.func()\n",
    "super(C, c).func()\n",
    "super(B, c).func()\n",
    "super(A, c).func()"
   ]
  },
  {
   "cell_type": "code",
   "execution_count": 15,
   "metadata": {},
   "outputs": [
    {
     "name": "stdout",
     "output_type": "stream",
     "text": [
      "[<class '__main__.D'>, <class '__main__.B'>, <class '__main__.C'>, <class '__main__.A'>, <class 'object'>]\n",
      "Bonjour from class B\n"
     ]
    }
   ],
   "source": [
    "# 多重继承\n",
    "class A:\n",
    "    def greet(self):\n",
    "        return \"Hello from class A\"\n",
    "\n",
    "class B(A):\n",
    "    def greet(self):\n",
    "        return \"Bonjour from class B\"\n",
    "\n",
    "class C(A):\n",
    "    def greet(self):\n",
    "        return \"Hola from class C\"\n",
    "\n",
    "class D(B, C):\n",
    "    pass\n",
    "\n",
    "obj_D = D()\n",
    "print(D.mro())\n",
    "print(obj_D.greet()) "
   ]
  },
  {
   "cell_type": "code",
   "execution_count": 16,
   "metadata": {},
   "outputs": [
    {
     "name": "stdout",
     "output_type": "stream",
     "text": [
      "[<class '__main__.D'>, <class '__main__.B'>, <class '__main__.C'>, <class '__main__.A'>, <class 'object'>]\n",
      "D method\n",
      "B method\n",
      "C method\n",
      "A method\n"
     ]
    }
   ],
   "source": [
    "class A:\n",
    "    def method(self):\n",
    "        print(\"A method\")\n",
    "\n",
    "class B(A):\n",
    "    def method(self):\n",
    "        print(\"B method\")\n",
    "        super().method()\n",
    "\n",
    "class C(A):\n",
    "    def method(self):\n",
    "        print(\"C method\")\n",
    "        super().method()\n",
    "\n",
    "class D(B, C):\n",
    "    def method(self):\n",
    "        print(\"D method\")\n",
    "        super().method()\n",
    "\n",
    "obj = D()\n",
    "print(D.mro())\n",
    "obj.method() "
   ]
  },
  {
   "cell_type": "code",
   "execution_count": 17,
   "metadata": {},
   "outputs": [
    {
     "name": "stdout",
     "output_type": "stream",
     "text": [
      "This is an animal class.\n",
      "Animal's life:\n",
      "Animal is eating\n",
      "Animal is playing\n",
      "Animal is sleeping\n",
      "This is an animal class.\n",
      "Dog's life:\n",
      "Animal is eating\n",
      "Dog like playing frisbee!\n",
      "Animal is sleeping\n",
      "This is an animal class.\n",
      "Husky's life:\n",
      "Animal is eating\n",
      "Husky like playing sofa!\n",
      "Animal is sleeping\n"
     ]
    }
   ],
   "source": [
    "# 动态查找\n",
    "class Animal(object):\n",
    "    name = 'Animal'\n",
    "    def __init__(self):\n",
    "        print('This is an animal class.')\n",
    "    \n",
    "    def live(self):\n",
    "        print(\"{}'s life:\".format(self.name))\n",
    "        self.eat()\n",
    "        self.play()\n",
    "        self.sleep()\n",
    "    \n",
    "    def play(self):\n",
    "        print('Animal is playing')\n",
    "        \n",
    "    def eat(self):\n",
    "        print('Animal is eating')\n",
    "        \n",
    "    def sleep(self):\n",
    "        print('Animal is sleeping')\n",
    "\n",
    "animal = Animal()\n",
    "animal.live()\n",
    "\n",
    "#####\n",
    "\n",
    "class Dog(Animal):\n",
    "    name = 'Dog'\n",
    "    def play(self):\n",
    "        print('Dog like playing frisbee!')\n",
    "        \n",
    "class Husky(Dog):\n",
    "    name = 'Husky'\n",
    "    def play(self):\n",
    "        print('Husky like playing sofa!')\n",
    "        \n",
    "animal = Dog()\n",
    "animal.live()\n",
    "\n",
    "animal = Husky()\n",
    "animal.live()"
   ]
  },
  {
   "cell_type": "code",
   "execution_count": 18,
   "metadata": {},
   "outputs": [
    {
     "name": "stdout",
     "output_type": "stream",
     "text": [
      "<__main__.Duck object at 0x7fa6404c75e0> is a duck!\n",
      "a duck is walking\n",
      "a duck is swimming\n",
      "a duck is quacking\n",
      "<__main__.Bird object at 0x7fa6404c7d60> is a duck!\n",
      "a bird is walking\n",
      "a bird is swimming\n",
      "a bird is quacking\n"
     ]
    }
   ],
   "source": [
    "# 鸭子类型\n",
    "class Duck(object):\n",
    "    def walk(self):\n",
    "        print('a duck is walking')\n",
    "    def swim(self):\n",
    "        print('a duck is swimming')\n",
    "    def quack(self):\n",
    "        print('a duck is quacking')\n",
    "\n",
    "class Bird(object):\n",
    "    def walk(self):\n",
    "        print('a bird is walking')\n",
    "    def swim(self):\n",
    "        print('a bird is swimming')\n",
    "    def quack(self):\n",
    "        print('a bird is quacking')\n",
    "\n",
    "def duck_test(duck):\n",
    "    if hasattr(duck, 'walk') and hasattr(duck, 'swim') and hasattr(duck, 'quack'):\n",
    "        print('{} is a duck!'.format(duck))\n",
    "        duck.walk()\n",
    "        duck.swim()\n",
    "        duck.quack()\n",
    "\n",
    "duck_test(Duck())\n",
    "duck_test(Bird())"
   ]
  },
  {
   "cell_type": "code",
   "execution_count": 19,
   "metadata": {},
   "outputs": [],
   "source": [
    "class my2DList(object):\n",
    "    \n",
    "    def __init__(self, size=None, defaultValues = 0):\n",
    "        '''\n",
    "        二维列表类的构造函数\n",
    "        参数self: 创建的实例本身\n",
    "        参数size: 指定二维列表大小\n",
    "        参数defaultValues: 输入指定列表\n",
    "        '''\n",
    "\n",
    "        if (size is None) and (not self.is2DList(defaultValues)):\n",
    "            # 未指定二维列表大小，且指定列表不是二维列表\n",
    "            print('Please input proper 2D list!')\n",
    "            \n",
    "        elif (size is None) and self.is2DList(defaultValues):\n",
    "            # 未指定二维列表大小，但指定列表是二维列表\n",
    "            self.__items = defaultValues\n",
    "            self.__size = [len(defaultValues), len(defaultValues[0])]\n",
    "            \n",
    "        else: \n",
    "            # 根据指定二维列表大小，创建二维列表\n",
    "            self.__size = list(size)\n",
    "            if(isinstance(defaultValues, int) or isinstance(defaultValues, float)):\n",
    "               # 利用defaultValues作为二维列表元素\n",
    "                self.__items = list()\n",
    "                for i in range(self.__size[0]):\n",
    "                    subItems = list()\n",
    "                    for j in range(self.__size[1]):\n",
    "                        subItems.append(defaultValues)\n",
    "                    self.__items.append(subItems)\n",
    "\n",
    "            # 利用defaultValues指定的一维列表初始化二维列表\n",
    "            elif(isinstance(defaultValues, list) and len(defaultValues) == self.__size[0]*self.__size[1]):\n",
    "                self.__items = list()\n",
    "                for i in range(self.__size[0]):\n",
    "                    subItems = list()\n",
    "                    for j in range(self.__size[1]):\n",
    "                        subItems.append(defaultValues[i*self.__size[1]+j])\n",
    "                    self.__items.append(subItems)\n",
    "\n",
    "            else:\n",
    "                print('Incorrect defaultValues')\n",
    "    \n",
    "    def is2DList(self, data):\n",
    "        '''\n",
    "        类的方法：判断data是否为二维列表\n",
    "        '''\n",
    "        \n",
    "        if (not isinstance(data, list)) or (not isinstance(data[0], list)):\n",
    "            # 判断data的第一维是否为list数据类型\n",
    "            return False\n",
    "        else:\n",
    "            colLen = len(data[0])\n",
    "            for row in data:\n",
    "                if (not isinstance(row, list)) or (len(row) != colLen):\n",
    "                    # 判断data的第二维是否为list数据类型，且元素数目是否相等\n",
    "                    return False\n",
    "                else:\n",
    "                    for i in range(colLen):\n",
    "                        if ((not isinstance(row[i], int)) and (not isinstance(row[j], float))):\n",
    "                            # 判断data的第二维内元素是否为int类型或者float类型\n",
    "                            return False\n",
    "                            \n",
    "            return True # 以上均符合要求，返回True\n",
    "    \n",
    "    def getMy2DList(self):\n",
    "        '''\n",
    "        类的方法：返回二维列表\n",
    "        '''  \n",
    "        return self.__items\n",
    "\n",
    "    \n",
    "    def mySize(self):\n",
    "        '''\n",
    "        类的方法：返回二维列表的大小\n",
    "        '''  \n",
    "        return self.__size[0], self.__size[1]\n",
    "\n",
    "    \n",
    "    def myIndex(self, rowIndex=None, colIndex=None):\n",
    "        '''\n",
    "        类的方法：对二维列表索引\n",
    "        参数rowIndex: 索引的行坐标\n",
    "        参数colIndex: 索引的列坐标\n",
    "        '''  \n",
    "        if (rowIndex is None) and (colIndex is None):\n",
    "            # rowIndex和colIndex均未给定，输出错误\n",
    "            print('Please input index number!')\n",
    "            \n",
    "        elif (isinstance(rowIndex, int) and (colIndex is None)):\n",
    "            # 仅给定行索引值，则仅对行进行索引\n",
    "            if (rowIndex >= 0) and (rowIndex < self.__size[0]):\n",
    "                return self.__items[rowIndex]\n",
    "            else:\n",
    "                print('Row index out of range!')\n",
    "                \n",
    "        elif (rowIndex is None) and isinstance(colIndex, int):\n",
    "            # 仅给定列索引值，则仅对列进行索引\n",
    "            if (colIndex >= 0) and (colIndex < self.__size[1]):\n",
    "                colItems = list()\n",
    "                for row in self.__items:\n",
    "                    colItems.append(row[colIndex])\n",
    "                return colItems\n",
    "            else:\n",
    "                print('Column index out of range!')\n",
    "                \n",
    "        elif (isinstance(rowIndex, int) and isinstance(colIndex, int)):\n",
    "            # 给定行和列索引值，则对指定元素进行索引\n",
    "            if (rowIndex>=0) and (rowIndex < self.__size[0]) and (colIndex>=0) and (colIndex < self.__size[1]):\n",
    "                return self.__items[rowIndex][colIndex] \n",
    "            else:\n",
    "                print('Index out of range!')\n",
    "                            \n",
    "        else:\n",
    "            print('Please input int-type Index!')\n",
    "                            \n",
    "            \n",
    "    def myAppendRow(self, rowData):\n",
    "        '''\n",
    "        类的方法：向二维列表行末添加新的一行\n",
    "        参数rowData: 输入的添加行\n",
    "        '''  \n",
    "        if self.__size[1] == len(rowData):\n",
    "            self.__items.append(rowData)\n",
    "            self.__size[0] += 1\n",
    "        else:\n",
    "            print('Appended data not fit the List row!')\n",
    "            \n",
    "    def myAppendCol(self, colData):\n",
    "        '''\n",
    "        类的方法：向二维列表列末添加新的一列\n",
    "        参数colData: 输入的添加列\n",
    "        '''  \n",
    "        if self.__size[0] == len(colData):\n",
    "            for i in range(self.__size[0]):\n",
    "                self.__items[i].append(colData[i])\n",
    "            self.__size[1] += 1       \n",
    "        else:\n",
    "            print('Appended data not fit the List column!')\n",
    "    \n",
    "    def myDeleteRow(self, index):\n",
    "        '''\n",
    "        类的方法：删除二维列表的中指定行\n",
    "        参数index: 需删除的行索引\n",
    "        '''  \n",
    "        if index >= 0 and index < self.__size[0]:\n",
    "            self.newItems = list()\n",
    "            for i in range(self.__size[0]):\n",
    "                if i != index:\n",
    "                    self.newItems.append(self.__items[i])\n",
    "            self.__items = self.newItems\n",
    "            self.__size[0] -= 1\n",
    "        else:\n",
    "            print('Index out of range!!')\n",
    "            \n",
    "    def myDeleteCol(self, index):\n",
    "        '''\n",
    "        类的方法：删除二维列表的中指定列\n",
    "        参数index: 需删除的列索引\n",
    "        '''  \n",
    "        if index >= 0 and index < self.__size[1]:\n",
    "            self.newItems = list()\n",
    "            for i in range(self.__size[0]):\n",
    "                subItems = list()\n",
    "                for j in range(self.__size[1]):\n",
    "                    if j != index:\n",
    "                        subItems.append(self.__items[i][j])\n",
    "                self.newItems.append(subItems)\n",
    "            self.__items = self.newItems\n",
    "            self.__size[1] -= 1\n",
    "        else:\n",
    "            print('Index out of range!!')\n",
    "            "
   ]
  },
  {
   "cell_type": "code",
   "execution_count": 20,
   "metadata": {},
   "outputs": [
    {
     "name": "stdout",
     "output_type": "stream",
     "text": [
      "Please input proper 2D list!\n"
     ]
    }
   ],
   "source": [
    "customList0 = my2DList()"
   ]
  },
  {
   "cell_type": "code",
   "execution_count": 21,
   "metadata": {},
   "outputs": [],
   "source": [
    "customList1 = my2DList(size=(2,3), defaultValues=1)"
   ]
  },
  {
   "cell_type": "code",
   "execution_count": 22,
   "metadata": {},
   "outputs": [
    {
     "data": {
      "text/plain": [
       "[[1, 1, 1], [1, 1, 1]]"
      ]
     },
     "execution_count": 22,
     "metadata": {},
     "output_type": "execute_result"
    }
   ],
   "source": [
    "customList1.getMy2DList()"
   ]
  },
  {
   "cell_type": "code",
   "execution_count": 23,
   "metadata": {},
   "outputs": [
    {
     "name": "stdout",
     "output_type": "stream",
     "text": [
      "Incorrect defaultValues\n"
     ]
    }
   ],
   "source": [
    "customList2 = my2DList(size=(3,3), defaultValues=[1,2,3,4,5,6])"
   ]
  },
  {
   "cell_type": "code",
   "execution_count": 24,
   "metadata": {},
   "outputs": [],
   "source": [
    "customList3 = my2DList(size=None, defaultValues=[[1,3,6],[4,6,6]])"
   ]
  },
  {
   "cell_type": "code",
   "execution_count": 25,
   "metadata": {},
   "outputs": [
    {
     "data": {
      "text/plain": [
       "[[1, 3, 6], [4, 6, 6]]"
      ]
     },
     "execution_count": 25,
     "metadata": {},
     "output_type": "execute_result"
    }
   ],
   "source": [
    "customList3.getMy2DList()"
   ]
  },
  {
   "cell_type": "code",
   "execution_count": 26,
   "metadata": {},
   "outputs": [],
   "source": [
    "customList = my2DList(size=(2,3), defaultValues=[1,2,3,4,5,6]) # 初始化"
   ]
  },
  {
   "cell_type": "code",
   "execution_count": 27,
   "metadata": {},
   "outputs": [
    {
     "data": {
      "text/plain": [
       "[[1, 2, 3], [4, 5, 6]]"
      ]
     },
     "execution_count": 27,
     "metadata": {},
     "output_type": "execute_result"
    }
   ],
   "source": [
    "customList.getMy2DList()  # 2D list 获取"
   ]
  },
  {
   "cell_type": "code",
   "execution_count": 28,
   "metadata": {},
   "outputs": [
    {
     "data": {
      "text/plain": [
       "(2, 3)"
      ]
     },
     "execution_count": 28,
     "metadata": {},
     "output_type": "execute_result"
    }
   ],
   "source": [
    "customList.mySize()  # 2D list size 获取"
   ]
  },
  {
   "cell_type": "code",
   "execution_count": 29,
   "metadata": {},
   "outputs": [
    {
     "data": {
      "text/plain": [
       "2"
      ]
     },
     "execution_count": 29,
     "metadata": {},
     "output_type": "execute_result"
    }
   ],
   "source": [
    "customList.myIndex(0,1) # 2D list 元素索引"
   ]
  },
  {
   "cell_type": "code",
   "execution_count": 30,
   "metadata": {},
   "outputs": [
    {
     "data": {
      "text/plain": [
       "[1, 2, 3]"
      ]
     },
     "execution_count": 30,
     "metadata": {},
     "output_type": "execute_result"
    }
   ],
   "source": [
    "customList.myIndex(0, None) # 2D list 行索引"
   ]
  },
  {
   "cell_type": "code",
   "execution_count": 31,
   "metadata": {},
   "outputs": [
    {
     "data": {
      "text/plain": [
       "[2, 5]"
      ]
     },
     "execution_count": 31,
     "metadata": {},
     "output_type": "execute_result"
    }
   ],
   "source": [
    "customList.myIndex(None, 1) # 2D list 列索引"
   ]
  },
  {
   "cell_type": "code",
   "execution_count": 32,
   "metadata": {},
   "outputs": [],
   "source": [
    "customList.myAppendCol([7,8]) # 2D list 列添加"
   ]
  },
  {
   "cell_type": "code",
   "execution_count": 33,
   "metadata": {},
   "outputs": [
    {
     "data": {
      "text/plain": [
       "[[1, 2, 3, 7], [4, 5, 6, 8]]"
      ]
     },
     "execution_count": 33,
     "metadata": {},
     "output_type": "execute_result"
    }
   ],
   "source": [
    "customList.getMy2DList()"
   ]
  },
  {
   "cell_type": "code",
   "execution_count": 34,
   "metadata": {},
   "outputs": [
    {
     "data": {
      "text/plain": [
       "(2, 4)"
      ]
     },
     "execution_count": 34,
     "metadata": {},
     "output_type": "execute_result"
    }
   ],
   "source": [
    "customList.mySize()"
   ]
  },
  {
   "cell_type": "code",
   "execution_count": 35,
   "metadata": {},
   "outputs": [],
   "source": [
    "customList.myDeleteCol(2) # 2D list 列删除"
   ]
  },
  {
   "cell_type": "code",
   "execution_count": 36,
   "metadata": {},
   "outputs": [
    {
     "data": {
      "text/plain": [
       "[[1, 2, 7], [4, 5, 8]]"
      ]
     },
     "execution_count": 36,
     "metadata": {},
     "output_type": "execute_result"
    }
   ],
   "source": [
    "customList.getMy2DList()"
   ]
  },
  {
   "cell_type": "code",
   "execution_count": 37,
   "metadata": {},
   "outputs": [],
   "source": [
    "# 重载__xxx__方法，使得我们自定义的2D list更像一个python内置的list\n",
    "class my2DListPlus(my2DList):\n",
    "    # 对象被print时输出的内容\n",
    "    def __repr__(self):\n",
    "        print('call __repr__')\n",
    "        return '[{}]'.format(\n",
    "            ',\\n '.join(\n",
    "                '[{}]'.format(', '.join(str(x) for x in row)) \n",
    "                for row in self.getMy2DList()\n",
    "            )\n",
    "        )\n",
    "    \n",
    "    # len()\n",
    "    def __len__(self):\n",
    "        print('call __len__')\n",
    "        return self.mySize()[0]\n",
    "    \n",
    "    # 用[]操作符索引\n",
    "    def __getitem__(self, key):\n",
    "        print('call __getitem__ with {}'.format(key))\n",
    "        if isinstance(key, int):\n",
    "            ret = self.myIndex(rowIndex=key)\n",
    "        elif isinstance(key, tuple) and len(key) == 2:\n",
    "            ret = self.myIndex(rowIndex=key[0], colIndex=key[1])\n",
    "        else:\n",
    "            raise IndexError(key)\n",
    "        \n",
    "        if ret is not None:\n",
    "            return ret\n",
    "        else:\n",
    "            raise IndexError(key)\n",
    "            \n",
    "    # 用[]操作符赋值         \n",
    "    def __setitem__(self, key, value):\n",
    "        print('call __setitem__ with {} and {}'.format(key, value))\n",
    "        if isinstance(key, int) and isinstance(value, list) and len(value) == self.mySize()[1]:\n",
    "            self._my2DList__items[key] = value.copy()\n",
    "        elif isinstance(key, tuple) and len(key) == 2:\n",
    "            self._my2DList__items[key[0]][key[1]] = value\n",
    "        else:\n",
    "            raise IndexError(key)\n",
    "            \n",
    "    "
   ]
  },
  {
   "cell_type": "code",
   "execution_count": 38,
   "metadata": {},
   "outputs": [
    {
     "name": "stdout",
     "output_type": "stream",
     "text": [
      "call __repr__\n"
     ]
    },
    {
     "data": {
      "text/plain": [
       "[[0, 1, 2, 3],\n",
       " [4, 5, 6, 7],\n",
       " [8, 9, 10, 11]]"
      ]
     },
     "execution_count": 38,
     "metadata": {},
     "output_type": "execute_result"
    }
   ],
   "source": [
    "customList = my2DListPlus(size=(3,4), defaultValues=list(range(12)))\n",
    "customList # __repr__"
   ]
  },
  {
   "cell_type": "code",
   "execution_count": 39,
   "metadata": {},
   "outputs": [
    {
     "name": "stdout",
     "output_type": "stream",
     "text": [
      "call __len__\n"
     ]
    },
    {
     "data": {
      "text/plain": [
       "3"
      ]
     },
     "execution_count": 39,
     "metadata": {},
     "output_type": "execute_result"
    }
   ],
   "source": [
    "len(customList) # __len__"
   ]
  },
  {
   "cell_type": "code",
   "execution_count": 40,
   "metadata": {},
   "outputs": [
    {
     "name": "stdout",
     "output_type": "stream",
     "text": [
      "call __getitem__ with 0\n",
      "[0, 1, 2, 3]\n",
      "call __getitem__ with 1\n",
      "[4, 5, 6, 7]\n",
      "call __getitem__ with (2, 3)\n",
      "11\n"
     ]
    }
   ],
   "source": [
    "# __getitem__\n",
    "print(customList[0])\n",
    "print(customList[1])\n",
    "print(customList[2, 3])"
   ]
  },
  {
   "cell_type": "code",
   "execution_count": 41,
   "metadata": {},
   "outputs": [
    {
     "name": "stdout",
     "output_type": "stream",
     "text": [
      "call __setitem__ with 0 and [1, 2, 3, 4]\n",
      "call __repr__\n",
      "[[1, 2, 3, 4],\n",
      " [4, 5, 6, 7],\n",
      " [8, 9, 10, 11]]\n",
      "call __setitem__ with 1 and [5, 6, 7, 8]\n",
      "call __repr__\n",
      "[[1, 2, 3, 4],\n",
      " [5, 6, 7, 8],\n",
      " [8, 9, 10, 11]]\n",
      "call __setitem__ with (2, 3) and 12\n",
      "call __repr__\n",
      "[[1, 2, 3, 4],\n",
      " [5, 6, 7, 8],\n",
      " [8, 9, 10, 12]]\n"
     ]
    }
   ],
   "source": [
    "# __setitem__\n",
    "customList[0] = [1,2,3,4]\n",
    "print(customList)\n",
    "customList[1] = [5,6,7,8]\n",
    "print(customList)\n",
    "customList[2, 3] = 12\n",
    "print(customList)\n"
   ]
  },
  {
   "cell_type": "code",
   "execution_count": 42,
   "metadata": {},
   "outputs": [
    {
     "name": "stdout",
     "output_type": "stream",
     "text": [
      "call __getitem__ with 0\n",
      "[1, 2, 3, 4]\n",
      "call __getitem__ with 1\n",
      "[5, 6, 7, 8]\n",
      "call __getitem__ with 2\n",
      "[8, 9, 10, 12]\n",
      "call __getitem__ with 3\n",
      "Row index out of range!\n"
     ]
    }
   ],
   "source": [
    "# magic happens!\n",
    "for row in customList:\n",
    "    print(row)"
   ]
  },
  {
   "cell_type": "code",
   "execution_count": 43,
   "metadata": {},
   "outputs": [
    {
     "name": "stdout",
     "output_type": "stream",
     "text": [
      "call __getitem__ with 0\n",
      "call __getitem__ with 1\n",
      "call __getitem__ with 2\n",
      "call __getitem__ with 3\n",
      "Row index out of range!\n"
     ]
    },
    {
     "data": {
      "text/plain": [
       "[[1, 2, 3, 4], [5, 6, 7, 8], [8, 9, 10, 12]]"
      ]
     },
     "execution_count": 43,
     "metadata": {},
     "output_type": "execute_result"
    }
   ],
   "source": [
    "# 同样可以用在list comprehension里\n",
    "[row for row in customList]"
   ]
  },
  {
   "cell_type": "code",
   "execution_count": 44,
   "metadata": {},
   "outputs": [],
   "source": [
    "# 自定义循环遍历行为，让每次返回的不是一个list，而是一个行数为1的my2DListPlusPlus对象\n",
    "class Iterator(object):\n",
    "    def __init__(self, my2Dlist):\n",
    "        self.i = 0\n",
    "        self.data = my2Dlist\n",
    "        self.n_rows, self.n_cols = my2Dlist.mySize()\n",
    "    \n",
    "    # 每次循环调用一次__next__方法，终止循环的时候抛出StopIteration异常\n",
    "    def __next__(self):\n",
    "        print('call Iterator.__next__')\n",
    "        if self.i < self.n_rows:\n",
    "            ret = my2DListPlusPlus(size=(1, self.n_cols), defaultValues=self.data.myIndex(rowIndex=self.i))\n",
    "            self.i += 1\n",
    "            return ret\n",
    "        else:\n",
    "            raise StopIteration\n",
    "    \n",
    "class my2DListPlusPlus(my2DListPlus):\n",
    "    # __iter__函数返回一个可遍历对象（一个实现了__next__方法的对象）\n",
    "    def __iter__(self):\n",
    "        print('call __iter__')\n",
    "        return Iterator(self)\n",
    "\n"
   ]
  },
  {
   "cell_type": "code",
   "execution_count": 45,
   "metadata": {},
   "outputs": [
    {
     "name": "stdout",
     "output_type": "stream",
     "text": [
      "call __repr__\n"
     ]
    },
    {
     "data": {
      "text/plain": [
       "[[1, 2, 3, 4],\n",
       " [5, 6, 7, 8],\n",
       " [8, 9, 10, 12]]"
      ]
     },
     "execution_count": 45,
     "metadata": {},
     "output_type": "execute_result"
    }
   ],
   "source": [
    "customList1 = my2DListPlusPlus(size=None, defaultValues=customList.getMy2DList())\n",
    "customList1"
   ]
  },
  {
   "cell_type": "code",
   "execution_count": 46,
   "metadata": {},
   "outputs": [
    {
     "name": "stdout",
     "output_type": "stream",
     "text": [
      "call __iter__\n",
      "call Iterator.__next__\n",
      "call __repr__\n",
      "[[1, 2, 3, 4]]\n",
      "call Iterator.__next__\n",
      "call __repr__\n",
      "[[5, 6, 7, 8]]\n",
      "call Iterator.__next__\n",
      "call __repr__\n",
      "[[8, 9, 10, 12]]\n",
      "call Iterator.__next__\n"
     ]
    }
   ],
   "source": [
    "for row in customList1:\n",
    "    print(row)"
   ]
  },
  {
   "cell_type": "code",
   "execution_count": null,
   "metadata": {},
   "outputs": [],
   "source": []
  },
  {
   "cell_type": "code",
   "execution_count": null,
   "metadata": {},
   "outputs": [],
   "source": []
  }
 ],
 "metadata": {
  "kernelspec": {
   "display_name": "Python 3 (ipykernel)",
   "language": "python",
   "name": "python3"
  },
  "language_info": {
   "codemirror_mode": {
    "name": "ipython",
    "version": 3
   },
   "file_extension": ".py",
   "mimetype": "text/x-python",
   "name": "python",
   "nbconvert_exporter": "python",
   "pygments_lexer": "ipython3",
   "version": "3.9.7"
  }
 },
 "nbformat": 4,
 "nbformat_minor": 4
}
