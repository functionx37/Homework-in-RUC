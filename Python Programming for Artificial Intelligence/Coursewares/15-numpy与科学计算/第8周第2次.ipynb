{
 "cells": [
  {
   "cell_type": "code",
   "execution_count": 1,
   "metadata": {},
   "outputs": [
    {
     "name": "stdout",
     "output_type": "stream",
     "text": [
      "Requirement already satisfied: numpy in c:\\users\\subing\\anaconda3\\lib\\site-packages (1.18.5)\n",
      "Note: you may need to restart the kernel to use updated packages.\n"
     ]
    }
   ],
   "source": [
    "pip install numpy"
   ]
  },
  {
   "cell_type": "code",
   "execution_count": 22,
   "metadata": {},
   "outputs": [
    {
     "name": "stdout",
     "output_type": "stream",
     "text": [
      "342 ms ± 14.9 ms per loop (mean ± std. dev. of 7 runs, 1 loop each)\n"
     ]
    }
   ],
   "source": [
    "%timeit sum(range(10000000))"
   ]
  },
  {
   "cell_type": "code",
   "execution_count": 23,
   "metadata": {},
   "outputs": [
    {
     "name": "stdout",
     "output_type": "stream",
     "text": [
      "16.2 ms ± 149 µs per loop (mean ± std. dev. of 7 runs, 100 loops each)\n"
     ]
    }
   ],
   "source": [
    "from numpy import arange\n",
    "%timeit arange(10000000).sum()"
   ]
  },
  {
   "cell_type": "code",
   "execution_count": 2,
   "metadata": {
    "scrolled": true
   },
   "outputs": [
    {
     "name": "stdout",
     "output_type": "stream",
     "text": [
      "[[0. 0. 0.]\n",
      " [0. 0. 0.]]\n"
     ]
    }
   ],
   "source": [
    "import numpy as np\n",
    "x1 = np.zeros((2,3))\n",
    "print(x1)"
   ]
  },
  {
   "cell_type": "code",
   "execution_count": 3,
   "metadata": {
    "scrolled": true
   },
   "outputs": [
    {
     "name": "stdout",
     "output_type": "stream",
     "text": [
      "[[1. 1. 1. 1. 1. 1.]\n",
      " [1. 1. 1. 1. 1. 1.]\n",
      " [1. 1. 1. 1. 1. 1.]\n",
      " [1. 1. 1. 1. 1. 1.]\n",
      " [1. 1. 1. 1. 1. 1.]]\n"
     ]
    }
   ],
   "source": [
    "x2 = np.ones((5,6))\n",
    "print(x2)"
   ]
  },
  {
   "cell_type": "code",
   "execution_count": 4,
   "metadata": {},
   "outputs": [
    {
     "data": {
      "text/plain": [
       "2"
      ]
     },
     "execution_count": 4,
     "metadata": {},
     "output_type": "execute_result"
    }
   ],
   "source": [
    "x2.ndim"
   ]
  },
  {
   "cell_type": "code",
   "execution_count": 5,
   "metadata": {},
   "outputs": [
    {
     "data": {
      "text/plain": [
       "(5, 6)"
      ]
     },
     "execution_count": 5,
     "metadata": {},
     "output_type": "execute_result"
    }
   ],
   "source": [
    "x2.shape"
   ]
  },
  {
   "cell_type": "code",
   "execution_count": 6,
   "metadata": {},
   "outputs": [
    {
     "data": {
      "text/plain": [
       "dtype('float64')"
      ]
     },
     "execution_count": 6,
     "metadata": {},
     "output_type": "execute_result"
    }
   ],
   "source": [
    "x2.dtype"
   ]
  },
  {
   "cell_type": "code",
   "execution_count": 7,
   "metadata": {},
   "outputs": [
    {
     "data": {
      "text/plain": [
       "array([1., 1., 1., 1., 1., 1., 1., 1., 1., 1., 1., 1., 1., 1., 1., 1., 1.,\n",
       "       1., 1., 1., 1., 1., 1., 1., 1., 1., 1., 1., 1., 1.])"
      ]
     },
     "execution_count": 7,
     "metadata": {},
     "output_type": "execute_result"
    }
   ],
   "source": [
    "x2.flatten()"
   ]
  },
  {
   "cell_type": "code",
   "execution_count": 11,
   "metadata": {},
   "outputs": [
    {
     "name": "stdout",
     "output_type": "stream",
     "text": [
      "[[ 1  2  3  4]\n",
      " [ 5  6  7  8]\n",
      " [ 9 10 11 12]]\n"
     ]
    }
   ],
   "source": [
    "x3 = np.array([[1,2,3],[4,5,6],[7,8,9],[10,11,12]], dtype=int)\n",
    "x4 = x3.reshape((3,4))\n",
    "print(x4)"
   ]
  },
  {
   "cell_type": "code",
   "execution_count": 12,
   "metadata": {},
   "outputs": [
    {
     "name": "stdout",
     "output_type": "stream",
     "text": [
      "[[ 1  2  3  4  5  6]\n",
      " [ 7  8  9 10 11 12]]\n"
     ]
    }
   ],
   "source": [
    "x3.resize((2,6))\n",
    "print(x3)"
   ]
  },
  {
   "cell_type": "code",
   "execution_count": 13,
   "metadata": {},
   "outputs": [
    {
     "data": {
      "text/plain": [
       "array([0.71340748, 0.37877357, 0.02473368])"
      ]
     },
     "execution_count": 13,
     "metadata": {},
     "output_type": "execute_result"
    }
   ],
   "source": [
    "x = np.random.rand(6,3)\n",
    "x[2]"
   ]
  },
  {
   "cell_type": "code",
   "execution_count": 14,
   "metadata": {},
   "outputs": [
    {
     "data": {
      "text/plain": [
       "array([[0.71340748, 0.37877357, 0.02473368],\n",
       "       [0.84463945, 0.50083296, 0.76809101]])"
      ]
     },
     "execution_count": 14,
     "metadata": {},
     "output_type": "execute_result"
    }
   ],
   "source": [
    "x[2:4]"
   ]
  },
  {
   "cell_type": "code",
   "execution_count": 15,
   "metadata": {},
   "outputs": [
    {
     "data": {
      "text/plain": [
       "array([[0.14797886, 0.71228022, 0.0721306 ],\n",
       "       [0.84463945, 0.50083296, 0.76809101]])"
      ]
     },
     "execution_count": 15,
     "metadata": {},
     "output_type": "execute_result"
    }
   ],
   "source": [
    "x[-5:-2:2]"
   ]
  },
  {
   "cell_type": "code",
   "execution_count": 4,
   "metadata": {},
   "outputs": [
    {
     "name": "stdout",
     "output_type": "stream",
     "text": [
      "[[1.68169165 1.54105006]\n",
      " [1.66019779 1.07333519]\n",
      " [1.2191459  1.74021582]]\n"
     ]
    }
   ],
   "source": [
    "import numpy as np\n",
    "x = np.random.rand(3,2)\n",
    "y = np.ones((3,2))\n",
    "np.add(x,y,x)\n",
    "print(x)"
   ]
  },
  {
   "cell_type": "code",
   "execution_count": 5,
   "metadata": {},
   "outputs": [
    {
     "name": "stdout",
     "output_type": "stream",
     "text": [
      "[[2.68169165 2.54105006]\n",
      " [2.66019779 2.07333519]\n",
      " [2.2191459  2.74021582]]\n"
     ]
    }
   ],
   "source": [
    "z = x + y\n",
    "print(z)"
   ]
  },
  {
   "cell_type": "code",
   "execution_count": 6,
   "metadata": {},
   "outputs": [
    {
     "data": {
      "text/plain": [
       "array([[False, False],\n",
       "       [False,  True],\n",
       "       [ True, False]])"
      ]
     },
     "execution_count": 6,
     "metadata": {},
     "output_type": "execute_result"
    }
   ],
   "source": [
    "np.less(z,2.5)"
   ]
  },
  {
   "cell_type": "code",
   "execution_count": 7,
   "metadata": {},
   "outputs": [
    {
     "data": {
      "text/plain": [
       "array([[False, False],\n",
       "       [False,  True],\n",
       "       [ True, False]])"
      ]
     },
     "execution_count": 7,
     "metadata": {},
     "output_type": "execute_result"
    }
   ],
   "source": [
    "np.less(z,[[2.5,2.5],[2.5,2.5],[2.5,2.5]])"
   ]
  },
  {
   "cell_type": "code",
   "execution_count": 9,
   "metadata": {},
   "outputs": [
    {
     "data": {
      "text/plain": [
       "array([[0.        , 0.        ],\n",
       "       [0.        , 2.07333519],\n",
       "       [2.2191459 , 0.        ]])"
      ]
     },
     "execution_count": 9,
     "metadata": {},
     "output_type": "execute_result"
    }
   ],
   "source": [
    "np.where(z>2.5,0,z)"
   ]
  },
  {
   "cell_type": "code",
   "execution_count": 9,
   "metadata": {},
   "outputs": [
    {
     "name": "stdout",
     "output_type": "stream",
     "text": [
      "[[22 28]\n",
      " [49 64]]\n",
      "[[22 28]\n",
      " [49 64]]\n",
      "[[22 28]\n",
      " [49 64]]\n",
      "[[22 49]\n",
      " [28 64]]\n"
     ]
    }
   ],
   "source": [
    "import numpy as np\n",
    "a1 = np.array([[1,2,3],[4,5,6]]) # a1为2*3矩阵\n",
    "a2 = np.array([[1,2],[3,4],[5,6]]) # a2为3*2矩阵\n",
    "\n",
    "print(a1.dot(a2))\n",
    "b = np.dot(a1,a2)\n",
    "print(b)\n",
    "\n",
    "c = np.matmul(a1,a2)\n",
    "print(c)\n",
    "print(c.transpose())"
   ]
  },
  {
   "cell_type": "code",
   "execution_count": 26,
   "metadata": {},
   "outputs": [
    {
     "name": "stdout",
     "output_type": "stream",
     "text": [
      "[[  3   4   3]\n",
      " [ -4 -10   6]]\n",
      "[[ 3  6  9]\n",
      " [12 15 18]]\n"
     ]
    }
   ],
   "source": [
    "a1 = np.array([[1,2,3],[4,5,6]])\n",
    "a2 = np.array([[3,2,1],[-1,-2,1]])\n",
    "a3 = 3\n",
    "print(a1*a2)\n",
    "print(a3*a1)"
   ]
  },
  {
   "cell_type": "code",
   "execution_count": 7,
   "metadata": {},
   "outputs": [
    {
     "name": "stdout",
     "output_type": "stream",
     "text": [
      "[[ 3.15251974e+15 -6.30503948e+15  3.15251974e+15]\n",
      " [-6.30503948e+15  1.26100790e+16 -6.30503948e+15]\n",
      " [ 3.15251974e+15 -6.30503948e+15  3.15251974e+15]]\n",
      "[[1. 0. 0.]\n",
      " [0. 1. 0.]\n",
      " [0. 0. 1.]]\n",
      "[[1.0, 0.0, 0.0], [0.0, 1.0, 0.0], [0.0, 0.0, 1.0]]\n",
      "<class 'list'>\n"
     ]
    }
   ],
   "source": [
    "import numpy.linalg as lg\n",
    "a = np.array([[1,2,3],[4,5,6],[7,8,9]])\n",
    "print(lg.inv(a))\n",
    "\n",
    "a = np.eye(3) # 3阶单位矩阵\n",
    "print(lg.inv(a)) # 单位矩阵的逆为他本身\n",
    "\n",
    "c = a.tolist()\n",
    "print(c)\n",
    "print(type(c))"
   ]
  },
  {
   "cell_type": "code",
   "execution_count": 13,
   "metadata": {},
   "outputs": [
    {
     "name": "stdout",
     "output_type": "stream",
     "text": [
      "[[2.68169165 2.54105006]\n",
      " [2.66019779 2.07333519]\n",
      " [2.2191459  2.74021582]]\n"
     ]
    }
   ],
   "source": [
    "np.save('C:/RUC/课程/PythonAI/课程课件/testz.npy',z)\n",
    "y = np.load('C:/RUC/课程/PythonAI/课程课件/testz.npy')\n",
    "print(y)"
   ]
  },
  {
   "cell_type": "code",
   "execution_count": 14,
   "metadata": {},
   "outputs": [
    {
     "name": "stdout",
     "output_type": "stream",
     "text": [
      "[[1.68169165 1.54105006]\n",
      " [1.66019779 1.07333519]\n",
      " [1.2191459  1.74021582]]\n"
     ]
    }
   ],
   "source": [
    "np.savez('C:/RUC/课程/PythonAI/课程课件/testarray.npz',x,y,res_z=z)\n",
    "Res = np.load('C:/RUC/课程/PythonAI/课程课件/testarray.npz')\n",
    "print(Res['arr_0'])"
   ]
  },
  {
   "cell_type": "code",
   "execution_count": 15,
   "metadata": {},
   "outputs": [
    {
     "name": "stdout",
     "output_type": "stream",
     "text": [
      "[[2.68169165 2.54105006]\n",
      " [2.66019779 2.07333519]\n",
      " [2.2191459  2.74021582]]\n"
     ]
    }
   ],
   "source": [
    "print(Res['arr_1'])"
   ]
  },
  {
   "cell_type": "code",
   "execution_count": 16,
   "metadata": {},
   "outputs": [
    {
     "name": "stdout",
     "output_type": "stream",
     "text": [
      "[[2.68169165 2.54105006]\n",
      " [2.66019779 2.07333519]\n",
      " [2.2191459  2.74021582]]\n"
     ]
    }
   ],
   "source": [
    "print(Res['res_z'])"
   ]
  },
  {
   "cell_type": "code",
   "execution_count": 24,
   "metadata": {},
   "outputs": [],
   "source": [
    "class LinearRegression(object):\n",
    "    \n",
    "    def __init__(self, learning_rate=0.01, max_iter=100, seed=None):\n",
    "        '''\n",
    "        一元线性回归类的构造函数：\n",
    "        参数 学习率：learning_rate\n",
    "        参数 最大迭代次数：max_iter\n",
    "        参数 seed：产生随机数的种子    \n",
    "        从正态分布中采样w和b的初始值\n",
    "        '''\n",
    "        np.random.seed(seed)\n",
    "        self.lr = learning_rate\n",
    "        self.max_iter = max_iter\n",
    "        self.w = np.random.normal(1, 0.1)\n",
    "        self.b = np.random.normal(1, 0.1)\n",
    "        self.loss_arr = []\n",
    "          \n",
    "    def fit(self, x, y):\n",
    "        '''\n",
    "        类的方法：训练函数\n",
    "        参数 自变量：x \n",
    "        参数 因变量：y\n",
    "        返回每一次迭代后的损失函数\n",
    "        '''\n",
    "        for i in range(self.max_iter):\n",
    "            self.__train_step(x,y)\n",
    "            y_pred = self.predict(x)\n",
    "            self.loss_arr.append(self.loss(y, y_pred))\n",
    "    \n",
    "    def __f(self, x, w, b):\n",
    "        '''\n",
    "        类的方法：计算一元线性回归函数在x处的值\n",
    "        '''\n",
    "        return x * w + b\n",
    "      \n",
    "    def predict(self, x):\n",
    "        '''\n",
    "        类的方法：预测函数\n",
    "        参数：自变量：x \n",
    "        返回：对x的回归值\n",
    "        '''\n",
    "        y_pred = self.__f(x, self.w, self.b)\n",
    "        return y_pred\n",
    "   \n",
    "    def loss(self, y_true, y_pred):  \n",
    "        '''\n",
    "        类的方法：计算损失\n",
    "        参数 真实因变量：y_true \n",
    "        参数 预测因变量：y_pred   \n",
    "        返回：MSE损失\n",
    "        '''\n",
    "        return np.mean((y_true - y_pred)**2)\n",
    "    \n",
    "    def __calc_gradient(self, x, y):\n",
    "        '''\n",
    "        类的方法：分别计算对w和b的梯度\n",
    "        '''\n",
    "        d_w = np.mean(2* (x * self.w + self.b - y) * x)\n",
    "        d_b = np.mean(2*(x * self.w + self.b - y))\n",
    "        return d_w, d_b\n",
    "   \n",
    "    def __train_step(self,x,y):\n",
    "        '''\n",
    "        类的方法：单步迭代，即一次迭代中对梯度进行更新\n",
    "        '''\n",
    "        d_w, d_b = self.__calc_gradient(x,y)\n",
    "        self.w = self.w - self.lr * d_w\n",
    "        self.b = self.b - self.lr * d_b\n",
    "        return self.w, self.b"
   ]
  },
  {
   "cell_type": "code",
   "execution_count": 25,
   "metadata": {},
   "outputs": [
    {
     "name": "stdout",
     "output_type": "stream",
     "text": [
      "w: \t21.0\n",
      "b: \t4.41\n"
     ]
    },
    {
     "data": {
      "image/png": "[encoded data removed]",
      "text/plain": [
       "<Figure size 432x288 with 1 Axes>"
      ]
     },
     "metadata": {
      "needs_background": "light"
     },
     "output_type": "display_data"
    },
    {
     "data": {
      "image/png": "[encoded data removed]",
      "text/plain": [
       "<Figure size 432x288 with 1 Axes>"
      ]
     },
     "metadata": {
      "needs_background": "light"
     },
     "output_type": "display_data"
    }
   ],
   "source": [
    "import numpy as np\n",
    "import matplotlib.pyplot as plt\n",
    "\n",
    "def show_data(x, y, w=None, b=None):\n",
    "    plt.scatter(x, y, marker='.')\n",
    "    if w is not None and b is not None:\n",
    "        plt.plot(x, w*x+b, c='red')\n",
    "    plt.show()\n",
    "\n",
    "# data generation\n",
    "np.random.seed(272)\n",
    "data_size = 100\n",
    "x = np.random.uniform(low=1.0, high=10.0, size=data_size)\n",
    "y = x * 20 + 10 + np.random.normal(loc=0.0, scale=10.0, size=data_size)\n",
    "\n",
    "# train / test split\n",
    "shuffled_index = np.random.permutation(data_size)\n",
    "x = x[shuffled_index]\n",
    "y = y[shuffled_index]\n",
    "split_index = int(data_size * 0.7)\n",
    "x_train = x[:split_index]\n",
    "y_train = y[:split_index]\n",
    "x_test = x[split_index:]\n",
    "y_test = y[split_index:]\n",
    "\n",
    "# train the liner regression model\n",
    "regr = LinearRegression(learning_rate=0.01, max_iter=10, seed=314)\n",
    "regr.fit(x_train, y_train)\n",
    "print('w: \\t{:.3}'.format(regr.w))\n",
    "print('b: \\t{:.3}'.format(regr.b))\n",
    "show_data(x, y, regr.w, regr.b)\n",
    "\n",
    "# plot the evolution of cost\n",
    "plt.scatter(np.arange(len(regr.loss_arr)), regr.loss_arr, marker='o', c='green')\n",
    "plt.show()"
   ]
  },
  {
   "cell_type": "code",
   "execution_count": null,
   "metadata": {},
   "outputs": [],
   "source": []
  }
 ],
 "metadata": {
  "kernelspec": {
   "display_name": "Python 3 (ipykernel)",
   "language": "python",
   "name": "python3"
  },
  "language_info": {
   "codemirror_mode": {
    "name": "ipython",
    "version": 3
   },
   "file_extension": ".py",
   "mimetype": "text/x-python",
   "name": "python",
   "nbconvert_exporter": "python",
   "pygments_lexer": "ipython3",
   "version": "3.9.7"
  }
 },
 "nbformat": 4,
 "nbformat_minor": 4
}
