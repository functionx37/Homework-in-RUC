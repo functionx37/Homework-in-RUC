{
 "cells": [
  {
   "cell_type": "code",
   "execution_count": 1,
   "metadata": {},
   "outputs": [],
   "source": [
    "class Student(object):\n",
    "    def __init__(self, name):\n",
    "        self.name  = name\n",
    "    \n",
    "s = Student('Bob')\n",
    "s.score = 90"
   ]
  },
  {
   "cell_type": "code",
   "execution_count": 2,
   "metadata": {},
   "outputs": [
    {
     "name": "stdout",
     "output_type": "stream",
     "text": [
      "Bob\n",
      "396\n",
      "396\n",
      "140179277572464\n",
      "140179277572272\n"
     ]
    }
   ],
   "source": [
    "class Student(object):\n",
    "    std_num = 396\n",
    "    \n",
    "    def __init__(self, name):\n",
    "        self.name  = name\n",
    "\n",
    "s1 = Student('Bob')\n",
    "print(s1.name)\n",
    "print(s1.std_num)\n",
    "\n",
    "s2 = Student('Kate')\n",
    "s2.std_num=400\n",
    "print(s1.std_num)\n",
    "print(id(s2.std_num))\n",
    "print(id(s1.std_num))"
   ]
  },
  {
   "cell_type": "code",
   "execution_count": 3,
   "metadata": {},
   "outputs": [
    {
     "name": "stdout",
     "output_type": "stream",
     "text": [
      "Bob\n"
     ]
    }
   ],
   "source": [
    "class Student(object):\n",
    "    name = 'student'\n",
    "    \n",
    "    def __init__(self, name):\n",
    "        self.name  = name\n",
    "\n",
    "s = Student('Bob')\n",
    "print(s.name)"
   ]
  },
  {
   "cell_type": "code",
   "execution_count": 4,
   "metadata": {},
   "outputs": [
    {
     "name": "stdout",
     "output_type": "stream",
     "text": [
      "student\n"
     ]
    }
   ],
   "source": [
    "class Student(object):\n",
    "    name = 'student'\n",
    "    \n",
    "    def __init__(self, name):\n",
    "        self.name  = name\n",
    "\n",
    "s = Student('Bob')\n",
    "del s.name\n",
    "print(s.name)"
   ]
  },
  {
   "cell_type": "code",
   "execution_count": null,
   "metadata": {},
   "outputs": [],
   "source": [
    "class Animal(object):\n",
    "    def run(self):\n",
    "        print('Animal is running')"
   ]
  },
  {
   "cell_type": "code",
   "execution_count": 3,
   "metadata": {},
   "outputs": [],
   "source": [
    "class Dog(Animal):\n",
    "    pass\n",
    "\n",
    "class Cat(Animal):\n",
    "    pass"
   ]
  },
  {
   "cell_type": "code",
   "execution_count": 4,
   "metadata": {},
   "outputs": [
    {
     "name": "stdout",
     "output_type": "stream",
     "text": [
      "This is an animal class.\n",
      "Husky like playing sofa!\n"
     ]
    }
   ],
   "source": [
    "class Animal(object):\n",
    "    def __init__(self):\n",
    "        print('This is an animal class.')\n",
    "\n",
    "class Dog(Animal):\n",
    "    def play(self):\n",
    "        print('Dog like playing frisbee!')\n",
    "        \n",
    "class Husky(Dog):\n",
    "    def play(self):\n",
    "        print('Husky like playing sofa!')\n",
    "\n",
    "animal = Husky()\n",
    "animal.play()"
   ]
  },
  {
   "cell_type": "code",
   "execution_count": 5,
   "metadata": {},
   "outputs": [],
   "source": [
    "class Dog(Animal):\n",
    "\n",
    "    def run(self):\n",
    "        print('Dog is running...')\n",
    "\n",
    "    def eat(self):\n",
    "        print('Eating meat...')"
   ]
  },
  {
   "cell_type": "code",
   "execution_count": 6,
   "metadata": {},
   "outputs": [],
   "source": [
    "class Cat(Animal):\n",
    "\n",
    "    def run(self):\n",
    "        print('Cat is running...')\n",
    "\n",
    "    def eat(self):\n",
    "        print('Eating meat...')"
   ]
  },
  {
   "cell_type": "code",
   "execution_count": 7,
   "metadata": {},
   "outputs": [
    {
     "name": "stdout",
     "output_type": "stream",
     "text": [
      "This is an animal class.\n",
      "Dog is running...\n"
     ]
    }
   ],
   "source": [
    "dog = Dog()\n",
    "dog.run()"
   ]
  },
  {
   "cell_type": "code",
   "execution_count": 8,
   "metadata": {},
   "outputs": [
    {
     "name": "stdout",
     "output_type": "stream",
     "text": [
      "This is an animal class.\n",
      "This is an animal class.\n"
     ]
    }
   ],
   "source": [
    "a = list() # a是list类型\n",
    "b = Animal() # b是Animal类型\n",
    "c = Dog() # c是Dog类型"
   ]
  },
  {
   "cell_type": "code",
   "execution_count": 9,
   "metadata": {},
   "outputs": [
    {
     "name": "stdout",
     "output_type": "stream",
     "text": [
      "True\n",
      "True\n",
      "True\n",
      "True\n"
     ]
    }
   ],
   "source": [
    "print(isinstance(a, list))\n",
    "print(isinstance(b, Animal))\n",
    "print(isinstance(c, Dog))\n",
    "print(isinstance(c, Animal))"
   ]
  },
  {
   "cell_type": "code",
   "execution_count": 10,
   "metadata": {},
   "outputs": [
    {
     "name": "stdout",
     "output_type": "stream",
     "text": [
      "False\n"
     ]
    }
   ],
   "source": [
    "print(isinstance(b, Dog))"
   ]
  },
  {
   "cell_type": "code",
   "execution_count": 11,
   "metadata": {},
   "outputs": [
    {
     "name": "stdout",
     "output_type": "stream",
     "text": [
      "This is an animal class.\n"
     ]
    },
    {
     "ename": "AttributeError",
     "evalue": "'Animal' object has no attribute 'run'",
     "output_type": "error",
     "traceback": [
      "\u001b[0;31m---------------------------------------------------------------------------\u001b[0m",
      "\u001b[0;31mAttributeError\u001b[0m                            Traceback (most recent call last)",
      "\u001b[0;32m<ipython-input-11-2ba23fb1f87a>\u001b[0m in \u001b[0;36m<module>\u001b[0;34m\u001b[0m\n\u001b[1;32m      2\u001b[0m     \u001b[0manimal\u001b[0m\u001b[0;34m.\u001b[0m\u001b[0mrun\u001b[0m\u001b[0;34m(\u001b[0m\u001b[0;34m)\u001b[0m\u001b[0;34m\u001b[0m\u001b[0;34m\u001b[0m\u001b[0m\n\u001b[1;32m      3\u001b[0m \u001b[0;34m\u001b[0m\u001b[0m\n\u001b[0;32m----> 4\u001b[0;31m \u001b[0mrun_animal\u001b[0m\u001b[0;34m(\u001b[0m\u001b[0mAnimal\u001b[0m\u001b[0;34m(\u001b[0m\u001b[0;34m)\u001b[0m\u001b[0;34m)\u001b[0m\u001b[0;34m\u001b[0m\u001b[0;34m\u001b[0m\u001b[0m\n\u001b[0m\u001b[1;32m      5\u001b[0m \u001b[0mrun_animal\u001b[0m\u001b[0;34m(\u001b[0m\u001b[0mDog\u001b[0m\u001b[0;34m(\u001b[0m\u001b[0;34m)\u001b[0m\u001b[0;34m)\u001b[0m\u001b[0;34m\u001b[0m\u001b[0;34m\u001b[0m\u001b[0m\n\u001b[1;32m      6\u001b[0m \u001b[0mrun_animal\u001b[0m\u001b[0;34m(\u001b[0m\u001b[0mCat\u001b[0m\u001b[0;34m(\u001b[0m\u001b[0;34m)\u001b[0m\u001b[0;34m)\u001b[0m\u001b[0;34m\u001b[0m\u001b[0;34m\u001b[0m\u001b[0m\n",
      "\u001b[0;32m<ipython-input-11-2ba23fb1f87a>\u001b[0m in \u001b[0;36mrun_animal\u001b[0;34m(animal)\u001b[0m\n\u001b[1;32m      1\u001b[0m \u001b[0;32mdef\u001b[0m \u001b[0mrun_animal\u001b[0m\u001b[0;34m(\u001b[0m\u001b[0manimal\u001b[0m\u001b[0;34m)\u001b[0m\u001b[0;34m:\u001b[0m\u001b[0;34m\u001b[0m\u001b[0;34m\u001b[0m\u001b[0m\n\u001b[0;32m----> 2\u001b[0;31m     \u001b[0manimal\u001b[0m\u001b[0;34m.\u001b[0m\u001b[0mrun\u001b[0m\u001b[0;34m(\u001b[0m\u001b[0;34m)\u001b[0m\u001b[0;34m\u001b[0m\u001b[0;34m\u001b[0m\u001b[0m\n\u001b[0m\u001b[1;32m      3\u001b[0m \u001b[0;34m\u001b[0m\u001b[0m\n\u001b[1;32m      4\u001b[0m \u001b[0mrun_animal\u001b[0m\u001b[0;34m(\u001b[0m\u001b[0mAnimal\u001b[0m\u001b[0;34m(\u001b[0m\u001b[0;34m)\u001b[0m\u001b[0;34m)\u001b[0m\u001b[0;34m\u001b[0m\u001b[0;34m\u001b[0m\u001b[0m\n\u001b[1;32m      5\u001b[0m \u001b[0mrun_animal\u001b[0m\u001b[0;34m(\u001b[0m\u001b[0mDog\u001b[0m\u001b[0;34m(\u001b[0m\u001b[0;34m)\u001b[0m\u001b[0;34m)\u001b[0m\u001b[0;34m\u001b[0m\u001b[0;34m\u001b[0m\u001b[0m\n",
      "\u001b[0;31mAttributeError\u001b[0m: 'Animal' object has no attribute 'run'"
     ]
    }
   ],
   "source": [
    "def run_animal(animal):\n",
    "    animal.run()\n",
    "\n",
    "run_animal(Animal())\n",
    "run_animal(Dog())\n",
    "run_animal(Cat())"
   ]
  },
  {
   "cell_type": "code",
   "execution_count": 12,
   "metadata": {},
   "outputs": [
    {
     "name": "stdout",
     "output_type": "stream",
     "text": [
      "<class 'int'>\n",
      "<class 'str'>\n",
      "<class 'list'>\n",
      "<class '__main__.Animal'>\n"
     ]
    }
   ],
   "source": [
    "print(type(123))\n",
    "print(type('123'))\n",
    "print(type([1,2,3]))\n",
    "\n",
    "class Animal(object):\n",
    "    def run(self):\n",
    "        print('Animal is running...')\n",
    "\n",
    "a = Animal()\n",
    "print(type(a))"
   ]
  },
  {
   "cell_type": "code",
   "execution_count": 2,
   "metadata": {},
   "outputs": [
    {
     "name": "stdout",
     "output_type": "stream",
     "text": [
      "<class '__main__.Dog'>\n"
     ]
    }
   ],
   "source": [
    "class Dog(Animal):\n",
    "\n",
    "    def run(self):\n",
    "        print('Dog is running...')\n",
    "\n",
    "    def eat(self):\n",
    "        print('Eating meat...')\n",
    "        \n",
    "b = Dog()\n",
    "print(type(b))"
   ]
  },
  {
   "cell_type": "code",
   "execution_count": 3,
   "metadata": {},
   "outputs": [],
   "source": [
    "class Husky(Dog):\n",
    "\n",
    "    def run(self):\n",
    "        print('Husky is running...')\n",
    "\n",
    "    def eat(self):\n",
    "        print('Eating meat...')\n"
   ]
  },
  {
   "cell_type": "code",
   "execution_count": 4,
   "metadata": {},
   "outputs": [],
   "source": [
    "a = Animal()\n",
    "d = Dog()\n",
    "h = Husky()"
   ]
  },
  {
   "cell_type": "code",
   "execution_count": 5,
   "metadata": {},
   "outputs": [
    {
     "name": "stdout",
     "output_type": "stream",
     "text": [
      "True\n",
      "True\n",
      "True\n"
     ]
    }
   ],
   "source": [
    "print(isinstance(h, Husky))\n",
    "print(isinstance(h, Dog))\n",
    "print(isinstance(h, Animal))"
   ]
  },
  {
   "cell_type": "code",
   "execution_count": 6,
   "metadata": {},
   "outputs": [
    {
     "name": "stdout",
     "output_type": "stream",
     "text": [
      "False\n",
      "True\n",
      "True\n"
     ]
    }
   ],
   "source": [
    "print(isinstance(d, Husky))\n",
    "print(isinstance(h, Dog))\n",
    "print(isinstance(d, Animal))"
   ]
  },
  {
   "cell_type": "code",
   "execution_count": 7,
   "metadata": {},
   "outputs": [
    {
     "data": {
      "text/plain": [
       "['__class__',\n",
       " '__delattr__',\n",
       " '__dict__',\n",
       " '__dir__',\n",
       " '__doc__',\n",
       " '__eq__',\n",
       " '__format__',\n",
       " '__ge__',\n",
       " '__getattribute__',\n",
       " '__gt__',\n",
       " '__hash__',\n",
       " '__init__',\n",
       " '__init_subclass__',\n",
       " '__le__',\n",
       " '__lt__',\n",
       " '__module__',\n",
       " '__ne__',\n",
       " '__new__',\n",
       " '__reduce__',\n",
       " '__reduce_ex__',\n",
       " '__repr__',\n",
       " '__setattr__',\n",
       " '__sizeof__',\n",
       " '__str__',\n",
       " '__subclasshook__',\n",
       " '__weakref__',\n",
       " 'eat',\n",
       " 'run']"
      ]
     },
     "execution_count": 7,
     "metadata": {},
     "output_type": "execute_result"
    }
   ],
   "source": [
    "dir(d)"
   ]
  },
  {
   "cell_type": "code",
   "execution_count": 8,
   "metadata": {},
   "outputs": [
    {
     "name": "stdout",
     "output_type": "stream",
     "text": [
      "<class '__main__.Dog'>\n"
     ]
    }
   ],
   "source": [
    "print(d.__class__)"
   ]
  },
  {
   "cell_type": "code",
   "execution_count": 10,
   "metadata": {},
   "outputs": [
    {
     "data": {
      "text/plain": [
       "['__add__',\n",
       " '__class__',\n",
       " '__contains__',\n",
       " '__delattr__',\n",
       " '__delitem__',\n",
       " '__dir__',\n",
       " '__doc__',\n",
       " '__eq__',\n",
       " '__format__',\n",
       " '__ge__',\n",
       " '__getattribute__',\n",
       " '__getitem__',\n",
       " '__gt__',\n",
       " '__hash__',\n",
       " '__iadd__',\n",
       " '__imul__',\n",
       " '__init__',\n",
       " '__init_subclass__',\n",
       " '__iter__',\n",
       " '__le__',\n",
       " '__len__',\n",
       " '__lt__',\n",
       " '__mul__',\n",
       " '__ne__',\n",
       " '__new__',\n",
       " '__reduce__',\n",
       " '__reduce_ex__',\n",
       " '__repr__',\n",
       " '__reversed__',\n",
       " '__rmul__',\n",
       " '__setattr__',\n",
       " '__setitem__',\n",
       " '__sizeof__',\n",
       " '__str__',\n",
       " '__subclasshook__',\n",
       " 'append',\n",
       " 'clear',\n",
       " 'copy',\n",
       " 'count',\n",
       " 'extend',\n",
       " 'index',\n",
       " 'insert',\n",
       " 'pop',\n",
       " 'remove',\n",
       " 'reverse',\n",
       " 'sort']"
      ]
     },
     "execution_count": 10,
     "metadata": {},
     "output_type": "execute_result"
    }
   ],
   "source": [
    "dir([1,2,3])"
   ]
  },
  {
   "cell_type": "code",
   "execution_count": 1,
   "metadata": {},
   "outputs": [],
   "source": [
    "class Animal(object):\n",
    "    def __init__(self):\n",
    "        self.able_to_move = True\n",
    "    \n",
    "    def run(self):\n",
    "        print('Animal is running...')"
   ]
  },
  {
   "cell_type": "code",
   "execution_count": 2,
   "metadata": {},
   "outputs": [
    {
     "name": "stdout",
     "output_type": "stream",
     "text": [
      "True\n",
      "True\n"
     ]
    }
   ],
   "source": [
    "a = Animal()\n",
    "print(getattr(a, 'able_to_move'))\n",
    "setattr(a, 'able_to_move', False)\n",
    "print(getattr(a, 'able_to_move'))"
   ]
  },
  {
   "cell_type": "code",
   "execution_count": 17,
   "metadata": {},
   "outputs": [],
   "source": [
    "class my2DList(object):\n",
    "    \n",
    "    def __init__(self, size=None, defaultValues = 0):\n",
    "        '''\n",
    "        二维列表类的构造函数\n",
    "        参数self: 创建的实例本身\n",
    "        参数size: 指定二维列表大小\n",
    "        参数defaultValues: 输入指定列表\n",
    "        '''\n",
    "\n",
    "        if (size is None) and (not self.is2DList(defaultValues)):\n",
    "            # 未指定二维列表大小，且指定列表不是二维列表\n",
    "            print('Please input proper 2D list!')\n",
    "            \n",
    "        elif (size is None) and self.is2DList(defaultValues):\n",
    "            # 未指定二维列表大小，但指定列表是二维列表\n",
    "            self.__items = defaultValues\n",
    "            self.__size = [len(defaultValues), len(defaultValues[0])]\n",
    "            \n",
    "        else: \n",
    "            # 根据指定二维列表大小，创建二维列表\n",
    "            self.__size = list(size)\n",
    "            if(isinstance(defaultValues, int) or isinstance(defaultValues, float)):\n",
    "               # 利用defaultValues作为二维列表元素\n",
    "                self.__items = list()\n",
    "                for i in range(self.__size[0]):\n",
    "                    subItems = list()\n",
    "                    for j in range(self.__size[1]):\n",
    "                        subItems.append(defaultValues)\n",
    "                    self.__items.append(subItems)\n",
    "\n",
    "            # 利用defaultValues指定的一维列表初始化二维列表\n",
    "            elif(isinstance(defaultValues, list) and len(defaultValues) == self.__size[0]*self.__size[1]):\n",
    "                self.__items = list()\n",
    "                for i in range(self.__size[0]):\n",
    "                    subItems = list()\n",
    "                    for j in range(self.__size[1]):\n",
    "                        subItems.append(defaultValues[i*self.__size[1]+j])\n",
    "                    self.__items.append(subItems)\n",
    "\n",
    "            else:\n",
    "                print('Incorrect defaultValues')\n",
    "    \n",
    "    def is2DList(self, data):\n",
    "        '''\n",
    "        类的方法：判断data是否为二维列表\n",
    "        '''\n",
    "        \n",
    "        if (not isinstance(data, list)) or (not isinstance(data[0], list)):\n",
    "            # 判断data的第一维是否为list数据类型\n",
    "            return False\n",
    "        else:\n",
    "            colLen = len(data[0])\n",
    "            for row in data:\n",
    "                if (not isinstance(row, list)) or (len(row) != colLen):\n",
    "                    # 判断data的第二维是否为list数据类型，且元素数目是否相等\n",
    "                    return False\n",
    "                else:\n",
    "                    for i in range(colLen):\n",
    "                        if ((not isinstance(row[i], int)) and (not isinstance(row[j], float))):\n",
    "                            # 判断data的第二维内元素是否为int类型或者float类型\n",
    "                            return False\n",
    "                            \n",
    "            return True # 以上均符合要求，返回True\n",
    "    \n",
    "    def getMy2DList(self):\n",
    "        '''\n",
    "        类的方法：返回二维列表\n",
    "        '''  \n",
    "        return self.__items\n",
    "\n",
    "    \n",
    "    def mySize(self):\n",
    "        '''\n",
    "        类的方法：返回二维列表的大小\n",
    "        '''  \n",
    "        return self.__size[0], self.__size[1]\n",
    "\n",
    "    \n",
    "    def myIndex(self, rowIndex=None, colIndex=None):\n",
    "        '''\n",
    "        类的方法：对二维列表索引\n",
    "        参数rowIndex: 索引的行坐标\n",
    "        参数colIndex: 索引的列坐标\n",
    "        '''  \n",
    "        if (rowIndex is None) and (colIndex is None):\n",
    "            # rowIndex和colIndex均未给定，输出错误\n",
    "            print('Please input index number!')\n",
    "            \n",
    "        elif (isinstance(rowIndex, int) and (colIndex is None)):\n",
    "            # 仅给定行索引值，则仅对行进行索引\n",
    "            if (rowIndex >= 0) and (rowIndex < self.__size[0]):\n",
    "                return self.__items[rowIndex]\n",
    "            else:\n",
    "                print('Row index out of range!')\n",
    "                \n",
    "        elif (rowIndex is None) and isinstance(colIndex, int):\n",
    "            # 仅给定列索引值，则仅对列进行索引\n",
    "            if (colIndex >= 0) and (colIndex < self.__size[1]):\n",
    "                colItems = list()\n",
    "                for row in self.__items:\n",
    "                    colItems.append(row[colIndex])\n",
    "                return colItems\n",
    "            else:\n",
    "                print('Column index out of range!')\n",
    "                \n",
    "        elif (isinstance(rowIndex, int) and isinstance(colIndex, int)):\n",
    "            # 给定行和列索引值，则对指定元素进行索引\n",
    "            if (rowIndex>=0) and (rowIndex < self.__size[0]) and (colIndex>=0) and (colIndex < self.__size[1]):\n",
    "                return self.__items[rowIndex][colIndex] \n",
    "            else:\n",
    "                print('Index out of range!')\n",
    "                            \n",
    "        else:\n",
    "            print('Please input int-type Index!')\n",
    "                            \n",
    "            \n",
    "    def myAppendRow(self, rowData):\n",
    "        '''\n",
    "        类的方法：向二维列表行末添加新的一行\n",
    "        参数rowData: 输入的添加行\n",
    "        '''  \n",
    "        if self.__size[1] == len(rowData):\n",
    "            self.__items.append(rowData)\n",
    "            self.__size[0] += 1\n",
    "        else:\n",
    "            print('Appended data not fit the List row!')\n",
    "            \n",
    "    def myAppendCol(self, colData):\n",
    "        '''\n",
    "        类的方法：向二维列表列末添加新的一列\n",
    "        参数colData: 输入的添加列\n",
    "        '''  \n",
    "        if self.__size[0] == len(colData):\n",
    "            for i in range(self.__size[0]):\n",
    "                self.__items[i].append(colData[i])\n",
    "            self.__size[1] += 1       \n",
    "        else:\n",
    "            print('Appended data not fit the List column!')\n",
    "    \n",
    "    def myDeleteRow(self, index):\n",
    "        '''\n",
    "        类的方法：删除二维列表的中指定行\n",
    "        参数index: 需删除的行索引\n",
    "        '''  \n",
    "        if index >= 0 and index < self.__size[0]:\n",
    "            self.newItems = list()\n",
    "            for i in range(self.__size[0]):\n",
    "                if i != index:\n",
    "                    self.newItems.append(self.__items[i])\n",
    "            self.__items = self.newItems\n",
    "            self.__size[0] -= 1\n",
    "        else:\n",
    "            print('Index out of range!!')\n",
    "            \n",
    "    def myDeleteCol(self, index):\n",
    "        '''\n",
    "        类的方法：删除二维列表的中指定列\n",
    "        参数index: 需删除的列索引\n",
    "        '''  \n",
    "        if index >= 0 and index < self.__size[1]:\n",
    "            self.newItems = list()\n",
    "            for i in range(self.__size[0]):\n",
    "                subItems = list()\n",
    "                for j in range(self.__size[1]):\n",
    "                    if j != index:\n",
    "                        subItems.append(self.__items[i][j])\n",
    "                self.newItems.append(subItems)\n",
    "            self.__items = self.newItems\n",
    "            self.__size[1] -= 1\n",
    "        else:\n",
    "            print('Index out of range!!')\n",
    "            "
   ]
  },
  {
   "cell_type": "code",
   "execution_count": 3,
   "metadata": {},
   "outputs": [
    {
     "name": "stdout",
     "output_type": "stream",
     "text": [
      "Please input proper 2D list!\n"
     ]
    }
   ],
   "source": [
    "customList0 = my2DList()"
   ]
  },
  {
   "cell_type": "code",
   "execution_count": 4,
   "metadata": {},
   "outputs": [],
   "source": [
    "customList1 = my2DList(size=(2,3), defaultValues=1)"
   ]
  },
  {
   "cell_type": "code",
   "execution_count": 5,
   "metadata": {},
   "outputs": [
    {
     "data": {
      "text/plain": [
       "[[1, 1, 1], [1, 1, 1]]"
      ]
     },
     "execution_count": 5,
     "metadata": {},
     "output_type": "execute_result"
    }
   ],
   "source": [
    "customList1.getMy2DList()"
   ]
  },
  {
   "cell_type": "code",
   "execution_count": 18,
   "metadata": {},
   "outputs": [
    {
     "name": "stdout",
     "output_type": "stream",
     "text": [
      "Incorrect defaultValues\n"
     ]
    }
   ],
   "source": [
    "customList2 = my2DList(size=(3,3), defaultValues=[1,2,3,4,5,6])"
   ]
  },
  {
   "cell_type": "code",
   "execution_count": 75,
   "metadata": {},
   "outputs": [],
   "source": [
    "customList3 = my2DList(size=None, defaultValues=[[1,3,6],[4,6,6]])"
   ]
  },
  {
   "cell_type": "code",
   "execution_count": 76,
   "metadata": {},
   "outputs": [
    {
     "data": {
      "text/plain": [
       "[[1, 3, 6], [4, 6, 6]]"
      ]
     },
     "execution_count": 76,
     "metadata": {},
     "output_type": "execute_result"
    }
   ],
   "source": [
    "customList3.getMy2DList()"
   ]
  },
  {
   "cell_type": "code",
   "execution_count": 20,
   "metadata": {},
   "outputs": [],
   "source": [
    "customList = my2DList(size=(2,3), defaultValues=[1,2,3,4,5,6]) # 初始化"
   ]
  },
  {
   "cell_type": "code",
   "execution_count": 21,
   "metadata": {},
   "outputs": [
    {
     "data": {
      "text/plain": [
       "[[1, 2, 3], [4, 5, 6]]"
      ]
     },
     "execution_count": 21,
     "metadata": {},
     "output_type": "execute_result"
    }
   ],
   "source": [
    "customList.getMy2DList()  # 2D list 获取"
   ]
  },
  {
   "cell_type": "code",
   "execution_count": 22,
   "metadata": {},
   "outputs": [
    {
     "data": {
      "text/plain": [
       "(2, 3)"
      ]
     },
     "execution_count": 22,
     "metadata": {},
     "output_type": "execute_result"
    }
   ],
   "source": [
    "customList.mySize()  # 2D list size 获取"
   ]
  },
  {
   "cell_type": "code",
   "execution_count": 23,
   "metadata": {},
   "outputs": [
    {
     "data": {
      "text/plain": [
       "2"
      ]
     },
     "execution_count": 23,
     "metadata": {},
     "output_type": "execute_result"
    }
   ],
   "source": [
    "customList.myIndex(0,1) # 2D list 元素索引"
   ]
  },
  {
   "cell_type": "code",
   "execution_count": 24,
   "metadata": {},
   "outputs": [
    {
     "data": {
      "text/plain": [
       "[1, 2, 3]"
      ]
     },
     "execution_count": 24,
     "metadata": {},
     "output_type": "execute_result"
    }
   ],
   "source": [
    "customList.myIndex(0, None) # 2D list 行索引"
   ]
  },
  {
   "cell_type": "code",
   "execution_count": 25,
   "metadata": {},
   "outputs": [
    {
     "data": {
      "text/plain": [
       "[2, 5]"
      ]
     },
     "execution_count": 25,
     "metadata": {},
     "output_type": "execute_result"
    }
   ],
   "source": [
    "customList.myIndex(None, 1) # 2D list 列索引"
   ]
  },
  {
   "cell_type": "code",
   "execution_count": 26,
   "metadata": {},
   "outputs": [],
   "source": [
    "customList.myAppendCol([7,8]) # 2D list 列添加"
   ]
  },
  {
   "cell_type": "code",
   "execution_count": 27,
   "metadata": {},
   "outputs": [
    {
     "data": {
      "text/plain": [
       "[[1, 2, 3, 7], [4, 5, 6, 8]]"
      ]
     },
     "execution_count": 27,
     "metadata": {},
     "output_type": "execute_result"
    }
   ],
   "source": [
    "customList.getMy2DList()"
   ]
  },
  {
   "cell_type": "code",
   "execution_count": 28,
   "metadata": {},
   "outputs": [
    {
     "data": {
      "text/plain": [
       "(2, 4)"
      ]
     },
     "execution_count": 28,
     "metadata": {},
     "output_type": "execute_result"
    }
   ],
   "source": [
    "customList.mySize()"
   ]
  },
  {
   "cell_type": "code",
   "execution_count": 29,
   "metadata": {},
   "outputs": [],
   "source": [
    "customList.myDeleteCol(2) # 2D list 列删除"
   ]
  },
  {
   "cell_type": "code",
   "execution_count": 103,
   "metadata": {},
   "outputs": [
    {
     "data": {
      "text/plain": [
       "[[1, 2, 7], [4, 5, 8]]"
      ]
     },
     "execution_count": 103,
     "metadata": {},
     "output_type": "execute_result"
    }
   ],
   "source": [
    "customList.getMy2DList()"
   ]
  },
  {
   "cell_type": "code",
   "execution_count": 19,
   "metadata": {},
   "outputs": [],
   "source": [
    "# 导入Tkinter模块\n",
    "import tkinter as tk\n",
    "\n",
    "# 第1步，实例化object，建立窗口window\n",
    "window = tk.Tk()\n",
    "\n",
    "# 第2步，给窗口的可视化起名字\n",
    "window.title('My First GUI APP')\n",
    "\n",
    "# 第3步，设定窗口的大小(长 * 宽)\n",
    "window.geometry('500x300')  # 这里的乘是小x\n",
    "\n",
    "# 第4步，在图形界面上设定标签\n",
    "l = tk.Label(window, text='Hello Tkinter!', bg='yellow', font=('Arial', 12), width=30, height=2)\n",
    "# 说明： bg为背景，font为字体，width为长，height为高，这里的长和高是字符的长和高，比如height=2,就是标签有2个字符这么高\n",
    "\n",
    "# 第5步，放置标签\n",
    "l.pack()    # Label内容content区域放置位置，自动调节尺寸\n",
    "# 放置lable的方法有：1）l.pack(); 2)l.place();\n",
    "\n",
    "# 第6步，主窗口循环显示\n",
    "window.mainloop()\n",
    "# 注意，loop因为是循环的意思，window.mainloop就会让window不断的刷新，相当于一个while循环，每点击一次就会更新一次，所以我们必须要有循环\n",
    "# 所有的窗口文件都必须有类似的mainloop函数，mainloop是窗口文件的关键。\n",
    "\n",
    "\n"
   ]
  },
  {
   "cell_type": "code",
   "execution_count": null,
   "metadata": {},
   "outputs": [],
   "source": [
    "# 导入Tkinter\n",
    "import tkinter as tk\n",
    "\n",
    "# 第1步，实例化object，建立窗口window\n",
    "window = tk.Tk()\n",
    "\n",
    "# 第2步，给窗口的可视化起名字\n",
    "window.title('My Window')\n",
    "\n",
    "# 第3步，设定窗口的大小(长 * 宽)\n",
    "window.geometry('500x300')  # 这里的乘是小x\n",
    "\n",
    "# 第4步，在图形界面上设定标签\n",
    "var = tk.StringVar()  # 将label标签的内容设置为字符类型，用var来接收hit_me函数的传出内容用以显示在标签上\n",
    "l = tk.Label(window, textvariable=var, bg='yellow', fg='black', font=('Arial', 12), width=30, height=2)\n",
    "# 说明： bg为背景，fg为字体颜色，font为字体，width为长，height为高，这里的长和高是字符的长和高，比如height=2,就是标签有2个字符这么高\n",
    "l.pack()\n",
    "\n",
    "# 定义一个函数功能（内容自己自由编写），供点击Button按键时调用，调用命令参数command=函数名\n",
    "on_hit = False\n",
    "def callback():\n",
    "    global on_hit\n",
    "    if on_hit == False:\n",
    "        on_hit = True\n",
    "        var.set('Hello Tkinter!')\n",
    "    else:\n",
    "        on_hit = False\n",
    "        var.set('')\n",
    "\n",
    "# 第5步，在窗口界面设置放置Button按键\n",
    "b = tk.Button(window, text='Please Click me', font=('Arial', 12), width=10, height=1, command=callback)\n",
    "b.pack()\n",
    "\n",
    "# 第6步，主窗口循环显示\n",
    "window.mainloop()\n"
   ]
  },
  {
   "cell_type": "code",
   "execution_count": null,
   "metadata": {},
   "outputs": [],
   "source": []
  },
  {
   "cell_type": "code",
   "execution_count": null,
   "metadata": {},
   "outputs": [],
   "source": []
  }
 ],
 "metadata": {
  "kernelspec": {
   "display_name": "Python 3 (ipykernel)",
   "language": "python",
   "name": "python3"
  },
  "language_info": {
   "codemirror_mode": {
    "name": "ipython",
    "version": 3
   },
   "file_extension": ".py",
   "mimetype": "text/x-python",
   "name": "python",
   "nbconvert_exporter": "python",
   "pygments_lexer": "ipython3",
   "version": "3.9.7"
  }
 },
 "nbformat": 4,
 "nbformat_minor": 4
}
