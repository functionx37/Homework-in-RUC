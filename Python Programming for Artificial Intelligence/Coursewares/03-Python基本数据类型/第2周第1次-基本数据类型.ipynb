{
 "cells": [
  {
   "cell_type": "code",
   "execution_count": 1,
   "id": "9a28de49-89cd-49f2-aa75-dc5b675cd355",
   "metadata": {},
   "outputs": [],
   "source": [
    "# 整数"
   ]
  },
  {
   "cell_type": "code",
   "execution_count": null,
   "id": "0df0c875-1d0c-4e03-ab9d-c5f43de83f64",
   "metadata": {},
   "outputs": [
    {
     "data": {
      "text/plain": [
       "10"
      ]
     },
     "execution_count": 2,
     "metadata": {},
     "output_type": "execute_result"
    }
   ],
   "source": [
    "# 正整数\n",
    "10"
   ]
  },
  {
   "cell_type": "code",
   "execution_count": 4,
   "id": "a5672b89-5c93-4c96-b8bd-8cb767d8013a",
   "metadata": {},
   "outputs": [
    {
     "data": {
      "text/plain": [
       "-100"
      ]
     },
     "execution_count": 4,
     "metadata": {},
     "output_type": "execute_result"
    }
   ],
   "source": [
    "# 负数\n",
    "-100"
   ]
  },
  {
   "cell_type": "code",
   "execution_count": 8,
   "id": "675bdd04-55bc-47a4-8e08-91c8c4567a91",
   "metadata": {},
   "outputs": [
    {
     "name": "stdout",
     "output_type": "stream",
     "text": [
      "3 9 17\n"
     ]
    }
   ],
   "source": [
    "# 二进制、八进制、十六进制整数\n",
    "print(0b11, 0o11, 0x11)"
   ]
  },
  {
   "cell_type": "code",
   "execution_count": 14,
   "id": "71b44a09-59f6-454c-a227-bf382fc3def2",
   "metadata": {},
   "outputs": [
    {
     "data": {
      "text/plain": [
       "10715086071862673209484250490600018105614048117055336074437503883703510511249361224931983788156958581275946729175531468251871452856923140435984577574698574803934567774824230985421074605062371141877954182153046474983581941267398767559165543946077062914571196477686542167660429831652624386837205668069376"
      ]
     },
     "execution_count": 14,
     "metadata": {},
     "output_type": "execute_result"
    }
   ],
   "source": [
    "# python中整数的大小没有限制\n",
    "pow(2, 1000)"
   ]
  },
  {
   "cell_type": "code",
   "execution_count": 9,
   "id": "6e3a3c7a-0a41-4f7d-8f98-ee83d1bc5259",
   "metadata": {},
   "outputs": [
    {
     "data": {
      "text/plain": [
       "1.1"
      ]
     },
     "execution_count": 9,
     "metadata": {},
     "output_type": "execute_result"
    }
   ],
   "source": [
    "# 浮点数\n",
    "1.1"
   ]
  },
  {
   "cell_type": "code",
   "execution_count": 16,
   "id": "a618559e-6908-4d73-a0d7-97453f45a80c",
   "metadata": {},
   "outputs": [
    {
     "data": {
      "text/plain": [
       "1.0715086071862673e+301"
      ]
     },
     "execution_count": 16,
     "metadata": {},
     "output_type": "execute_result"
    }
   ],
   "source": [
    "# 很大的浮点数会用科学计数法表示\n",
    "pow(2.0, 1000)"
   ]
  },
  {
   "cell_type": "code",
   "execution_count": 13,
   "id": "22f205a4-eaa8-4860-a061-0cc0b3a4a275",
   "metadata": {},
   "outputs": [
    {
     "name": "stdout",
     "output_type": "stream",
     "text": [
      "5e+100 0.001\n"
     ]
    }
   ],
   "source": [
    "#同样也用这种方式可以输入浮点数常量\n",
    "print(5e100, 1e-3)"
   ]
  },
  {
   "cell_type": "code",
   "execution_count": 47,
   "id": "52e3cbac-0964-473d-bf77-d7351b6657d4",
   "metadata": {},
   "outputs": [
    {
     "name": "stdout",
     "output_type": "stream",
     "text": [
      "1.7976931348623157e+308\n"
     ]
    }
   ],
   "source": [
    "import sys\n",
    "# python中浮点数的大小是有限制的！\n",
    "# 具体限制和计算机系统有关\n",
    "# 当前系统最大浮点数为\n",
    "print(sys.float_info.max)"
   ]
  },
  {
   "attachments": {
    "06358716-2b78-4454-ad6d-03bb7f7dc27a.png": {
     "image/png": "[encoded data removed]"
    }
   },
   "cell_type": "markdown",
   "id": "62f08481-f0f8-4672-a203-6f915606892f",
   "metadata": {},
   "source": [
    "计算机保存浮点数的方式：\n",
    "![image.png](attachment:06358716-2b78-4454-ad6d-03bb7f7dc27a.png)\n",
    "\n",
    "二进制的科学计数法：\n",
    "\n",
    "sign bit（符号）：用来表示正负号\n",
    "\n",
    "exponent（指数）：用来表示次方数（2的多少次方）\n",
    "\n",
    "mantissa（尾数）：用来表示精确的数值（1到2之间的一个小数）"
   ]
  },
  {
   "cell_type": "code",
   "execution_count": 49,
   "id": "72316ac4-4e71-4321-88ee-9b71d17fe214",
   "metadata": {},
   "outputs": [
    {
     "name": "stdout",
     "output_type": "stream",
     "text": [
      "0x1.fffffffffffffp+1023\n"
     ]
    }
   ],
   "source": [
    "print(sys.float_info.max.hex())"
   ]
  },
  {
   "cell_type": "code",
   "execution_count": 54,
   "id": "0115b1ee-82b5-44c4-ba01-1a0ba597685a",
   "metadata": {},
   "outputs": [
    {
     "name": "stdout",
     "output_type": "stream",
     "text": [
      "inf\n",
      "0.0\n",
      "1.7976931348623157e+308\n",
      "True\n"
     ]
    }
   ],
   "source": [
    "# 因为有范围的限制，所以浮点数会溢出\n",
    "max_float = sys.float_info.max\n",
    "# 上溢出\n",
    "print(max_float*2)\n",
    "# 下溢出\n",
    "small_float = pow(0.5, 2048)\n",
    "print(small_float)\n",
    "\n",
    "print(max_float+1)\n",
    "print(max_float+1 == max_float)"
   ]
  },
  {
   "cell_type": "code",
   "execution_count": 29,
   "id": "74912bdc-00d0-4fc1-b152-8056c89621d7",
   "metadata": {},
   "outputs": [
    {
     "name": "stdout",
     "output_type": "stream",
     "text": [
      "(1+1j)\n",
      "1.0 1.0\n",
      "2j\n",
      "0.0 2.0\n"
     ]
    }
   ],
   "source": [
    "# 复数\n",
    "z = 1 + 1j\n",
    "print(z)\n",
    "print(z.real, z.imag)\n",
    "\n",
    "z = z * z\n",
    "print(z)\n",
    "print(z.real, z.imag)\n"
   ]
  },
  {
   "cell_type": "code",
   "execution_count": 58,
   "id": "f2ee738c-df44-496d-aedd-e27e8a9019d4",
   "metadata": {},
   "outputs": [
    {
     "name": "stdout",
     "output_type": "stream",
     "text": [
      "<class 'int'> <class 'float'> <class 'complex'>\n",
      "<class 'int'> <class 'float'> <class 'complex'>\n"
     ]
    }
   ],
   "source": [
    "# 判断数和保存数的变量的类型\n",
    "print(type(1), type(1.0), type(1+1j))\n",
    "\n",
    "a, b, c = 1, 1.0, 1+1j\n",
    "print(type(a), type(b), type(c))"
   ]
  },
  {
   "cell_type": "code",
   "execution_count": 60,
   "id": "aa423364-9a6f-4fa2-9441-3f049b887120",
   "metadata": {},
   "outputs": [
    {
     "data": {
      "text/plain": [
       "float"
      ]
     },
     "execution_count": 60,
     "metadata": {},
     "output_type": "execute_result"
    }
   ],
   "source": [
    "type(1 + 123.0)"
   ]
  },
  {
   "cell_type": "code",
   "execution_count": 62,
   "id": "7f6af596-8cd0-4d25-935b-13ecd0bbf773",
   "metadata": {},
   "outputs": [
    {
     "name": "stdout",
     "output_type": "stream",
     "text": [
      "1.0 5\n"
     ]
    }
   ],
   "source": [
    "# 数据类型间的转化\n",
    "print(float(1), int(5.6))"
   ]
  },
  {
   "cell_type": "code",
   "execution_count": 22,
   "id": "423fdd44-367c-40a8-b08d-69d1e5c1a387",
   "metadata": {},
   "outputs": [
    {
     "name": "stdout",
     "output_type": "stream",
     "text": [
      "30.959144000000002\n",
      "30.959144000000002\n"
     ]
    }
   ],
   "source": [
    "# 增强赋值操作符\n",
    "x = 3.14\n",
    "x = x ** 3\n",
    "print(x)\n",
    "\n",
    "x = 3.14\n",
    "x **= 3\n",
    "print(x)"
   ]
  },
  {
   "cell_type": "code",
   "execution_count": 63,
   "id": "cd25bb71-2e80-4351-86df-b28ea5d7cdb6",
   "metadata": {},
   "outputs": [
    {
     "data": {
      "text/plain": [
       "-1"
      ]
     },
     "execution_count": 63,
     "metadata": {},
     "output_type": "execute_result"
    }
   ],
   "source": [
    "-1**2"
   ]
  },
  {
   "cell_type": "code",
   "execution_count": 64,
   "id": "c1609b6f-0198-4b90-af28-11da7e3a0eef",
   "metadata": {},
   "outputs": [
    {
     "data": {
      "text/plain": [
       "0.5"
      ]
     },
     "execution_count": 64,
     "metadata": {},
     "output_type": "execute_result"
    }
   ],
   "source": [
    "2**-1"
   ]
  },
  {
   "cell_type": "code",
   "execution_count": 67,
   "id": "ca47d979-1e81-4c7c-bd18-73f1f491a682",
   "metadata": {},
   "outputs": [
    {
     "name": "stdout",
     "output_type": "stream",
     "text": [
      "256\n",
      "64\n"
     ]
    }
   ],
   "source": [
    "print(2 ** 2 ** 3)\n",
    "print((2 ** 2) ** 3)"
   ]
  },
  {
   "cell_type": "code",
   "execution_count": 75,
   "id": "55cf55d9-0dff-422e-883a-ae9e3311e9ef",
   "metadata": {},
   "outputs": [
    {
     "name": "stdout",
     "output_type": "stream",
     "text": [
      "1.4142135623730951\n"
     ]
    }
   ],
   "source": [
    "# 使用math库\n",
    "import math\n",
    "print(math.sqrt(2))"
   ]
  },
  {
   "cell_type": "code",
   "execution_count": 73,
   "id": "59f25f47-1d82-40b2-ad2e-8d88c8b4d3a2",
   "metadata": {},
   "outputs": [
    {
     "name": "stdout",
     "output_type": "stream",
     "text": [
      "hello\n",
      "world\n",
      "hello\n",
      "world\n"
     ]
    }
   ],
   "source": [
    "# 定义字符串\n",
    "a = 'hello'\n",
    "b = \"world\"\n",
    "c = \"hello\\nworld\"\n",
    "print(a)\n",
    "print(b)\n",
    "print(c)"
   ]
  },
  {
   "cell_type": "code",
   "execution_count": 74,
   "id": "bea513f5-10c4-4879-9a5c-ac3750dac517",
   "metadata": {},
   "outputs": [
    {
     "name": "stdout",
     "output_type": "stream",
     "text": [
      "8\n",
      "F\n",
      "82\n",
      "82\n"
     ]
    }
   ],
   "source": [
    "# 字符串索引\n",
    "a = '82F'\n",
    "print(a[0])\n",
    "print(a[-1])\n",
    "print(a[0:2])\n",
    "print(a[0:-1])"
   ]
  },
  {
   "cell_type": "code",
   "execution_count": 68,
   "id": "bc666e5b-5508-4224-8fb4-5d518e208ce5",
   "metadata": {},
   "outputs": [
    {
     "name": "stdout",
     "output_type": "stream",
     "text": [
      "pineapple\n",
      "pinepinepine\n",
      "pinepinepine\n"
     ]
    }
   ],
   "source": [
    "# 字符串的操作\n",
    "a = 'pine'\n",
    "b = 'apple'\n",
    "\n",
    "# 连接两个字符串\n",
    "print(a + b)\n",
    "\n",
    "# 复制字符串并连接\n",
    "print(3 * a)\n",
    "print(a * 3)"
   ]
  },
  {
   "cell_type": "code",
   "execution_count": 69,
   "id": "08502f6e-7a2d-430a-ae4e-2e9f376ce3cf",
   "metadata": {},
   "outputs": [
    {
     "data": {
      "text/plain": [
       "4"
      ]
     },
     "execution_count": 69,
     "metadata": {},
     "output_type": "execute_result"
    }
   ],
   "source": [
    "# 求字符串的长度\n",
    "len(a)"
   ]
  },
  {
   "cell_type": "code",
   "execution_count": 72,
   "id": "0006386d-5026-4ed2-9465-fb5c46aa2012",
   "metadata": {},
   "outputs": [
    {
     "name": "stdout",
     "output_type": "stream",
     "text": [
      "123.00123\n",
      "1230.00123\n"
     ]
    }
   ],
   "source": [
    "# 将其他类型转化为字符串\n",
    "a = 123\n",
    "b = 123e-5\n",
    "print(a + b)\n",
    "\n",
    "str_a = str(a)\n",
    "str_b = str(b)\n",
    "print(str_a + str_b)"
   ]
  },
  {
   "cell_type": "code",
   "execution_count": 76,
   "id": "c5fabc9b-a0e0-485d-adea-441783aa00ef",
   "metadata": {},
   "outputs": [
    {
     "name": "stdout",
     "output_type": "stream",
     "text": [
      "Hello John\n",
      "Hello 中国人民大学\n",
      "HELLO JOHN\n"
     ]
    }
   ],
   "source": [
    "# 字符串操作举例\n",
    "str1 = 'Hello John'\n",
    "str2 = str1.replace('John', '中国人民大学')\n",
    "str3 = str1.upper()\n",
    "\n",
    "print(str1)\n",
    "print(str2)\n",
    "print(str3)"
   ]
  },
  {
   "cell_type": "code",
   "execution_count": 77,
   "id": "c4962e11-0899-4966-9bee-742963cca528",
   "metadata": {},
   "outputs": [
    {
     "name": "stdout",
     "output_type": "stream",
     "text": [
      "海\n",
      "客\n",
      "谈\n",
      "瀛\n",
      "洲\n"
     ]
    }
   ],
   "source": [
    "# 遍历字符串中每个字符\n",
    "string = '海客谈瀛洲'\n",
    "for c in string:\n",
    "    print(c)"
   ]
  },
  {
   "cell_type": "code",
   "execution_count": 78,
   "id": "8cd4b2e5-3acb-4157-8313-03d3db6c6e83",
   "metadata": {},
   "outputs": [
    {
     "name": "stdout",
     "output_type": "stream",
     "text": [
      "2020-9-15:12:12:30: 计算机Python的CPU占有率为10%。\n"
     ]
    }
   ],
   "source": [
    "pattern = \"{0}: 计算机{1}的CPU占有率为{2}%。\"\n",
    "\n",
    "string = pattern.format(\"2020-9-15:12:12:30\", \"Python\", 10)\n",
    "\n",
    "print(string)"
   ]
  },
  {
   "cell_type": "code",
   "execution_count": 79,
   "id": "5a144cda-da05-4197-a601-2670a20846f2",
   "metadata": {},
   "outputs": [
    {
     "name": "stdout",
     "output_type": "stream",
     "text": [
      "2020-9-15:12:12:30            : 计算机************Python************的CPU占有率为1010%。\n"
     ]
    }
   ],
   "source": [
    "pattern = \"{0:30}: 计算机{1:*^30}的CPU占有率为{2:b}%。\"\n",
    "\n",
    "string = pattern.format(\"2020-9-15:12:12:30\", \"Python\", 10)\n",
    "\n",
    "print(string)"
   ]
  },
  {
   "cell_type": "code",
   "execution_count": 80,
   "id": "65aa5236-16fe-43a6-b671-e9b17d950d7a",
   "metadata": {},
   "outputs": [
    {
     "name": "stdout",
     "output_type": "stream",
     "text": [
      "输入月份数(1-12) 1\n"
     ]
    },
    {
     "name": "stdout",
     "output_type": "stream",
     "text": [
      "Jan\n"
     ]
    }
   ],
   "source": [
    "months = \"JanFebMarAprMayJunJulAugSepOctNovDec\"\n",
    "n = int(input(\"输入月份数(1-12)\"))\n",
    "if n <= 0 or n > 12:\n",
    "    print(\"输入1-12的月份数。\")\n",
    "else:\n",
    "    pos = (n-1)*3 \n",
    "    print(months[pos:pos+3])"
   ]
  },
  {
   "cell_type": "code",
   "execution_count": 81,
   "id": "68961c48-9891-45df-a3d1-2881232ca826",
   "metadata": {},
   "outputs": [
    {
     "name": "stdout",
     "output_type": "stream",
     "text": [
      "100%"
     ]
    }
   ],
   "source": [
    "import time\n",
    "for i in range (101):\n",
    "    print(\"\\r{:3}%\".format(i),end=\"\")\n",
    "    time.sleep(0.1)"
   ]
  },
  {
   "cell_type": "code",
   "execution_count": 82,
   "id": "f8bce620-d471-4570-981f-d639036a6c08",
   "metadata": {},
   "outputs": [
    {
     "name": "stdout",
     "output_type": "stream",
     "text": [
      "0%%%"
     ]
    }
   ],
   "source": [
    "import time\n",
    "for i in range (101):\n",
    "    print(\"\\r{:}%\".format(100-i),end=\"\")\n",
    "    time.sleep(0.1)"
   ]
  },
  {
   "cell_type": "code",
   "execution_count": 84,
   "id": "11dfa2f2-6aff-4ec7-8fb6-b33571f047b8",
   "metadata": {},
   "outputs": [
    {
     "name": "stdout",
     "output_type": "stream",
     "text": [
      "------执行开始------\n",
      "%100[********************->]\n",
      "------执行结束------\n"
     ]
    }
   ],
   "source": [
    "import time\n",
    "scale = 10\n",
    "print(\"------执行开始------\")\n",
    "for i in range(scale + 1):\n",
    "    a = \"**\" * i\n",
    "    b = \"..\" * (scale - i)\n",
    "    c=(i / scale) * 100\n",
    "    print(\"\\r%{0:^3.0f}[{1}->{2}]\".format(c,a,b), end = \"\")\n",
    "    time.sleep(0.1)\n",
    "\n",
    "print(\"\\n------执行结束------\")"
   ]
  },
  {
   "cell_type": "code",
   "execution_count": null,
   "id": "25819f35-feff-4713-ba28-5ae50f71f283",
   "metadata": {},
   "outputs": [],
   "source": []
  }
 ],
 "metadata": {
  "kernelspec": {
   "display_name": "Python 3 (ipykernel)",
   "language": "python",
   "name": "python3"
  },
  "language_info": {
   "codemirror_mode": {
    "name": "ipython",
    "version": 3
   },
   "file_extension": ".py",
   "mimetype": "text/x-python",
   "name": "python",
   "nbconvert_exporter": "python",
   "pygments_lexer": "ipython3",
   "version": "3.9.7"
  }
 },
 "nbformat": 4,
 "nbformat_minor": 5
}
