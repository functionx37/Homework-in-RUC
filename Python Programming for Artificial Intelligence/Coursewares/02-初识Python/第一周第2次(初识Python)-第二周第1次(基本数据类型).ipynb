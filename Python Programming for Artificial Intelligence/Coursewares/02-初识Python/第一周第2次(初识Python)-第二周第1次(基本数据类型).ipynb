{
 "cells": [
  {
   "attachments": {},
   "cell_type": "markdown",
   "metadata": {},
   "source": [
    "# 第一周第2次课\n",
    "## 《工智能与Python程序设计》—— 初识Python"
   ]
  },
  {
   "cell_type": "code",
   "execution_count": null,
   "metadata": {},
   "outputs": [
    {
     "ename": "",
     "evalue": "",
     "output_type": "error",
     "traceback": [
      "\u001b[1;31m运行具有“Python 3.12.8”的单元格需要ipykernel包。\n",
      "\u001b[1;31m运行以下命令，将 \"ipykernel\" 安装到 Python 环境中。\n",
      "\u001b[1;31m命令: \"d:/Application/python/python.exe -m pip install ipykernel -U --user --force-reinstall\""
     ]
    }
   ],
   "source": [
    "# 打印Hello, World!到屏幕    <-- 这行代码是注释，会被Python忽略\n",
    "print(\"Hello, World!\") # 要执行的语言\n"
   ]
  },
  {
   "cell_type": "code",
   "execution_count": 2,
   "metadata": {},
   "outputs": [
    {
     "name": "stdout",
     "output_type": "stream",
     "text": [
      "6\n"
     ]
    }
   ],
   "source": [
    "print(2*3)"
   ]
  },
  {
   "cell_type": "code",
   "execution_count": 3,
   "metadata": {},
   "outputs": [
    {
     "name": "stdout",
     "output_type": "stream",
     "text": [
      "5\n",
      "6\n"
     ]
    }
   ],
   "source": [
    "a = 2\n",
    "b = 3\n",
    "c = a + b\n",
    "print(c)\n",
    "c = a * b\n",
    "print(c)"
   ]
  },
  {
   "cell_type": "code",
   "execution_count": 4,
   "metadata": {
    "scrolled": true
   },
   "outputs": [
    {
     "name": "stdout",
     "output_type": "stream",
     "text": [
      "请输入带有符号的温度值: 50F\n",
      "转换后的温度是10.00C\n"
     ]
    }
   ],
   "source": [
    "#TempConvert.py\n",
    "TempStr = input(\"请输入带有符号的温度值: \")\n",
    "if TempStr[-1] in ['F', 'f']:\n",
    "    C = (eval(TempStr[0:-1]) - 32)/1.8\n",
    "    print(\"转换后的温度是{:.2f}C\".format(C))\n",
    "elif TempStr[-1] in ['C', 'c']:\n",
    "    F = 1.8*eval(TempStr[0:-1]) + 32\n",
    "    print(\"转换后的温度是{:.2f}F\".format(F))\n",
    "else:\n",
    "    print(\"输入格式错误\")"
   ]
  },
  {
   "cell_type": "code",
   "execution_count": 6,
   "metadata": {},
   "outputs": [
    {
     "name": "stdout",
     "output_type": "stream",
     "text": [
      "5\n",
      "True\n"
     ]
    }
   ],
   "source": [
    "a = 5\n",
    "print(a)\n",
    "print(a == 5)"
   ]
  },
  {
   "cell_type": "code",
   "execution_count": 7,
   "metadata": {},
   "outputs": [
    {
     "name": "stdout",
     "output_type": "stream",
     "text": [
      "10 12\n",
      "12 10\n"
     ]
    }
   ],
   "source": [
    "A = 10\n",
    "B = 12\n",
    "\n",
    "\n",
    "print(A, B)\n",
    "C = A\n",
    "A = B\n",
    "B = C\n",
    "print(A, B)"
   ]
  },
  {
   "cell_type": "code",
   "execution_count": 8,
   "metadata": {},
   "outputs": [
    {
     "name": "stdout",
     "output_type": "stream",
     "text": [
      "12 10\n",
      "10 12\n"
     ]
    }
   ],
   "source": [
    "print(A, B)\n",
    "A, B = B, A\n",
    "print(A, B)"
   ]
  },
  {
   "cell_type": "code",
   "execution_count": 9,
   "metadata": {},
   "outputs": [
    {
     "name": "stdout",
     "output_type": "stream",
     "text": [
      "10.0\n",
      "10.0\n"
     ]
    }
   ],
   "source": [
    "TempStr = \"50\"\n",
    "\n",
    "C = (eval(TempStr) - 32)/1.8\n",
    "print(C)\n",
    "\n",
    "C1 = (int(TempStr) - 32)/1.8\n",
    "print(C1)"
   ]
  },
  {
   "cell_type": "code",
   "execution_count": 10,
   "metadata": {},
   "outputs": [
    {
     "ename": "TypeError",
     "evalue": "unsupported operand type(s) for -: 'str' and 'int'",
     "output_type": "error",
     "traceback": [
      "\u001b[1;31m---------------------------------------------------------------------------\u001b[0m",
      "\u001b[1;31mTypeError\u001b[0m                                 Traceback (most recent call last)",
      "\u001b[1;32m<ipython-input-10-4a32ae7889e2>\u001b[0m in \u001b[0;36m<module>\u001b[1;34m\u001b[0m\n\u001b[0;32m      1\u001b[0m \u001b[0mTempStr\u001b[0m \u001b[1;33m=\u001b[0m \u001b[1;34m\"50\"\u001b[0m\u001b[1;33m\u001b[0m\u001b[1;33m\u001b[0m\u001b[0m\n\u001b[1;32m----> 2\u001b[1;33m \u001b[0mC\u001b[0m \u001b[1;33m=\u001b[0m \u001b[1;33m(\u001b[0m\u001b[0mTempStr\u001b[0m \u001b[1;33m-\u001b[0m \u001b[1;36m32\u001b[0m\u001b[1;33m)\u001b[0m\u001b[1;33m/\u001b[0m\u001b[1;36m1.8\u001b[0m\u001b[1;33m\u001b[0m\u001b[1;33m\u001b[0m\u001b[0m\n\u001b[0m",
      "\u001b[1;31mTypeError\u001b[0m: unsupported operand type(s) for -: 'str' and 'int'"
     ]
    }
   ],
   "source": [
    "TempStr = \"50\"\n",
    "C = (TempStr - 32)/1.8"
   ]
  },
  {
   "cell_type": "code",
   "execution_count": 11,
   "metadata": {},
   "outputs": [
    {
     "name": "stdout",
     "output_type": "stream",
     "text": [
      "The first number is10\n",
      "The second number is15\n",
      "The average number is 12.500000\n"
     ]
    }
   ],
   "source": [
    "num1 = input(\"The first number is\")\n",
    "num2 = input(\"The second number is\")\n",
    "avg_num = (float(num1) + float(num2)) /2\n",
    "print(\"The average number is %f\" % avg_num)"
   ]
  },
  {
   "cell_type": "code",
   "execution_count": 4,
   "metadata": {},
   "outputs": [],
   "source": [
    "import turtle\n",
    "\n",
    "turtle.setup(650 , 350, 200, 200)\n",
    "turtle.penup()\n",
    "turtle.fd(-250)\n",
    "turtle.pendown()\n",
    "turtle.pensize(25)\n",
    "turtle.pencolor(\"purple\")\n",
    "turtle.seth(-40)\n",
    "for i in range(4):\n",
    "    turtle.circle(40,80)\n",
    "    turtle.circle(-40, 80)\n",
    "    \n",
    "turtle.circle(40, 80/2)\n",
    "turtle.fd(40)\n",
    "turtle.circle(16,180)\n",
    "turtle.fd(40 * 2/3)\n",
    "turtle.done()\n"
   ]
  },
  {
   "cell_type": "code",
   "execution_count": 6,
   "metadata": {},
   "outputs": [],
   "source": [
    "import turtle as t\n",
    "\n",
    "t.setup(650 , 350, 200, 200)\n",
    "t.penup()\n",
    "t.fd(-250)\n",
    "t.pendown()\n",
    "t.pensize(25)\n",
    "t.pencolor(\"purple\")\n",
    "t.seth(-40)\n",
    "for i in range(4):\n",
    "    t.circle(40,80)\n",
    "    t.circle(-40, 80)\n",
    "    \n",
    "t.circle(40, 80/2)\n",
    "t.fd(40)\n",
    "t.circle(16,180)\n",
    "t.fd(40 * 2/3)\n",
    "t.done()"
   ]
  },
  {
   "attachments": {},
   "cell_type": "markdown",
   "metadata": {},
   "source": [
    "\n",
    "# 第二周第1次课\n",
    "## 《工智能与Python程序设计》——基本数据类型\n"
   ]
  },
  {
   "cell_type": "code",
   "execution_count": 27,
   "metadata": {},
   "outputs": [
    {
     "name": "stdout",
     "output_type": "stream",
     "text": [
      "2703763826271496729576234682033435790799558162689208984375\n"
     ]
    },
    {
     "data": {
      "text/plain": [
       "10714368571740915734427767689504050118656"
      ]
     },
     "execution_count": 27,
     "metadata": {},
     "output_type": "execute_result"
    }
   ],
   "source": [
    "print(pow(55,33))\n",
    "\n",
    "pow(66,22)"
   ]
  },
  {
   "cell_type": "code",
   "execution_count": 29,
   "metadata": {
    "scrolled": true
   },
   "outputs": [
    {
     "name": "stdout",
     "output_type": "stream",
     "text": [
      "17\n"
     ]
    }
   ],
   "source": [
    "a = 0x11\n",
    "print(a)"
   ]
  },
  {
   "cell_type": "code",
   "execution_count": 30,
   "metadata": {},
   "outputs": [
    {
     "name": "stdout",
     "output_type": "stream",
     "text": [
      "3\n",
      "9\n"
     ]
    }
   ],
   "source": [
    "print(0b11)\n",
    "print(0O11)"
   ]
  },
  {
   "cell_type": "code",
   "execution_count": 13,
   "metadata": {},
   "outputs": [
    {
     "name": "stdout",
     "output_type": "stream",
     "text": [
      "i =  141246703213942603683520966701614733366889617518454111681368808585711816984270751255808912631671152637335603208431366082764203838069979338335971185726639923431051777851865399011877999645131707069373498212631323752553111215372844035950900535954860733418453405575566736801565587405464699640499050849699472357900905617571376618228216434213181520991556677126498651782204174061830939239176861341383294018240225838692725596147005144243281075275629495339093813198966735633606329691023842454125835888656873133981287240980008838073668221804264432910894030789020219440578198488267339768238872279902157420307247570510423845868872596735891805818727796435753018518086641356012851302546726823009250218328018251907340245449863183265637987862198511046362985461949587281119139907228004385942880953958816554567625296086916885774828934449941362416588675326940332561103664556982622206834474219811081872404929503481991376740379825998791411879802717583885498575115299471743469241117070230398103378615232793710290992656444842895511830355733152020804157920090041811951880456705515468349446182731742327685989277607620709525878318766488368348965015474997864119765441433356928012344111765735336393557879214937004347568208665958717764059293592887514292843557047089164876483116615691886203812997555690171892169733755224469032475078797830901321579940127337210694377283439922280274060798234786740434893458120198341101033812506720046609891160700284002100980452964039788704335302619337597862052192280371481132164147186514169090917191909376\n"
     ]
    },
    {
     "ename": "OverflowError",
     "evalue": "int too large to convert to float",
     "output_type": "error",
     "traceback": [
      "\u001b[1;31m---------------------------------------------------------------------------\u001b[0m",
      "\u001b[1;31mOverflowError\u001b[0m                             Traceback (most recent call last)",
      "\u001b[1;32m<ipython-input-13-f3257e3833b4>\u001b[0m in \u001b[0;36m<module>\u001b[1;34m\u001b[0m\n\u001b[0;32m      2\u001b[0m \u001b[0mprint\u001b[0m\u001b[1;33m(\u001b[0m\u001b[1;34m\"i = \"\u001b[0m\u001b[1;33m,\u001b[0m \u001b[0mi\u001b[0m\u001b[1;33m)\u001b[0m\u001b[1;33m\u001b[0m\u001b[1;33m\u001b[0m\u001b[0m\n\u001b[0;32m      3\u001b[0m \u001b[1;33m\u001b[0m\u001b[0m\n\u001b[1;32m----> 4\u001b[1;33m \u001b[0mj\u001b[0m \u001b[1;33m=\u001b[0m \u001b[0mi\u001b[0m\u001b[1;33m/\u001b[0m\u001b[1;36m3.3\u001b[0m\u001b[1;33m\u001b[0m\u001b[1;33m\u001b[0m\u001b[0m\n\u001b[0m\u001b[0;32m      5\u001b[0m \u001b[0mprint\u001b[0m\u001b[1;33m(\u001b[0m\u001b[1;34m\"j = \"\u001b[0m\u001b[1;33m,\u001b[0m \u001b[0mj\u001b[0m\u001b[1;33m)\u001b[0m\u001b[1;33m\u001b[0m\u001b[1;33m\u001b[0m\u001b[0m\n",
      "\u001b[1;31mOverflowError\u001b[0m: int too large to convert to float"
     ]
    }
   ],
   "source": [
    "i = pow(2,5000)\n",
    "print(\"i = \", i)\n",
    "\n",
    "j = i/3.3\n",
    "print(\"j = \", j)"
   ]
  },
  {
   "cell_type": "code",
   "execution_count": 18,
   "metadata": {},
   "outputs": [
    {
     "name": "stdout",
     "output_type": "stream",
     "text": [
      "i =  1.0\n"
     ]
    }
   ],
   "source": [
    "i = 1.0 + pow(2,-5000)\n",
    "print(\"i = \", i)\n"
   ]
  },
  {
   "cell_type": "code",
   "execution_count": 19,
   "metadata": {},
   "outputs": [
    {
     "data": {
      "text/plain": [
       "sys.float_info(max=1.7976931348623157e+308, max_exp=1024, max_10_exp=308, min=2.2250738585072014e-308, min_exp=-1021, min_10_exp=-307, dig=15, mant_dig=53, epsilon=2.220446049250313e-16, radix=2, rounds=1)"
      ]
     },
     "execution_count": 19,
     "metadata": {},
     "output_type": "execute_result"
    }
   ],
   "source": [
    "# show system information\n",
    "import sys\n",
    "sys.float_info"
   ]
  },
  {
   "cell_type": "code",
   "execution_count": 20,
   "metadata": {},
   "outputs": [
    {
     "name": "stdout",
     "output_type": "stream",
     "text": [
      "430.0 430.0\n"
     ]
    }
   ],
   "source": [
    "i = 4.3e2\n",
    "j = 4.3 * pow(10, 2)\n",
    "print(i, j)"
   ]
  },
  {
   "cell_type": "code",
   "execution_count": 12,
   "metadata": {},
   "outputs": [
    {
     "name": "stdout",
     "output_type": "stream",
     "text": [
      "1.0 1.0\n",
      "0.0 2.0\n"
     ]
    }
   ],
   "source": [
    "z = 1.0 + 1.0j\n",
    "print(z.real, z.imag)\n",
    "\n",
    "z **= 2\n",
    "print(z.real, z.imag)"
   ]
  },
  {
   "cell_type": "code",
   "execution_count": 13,
   "metadata": {},
   "outputs": [
    {
     "name": "stdout",
     "output_type": "stream",
     "text": [
      "30.959144000000002\n",
      "30.959144000000002\n"
     ]
    }
   ],
   "source": [
    "x = 3.14\n",
    "x = x ** 3\n",
    "print (x)\n",
    "\n",
    "x = 3.14\n",
    "x **= 3\n",
    "print (x)\n"
   ]
  },
  {
   "cell_type": "code",
   "execution_count": 21,
   "metadata": {},
   "outputs": [
    {
     "name": "stdout",
     "output_type": "stream",
     "text": [
      "<class 'int'>\n",
      "5.5\n",
      "<class 'float'>\n"
     ]
    }
   ],
   "source": [
    "i = 5\n",
    "print(type(i))\n",
    "\n",
    "i = i + 0.5\n",
    "print(i)\n",
    "print(type(i))"
   ]
  },
  {
   "cell_type": "code",
   "execution_count": 24,
   "metadata": {},
   "outputs": [
    {
     "name": "stdout",
     "output_type": "stream",
     "text": [
      "<class 'int'>\n",
      "5.0\n",
      "<class 'float'>\n",
      "\n",
      "5\n",
      "<class 'int'>\n"
     ]
    }
   ],
   "source": [
    "i = 5\n",
    "print(type(i))\n",
    "i = float(i)\n",
    "print(i)\n",
    "print(type(i))\n",
    "\n",
    "print()\n",
    "i = i + 0.6\n",
    "i = int(i)\n",
    "print(i)\n",
    "print(type(i))"
   ]
  },
  {
   "cell_type": "code",
   "execution_count": 28,
   "metadata": {},
   "outputs": [
    {
     "name": "stdout",
     "output_type": "stream",
     "text": [
      "1.4142135623730951\n",
      "<class 'float'>\n"
     ]
    }
   ],
   "source": [
    "import math\n",
    "x = 2\n",
    "y = math.sqrt(2)\n",
    "print(y)\n",
    "print(type(y))"
   ]
  },
  {
   "cell_type": "code",
   "execution_count": 32,
   "metadata": {},
   "outputs": [
    {
     "name": "stdout",
     "output_type": "stream",
     "text": [
      "3.141592653589793\n",
      "-1.0\n",
      "0.5000000000000001\n"
     ]
    }
   ],
   "source": [
    "print(math.pi)\n",
    "y = math.cos(math.pi)\n",
    "print(y)\n",
    "z = math.cos(math.pi / 3)\n",
    "print(z)"
   ]
  },
  {
   "cell_type": "code",
   "execution_count": 35,
   "metadata": {},
   "outputs": [
    {
     "name": "stdout",
     "output_type": "stream",
     "text": [
      "向上：1.44，向下：0.69\n"
     ]
    }
   ],
   "source": [
    "import math\n",
    "ratio = 0.001\n",
    "dayup = math.pow(1 + ratio, 365) #day day up\n",
    "daydown = math.pow(1 - ratio, 365) # day day down\n",
    "print(\"向上：{:.2f}，向下：{:.2f}\".format(dayup, daydown))\n"
   ]
  },
  {
   "cell_type": "code",
   "execution_count": 14,
   "metadata": {},
   "outputs": [
    {
     "name": "stdout",
     "output_type": "stream",
     "text": [
      "输入年份: 2000\n",
      "2000年是闰年\n"
     ]
    }
   ],
   "source": [
    "#闰年\n",
    "\n",
    "y = int(input(\"输入年份: \"))\n",
    "#年份 y 能被 4 整除但是不能被 100 整除\n",
    "#或者：能被 400 整除\n",
    "if (y % 4 == 0 and y % 100 != 0) or (y % 400 == 0):\n",
    "    print(\"{0}年是闰年\".format(y))\n",
    "else:\n",
    "    print(\"{0}年不是闰年\".format(y))"
   ]
  },
  {
   "cell_type": "code",
   "execution_count": 16,
   "metadata": {},
   "outputs": [
    {
     "name": "stdout",
     "output_type": "stream",
     "text": [
      "256 256 64\n"
     ]
    }
   ],
   "source": [
    "a = 2 ** 2 ** 3\n",
    "b = 2 ** (2 ** 3)\n",
    "c = (2 ** 2) ** 3\n",
    "print(a, b, c)\n"
   ]
  },
  {
   "cell_type": "code",
   "execution_count": 39,
   "metadata": {},
   "outputs": [
    {
     "name": "stdout",
     "output_type": "stream",
     "text": [
      "<class 'str'> <class 'str'> <class 'str'>\n",
      "双引号字符串\n",
      "单引号字符串\n",
      "三引号字符串第一行\n",
      "\n",
      "三引号字符串第三行\n",
      "独立存在的字符串\n"
     ]
    }
   ],
   "source": [
    "str1 = \"双引号字符串\"\n",
    "str2 = '单引号字符串'\n",
    "str3 = '''三引号字符串第一行\n",
    "\n",
    "三引号字符串第三行'''\n",
    "print(type(str1), type(str2), type(str3))\n",
    "print(str1)\n",
    "print(str2)\n",
    "print(str3)\n",
    "\n",
    "\n",
    "print(\"独立存在的字符串\")"
   ]
  },
  {
   "cell_type": "code",
   "execution_count": 41,
   "metadata": {},
   "outputs": [
    {
     "name": "stdout",
     "output_type": "stream",
     "text": [
      "带\"的字符串\n",
      "带\\的字符串\n",
      "带\"和带\\的字符串\n"
     ]
    }
   ],
   "source": [
    "str4 = \"带\\\"的字符串\"\n",
    "str5 = \"带\\\\的字符串\"\n",
    "\n",
    "str6 = '''带\"和带\\的字符串'''\n",
    "\n",
    "print(str4)\n",
    "print(str5)\n",
    "print(str6)"
   ]
  },
  {
   "cell_type": "code",
   "execution_count": 44,
   "metadata": {},
   "outputs": [
    {
     "name": "stdout",
     "output_type": "stream",
     "text": [
      "e\n",
      "J\n",
      "10 n\n",
      "n\n",
      "J\n"
     ]
    }
   ],
   "source": [
    "greet = \"Hello John\"\n",
    "print(greet[1])\n",
    "\n",
    "x = 8\n",
    "print(greet[x - 2])\n",
    "\n",
    "L = len(greet)\n",
    "print(L, greet[L - 1])\n",
    "print(greet[-1])\n",
    "\n",
    "print(greet[-4])"
   ]
  },
  {
   "cell_type": "code",
   "execution_count": 57,
   "metadata": {},
   "outputs": [
    {
     "name": "stdout",
     "output_type": "stream",
     "text": [
      "Hello John\n",
      "Hel\n",
      "llo John\n",
      "Hell\n",
      "llo J\n",
      "\n",
      "\n"
     ]
    }
   ],
   "source": [
    "print(greet)\n",
    "print(greet[0:3]) #打印位置0-2的子串\n",
    "print(greet[2:]) #打印从位置2开始后面的子串\n",
    "print(greet[:4]) #打印位置0-3的子串\n",
    "print(greet[2:-3]) #前面去掉2个字符，后面去掉3个字符后的字符串\n",
    "\n",
    "print(greet[3:1])\n",
    "print(greet[9:-5])"
   ]
  },
  {
   "cell_type": "code",
   "execution_count": 58,
   "metadata": {},
   "outputs": [
    {
     "name": "stdout",
     "output_type": "stream",
     "text": [
      "pineapple\n",
      "pinepinepine\n",
      "pinepinepine\n"
     ]
    }
   ],
   "source": [
    "a = \"pine\"\n",
    "b = \"apple\"\n",
    "print(a + b)\n",
    "print(3 * a)\n",
    "print(a * 3)\n"
   ]
  },
  {
   "cell_type": "code",
   "execution_count": 62,
   "metadata": {},
   "outputs": [
    {
     "name": "stdout",
     "output_type": "stream",
     "text": [
      "3\n",
      "5\n"
     ]
    }
   ],
   "source": [
    "print(len(\"abc\"))\n",
    "print(len(\"海客谈瀛洲\"))\n"
   ]
  },
  {
   "cell_type": "code",
   "execution_count": 9,
   "metadata": {},
   "outputs": [
    {
     "name": "stdout",
     "output_type": "stream",
     "text": [
      "123.00123\n",
      "1230.00123\n"
     ]
    }
   ],
   "source": [
    "a = 123\n",
    "b = 123e-5\n",
    "print (a + b)\n",
    "\n",
    "str1 = str(123)\n",
    "str2 = str(123e-5)\n",
    "print(str1+str2)"
   ]
  },
  {
   "cell_type": "code",
   "execution_count": 10,
   "metadata": {},
   "outputs": [
    {
     "name": "stdout",
     "output_type": "stream",
     "text": [
      "海\n",
      "客\n",
      "谈\n",
      "瀛\n",
      "洲\n"
     ]
    }
   ],
   "source": [
    "string = \"海客谈瀛洲\"\n",
    "for c in string:\n",
    "    print(c)"
   ]
  },
  {
   "cell_type": "code",
   "execution_count": 11,
   "metadata": {},
   "outputs": [
    {
     "name": "stdout",
     "output_type": "stream",
     "text": [
      "Hello John\n",
      "Hello 中国人民大学\n",
      "HELLO 中国人民大学\n"
     ]
    }
   ],
   "source": [
    "str1 = \"Hello John\"\n",
    "str2 = str1.replace(\"John\", \"中国人民大学\")\n",
    "str3 = str2.upper()\n",
    "\n",
    "print(str1)\n",
    "print(str2)\n",
    "print(str3)"
   ]
  },
  {
   "cell_type": "code",
   "execution_count": 12,
   "metadata": {},
   "outputs": [
    {
     "name": "stdout",
     "output_type": "stream",
     "text": [
      "2020-9-15:12:12:30: 计算机Python的CPU占有率为10%。\n"
     ]
    }
   ],
   "source": [
    "pattern = \"{0}: 计算机{1}的CPU占有率为{2}%。\"\n",
    "\n",
    "string = pattern.format(\"2020-9-15:12:12:30\", \"Python\", 10)\n",
    "\n",
    "print(string)"
   ]
  },
  {
   "cell_type": "code",
   "execution_count": 13,
   "metadata": {},
   "outputs": [
    {
     "name": "stdout",
     "output_type": "stream",
     "text": [
      "2020-9-15:12:12:30            : 计算机************Python************的CPU占有率为1010%。\n"
     ]
    }
   ],
   "source": [
    "pattern = \"{0:30}: 计算机{1:*^30}的CPU占有率为{2:b}%。\"\n",
    "\n",
    "string = pattern.format(\"2020-9-15:12:12:30\", \"Python\", 10)\n",
    "\n",
    "print(string)"
   ]
  },
  {
   "cell_type": "code",
   "execution_count": 14,
   "metadata": {},
   "outputs": [
    {
     "name": "stdout",
     "output_type": "stream",
     "text": [
      "输入月份数(1-12)2\n",
      "Feb\n"
     ]
    }
   ],
   "source": [
    "months = \"JanFebMarAprMayJunJulAugSepOctNovDec\"\n",
    "n = int(input(\"输入月份数(1-12)\"))\n",
    "if n <= 0 or n > 12:\n",
    "    print(\"输入1-12的月份数。\")\n",
    "else:\n",
    "    pos = (n-1)*3 \n",
    "    print(months[pos:pos+3])"
   ]
  },
  {
   "cell_type": "code",
   "execution_count": 7,
   "metadata": {},
   "outputs": [
    {
     "name": "stdout",
     "output_type": "stream",
     "text": [
      "100%"
     ]
    }
   ],
   "source": [
    "\n",
    "import time\n",
    "for i in range (101):\n",
    "    print(\"\\r{:3}%\".format(i),end=\"\")\n",
    "    time.sleep(0.1)"
   ]
  },
  {
   "cell_type": "code",
   "execution_count": 9,
   "metadata": {},
   "outputs": [
    {
     "name": "stdout",
     "output_type": "stream",
     "text": [
      "0%%%"
     ]
    }
   ],
   "source": [
    "import time\n",
    "for i in range (101):\n",
    "    print(\"\\r{:}%\".format(100-i),end=\"\")\n",
    "    time.sleep(0.1)"
   ]
  },
  {
   "cell_type": "code",
   "execution_count": 11,
   "metadata": {},
   "outputs": [
    {
     "name": "stdout",
     "output_type": "stream",
     "text": [
      "------执行开始------\n",
      "%100[********************->]\n",
      "------执行结束------\n"
     ]
    }
   ],
   "source": [
    "import time\n",
    "scale = 10\n",
    "print(\"------执行开始------\")\n",
    "for i in range(scale + 1):\n",
    "    a = \"**\" * i\n",
    "    b = \"..\" * (scale - i)\n",
    "    c=(i / scale) * 100\n",
    "    print(\"\\r%{0:^3.0f}[{1}->{2}]\".format(c,a,b), end = \"\")\n",
    "    time.sleep(0.1)\n",
    "\n",
    "print(\"\\n------执行结束------\")"
   ]
  },
  {
   "cell_type": "code",
   "execution_count": 17,
   "metadata": {},
   "outputs": [
    {
     "name": "stdout",
     "output_type": "stream",
     "text": [
      "先打鱼，后晒网： 1.0755342600780824\n",
      "三天打鱼，两天晒网： 1.0755342600780813\n"
     ]
    }
   ],
   "source": [
    "import math\n",
    "ratio = 0.001\n",
    "updays = 365 * 3 / 5\n",
    "downdays = 365 * 2 / 5\n",
    "\n",
    "effect = 1 * math.pow(1 + ratio, updays)\n",
    "effect = effect * math.pow(1 - ratio, downdays) \n",
    "print(\"先打鱼，后晒网：\", effect)\n",
    "\n",
    "\n",
    "effect = 1\n",
    "for d in range(0, 365):\n",
    "    if d % 5 < 3:\n",
    "        effect = effect * (1 + ratio)\n",
    "    else:\n",
    "        effect = effect * (1 - ratio)\n",
    "\n",
    "print(\"三天打鱼，两天晒网：\", effect)\n"
   ]
  },
  {
   "cell_type": "code",
   "execution_count": 30,
   "metadata": {},
   "outputs": [
    {
     "name": "stdout",
     "output_type": "stream",
     "text": [
      "[0, 0.027777777777777776, 0.05555555555555555, 0.08333333333333333, 0.1111111111111111, 0.1388888888888889, 0.16666666666666669, 0.1388888888888889, 0.1111111111111111, 0.08333333333333333, 0.05555555555555555, 0]\n"
     ]
    }
   ],
   "source": [
    "f = [1/6, 1/6, 1/6, 1/6, 1/6, 1/6]\n",
    "g = [1/6, 1/6, 1/6, 1/6, 1/6, 1/6]\n",
    "\n",
    "\n",
    "conv = [0, 0, 0, 0, 0, 0, 0, 0, 0, 0, 0, 0]\n",
    "for k in range(1, 12):\n",
    "    conv[k-1] = 0\n",
    "    for m in range(1, k):\n",
    "        if k-m-1 < 0 or k-m-1 > 5 or m - 1 < 0 or m - 1 > 5:\n",
    "            continue\n",
    "        conv[k-1] += f[(k-m) - 1]*g[m - 1]\n",
    "print(conv)"
   ]
  },
  {
   "cell_type": "code",
   "execution_count": null,
   "metadata": {},
   "outputs": [],
   "source": []
  },
  {
   "cell_type": "code",
   "execution_count": null,
   "metadata": {},
   "outputs": [],
   "source": []
  }
 ],
 "metadata": {
  "kernelspec": {
   "display_name": "Python 3",
   "language": "python",
   "name": "python3"
  },
  "language_info": {
   "codemirror_mode": {
    "name": "ipython",
    "version": 3
   },
   "file_extension": ".py",
   "mimetype": "text/x-python",
   "name": "python",
   "nbconvert_exporter": "python",
   "pygments_lexer": "ipython3",
   "version": "3.12.8"
  }
 },
 "nbformat": 4,
 "nbformat_minor": 4
}
